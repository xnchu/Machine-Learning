{
 "cells": [
  {
   "cell_type": "markdown",
   "metadata": {},
   "source": [
    "# All Techniques of Hyper Parameter Optimization"
   ]
  },
  {
   "cell_type": "markdown",
   "metadata": {},
   "source": [
    "1. GridSearchCV\n",
    "2. RandomizedSearchCV\n",
    "3. Bayesian Optimization -Automate Hyperparameter Tuning (Hyperopt)\n",
    "4. Sequential Model Based Optimization(Tuning a scikit-learn estimator with skopt)\n",
    "4. Optuna- Automate Hyperparameter Tuning\n",
    "5. Genetic Algorithms (TPOT Classifier)"
   ]
  },
  {
   "cell_type": "code",
   "execution_count": 1,
   "metadata": {},
   "outputs": [],
   "source": [
    "import warnings\n",
    "warnings.filterwarnings('ignore')"
   ]
  },
  {
   "cell_type": "code",
   "execution_count": 2,
   "metadata": {},
   "outputs": [],
   "source": [
    "import pandas as pd \n",
    "\n",
    "df=pd.read_csv('diabetes.csv')"
   ]
  },
  {
   "cell_type": "code",
   "execution_count": 3,
   "metadata": {},
   "outputs": [
    {
     "data": {
      "text/plain": [
       "Pregnancies                 0\n",
       "Glucose                     0\n",
       "BloodPressure               0\n",
       "SkinThickness               0\n",
       "Insulin                     0\n",
       "BMI                         0\n",
       "DiabetesPedigreeFunction    0\n",
       "Age                         0\n",
       "Outcome                     0\n",
       "dtype: int64"
      ]
     },
     "execution_count": 3,
     "metadata": {},
     "output_type": "execute_result"
    }
   ],
   "source": [
    "df.isnull().sum()"
   ]
  },
  {
   "cell_type": "code",
   "execution_count": 4,
   "metadata": {},
   "outputs": [
    {
     "data": {
      "text/html": [
       "<div>\n",
       "<style scoped>\n",
       "    .dataframe tbody tr th:only-of-type {\n",
       "        vertical-align: middle;\n",
       "    }\n",
       "\n",
       "    .dataframe tbody tr th {\n",
       "        vertical-align: top;\n",
       "    }\n",
       "\n",
       "    .dataframe thead th {\n",
       "        text-align: right;\n",
       "    }\n",
       "</style>\n",
       "<table border=\"1\" class=\"dataframe\">\n",
       "  <thead>\n",
       "    <tr style=\"text-align: right;\">\n",
       "      <th></th>\n",
       "      <th>Pregnancies</th>\n",
       "      <th>Glucose</th>\n",
       "      <th>BloodPressure</th>\n",
       "      <th>SkinThickness</th>\n",
       "      <th>Insulin</th>\n",
       "      <th>BMI</th>\n",
       "      <th>DiabetesPedigreeFunction</th>\n",
       "      <th>Age</th>\n",
       "      <th>Outcome</th>\n",
       "    </tr>\n",
       "  </thead>\n",
       "  <tbody>\n",
       "    <tr>\n",
       "      <th>0</th>\n",
       "      <td>6</td>\n",
       "      <td>148.0</td>\n",
       "      <td>72</td>\n",
       "      <td>30.5</td>\n",
       "      <td>30.5</td>\n",
       "      <td>33.6</td>\n",
       "      <td>0.627</td>\n",
       "      <td>50</td>\n",
       "      <td>1</td>\n",
       "    </tr>\n",
       "    <tr>\n",
       "      <th>1</th>\n",
       "      <td>1</td>\n",
       "      <td>85.0</td>\n",
       "      <td>66</td>\n",
       "      <td>30.5</td>\n",
       "      <td>30.5</td>\n",
       "      <td>26.6</td>\n",
       "      <td>0.351</td>\n",
       "      <td>31</td>\n",
       "      <td>0</td>\n",
       "    </tr>\n",
       "    <tr>\n",
       "      <th>2</th>\n",
       "      <td>8</td>\n",
       "      <td>183.0</td>\n",
       "      <td>64</td>\n",
       "      <td>23.0</td>\n",
       "      <td>30.5</td>\n",
       "      <td>23.3</td>\n",
       "      <td>0.672</td>\n",
       "      <td>32</td>\n",
       "      <td>1</td>\n",
       "    </tr>\n",
       "    <tr>\n",
       "      <th>3</th>\n",
       "      <td>1</td>\n",
       "      <td>89.0</td>\n",
       "      <td>66</td>\n",
       "      <td>94.0</td>\n",
       "      <td>94.0</td>\n",
       "      <td>28.1</td>\n",
       "      <td>0.167</td>\n",
       "      <td>21</td>\n",
       "      <td>0</td>\n",
       "    </tr>\n",
       "    <tr>\n",
       "      <th>4</th>\n",
       "      <td>0</td>\n",
       "      <td>137.0</td>\n",
       "      <td>40</td>\n",
       "      <td>168.0</td>\n",
       "      <td>168.0</td>\n",
       "      <td>43.1</td>\n",
       "      <td>2.288</td>\n",
       "      <td>33</td>\n",
       "      <td>1</td>\n",
       "    </tr>\n",
       "  </tbody>\n",
       "</table>\n",
       "</div>"
      ],
      "text/plain": [
       "   Pregnancies  Glucose  BloodPressure  SkinThickness  Insulin   BMI  \\\n",
       "0            6    148.0             72           30.5     30.5  33.6   \n",
       "1            1     85.0             66           30.5     30.5  26.6   \n",
       "2            8    183.0             64           23.0     30.5  23.3   \n",
       "3            1     89.0             66           94.0     94.0  28.1   \n",
       "4            0    137.0             40          168.0    168.0  43.1   \n",
       "\n",
       "   DiabetesPedigreeFunction  Age  Outcome  \n",
       "0                     0.627   50        1  \n",
       "1                     0.351   31        0  \n",
       "2                     0.672   32        1  \n",
       "3                     0.167   21        0  \n",
       "4                     2.288   33        1  "
      ]
     },
     "execution_count": 4,
     "metadata": {},
     "output_type": "execute_result"
    }
   ],
   "source": [
    "import numpy as np\n",
    "\n",
    "df['Glucose']=np.where(df['Glucose']==0,df['Glucose'].median(),df['Glucose'])\n",
    "df['Insulin']=np.where(df['Insulin']==0,df['Insulin'].median(),df['Insulin'])\n",
    "df['SkinThickness']=np.where(df['SkinThickness']==0,df['SkinThickness'].median(),df['Insulin'])\n",
    "df.head()"
   ]
  },
  {
   "cell_type": "code",
   "execution_count": 5,
   "metadata": {},
   "outputs": [],
   "source": [
    "X=df.drop('Outcome',axis=1)\n",
    "y=df['Outcome']"
   ]
  },
  {
   "cell_type": "code",
   "execution_count": 6,
   "metadata": {},
   "outputs": [
    {
     "data": {
      "text/html": [
       "<div>\n",
       "<style scoped>\n",
       "    .dataframe tbody tr th:only-of-type {\n",
       "        vertical-align: middle;\n",
       "    }\n",
       "\n",
       "    .dataframe tbody tr th {\n",
       "        vertical-align: top;\n",
       "    }\n",
       "\n",
       "    .dataframe thead th {\n",
       "        text-align: right;\n",
       "    }\n",
       "</style>\n",
       "<table border=\"1\" class=\"dataframe\">\n",
       "  <thead>\n",
       "    <tr style=\"text-align: right;\">\n",
       "      <th></th>\n",
       "      <th>Pregnancies</th>\n",
       "      <th>Glucose</th>\n",
       "      <th>BloodPressure</th>\n",
       "      <th>SkinThickness</th>\n",
       "      <th>Insulin</th>\n",
       "      <th>BMI</th>\n",
       "      <th>DiabetesPedigreeFunction</th>\n",
       "      <th>Age</th>\n",
       "    </tr>\n",
       "  </thead>\n",
       "  <tbody>\n",
       "    <tr>\n",
       "      <th>0</th>\n",
       "      <td>6</td>\n",
       "      <td>148.0</td>\n",
       "      <td>72</td>\n",
       "      <td>30.5</td>\n",
       "      <td>30.5</td>\n",
       "      <td>33.6</td>\n",
       "      <td>0.627</td>\n",
       "      <td>50</td>\n",
       "    </tr>\n",
       "    <tr>\n",
       "      <th>1</th>\n",
       "      <td>1</td>\n",
       "      <td>85.0</td>\n",
       "      <td>66</td>\n",
       "      <td>30.5</td>\n",
       "      <td>30.5</td>\n",
       "      <td>26.6</td>\n",
       "      <td>0.351</td>\n",
       "      <td>31</td>\n",
       "    </tr>\n",
       "    <tr>\n",
       "      <th>2</th>\n",
       "      <td>8</td>\n",
       "      <td>183.0</td>\n",
       "      <td>64</td>\n",
       "      <td>23.0</td>\n",
       "      <td>30.5</td>\n",
       "      <td>23.3</td>\n",
       "      <td>0.672</td>\n",
       "      <td>32</td>\n",
       "    </tr>\n",
       "    <tr>\n",
       "      <th>3</th>\n",
       "      <td>1</td>\n",
       "      <td>89.0</td>\n",
       "      <td>66</td>\n",
       "      <td>94.0</td>\n",
       "      <td>94.0</td>\n",
       "      <td>28.1</td>\n",
       "      <td>0.167</td>\n",
       "      <td>21</td>\n",
       "    </tr>\n",
       "    <tr>\n",
       "      <th>4</th>\n",
       "      <td>0</td>\n",
       "      <td>137.0</td>\n",
       "      <td>40</td>\n",
       "      <td>168.0</td>\n",
       "      <td>168.0</td>\n",
       "      <td>43.1</td>\n",
       "      <td>2.288</td>\n",
       "      <td>33</td>\n",
       "    </tr>\n",
       "  </tbody>\n",
       "</table>\n",
       "</div>"
      ],
      "text/plain": [
       "   Pregnancies  Glucose  BloodPressure  SkinThickness  Insulin   BMI  \\\n",
       "0            6    148.0             72           30.5     30.5  33.6   \n",
       "1            1     85.0             66           30.5     30.5  26.6   \n",
       "2            8    183.0             64           23.0     30.5  23.3   \n",
       "3            1     89.0             66           94.0     94.0  28.1   \n",
       "4            0    137.0             40          168.0    168.0  43.1   \n",
       "\n",
       "   DiabetesPedigreeFunction  Age  \n",
       "0                     0.627   50  \n",
       "1                     0.351   31  \n",
       "2                     0.672   32  \n",
       "3                     0.167   21  \n",
       "4                     2.288   33  "
      ]
     },
     "execution_count": 6,
     "metadata": {},
     "output_type": "execute_result"
    }
   ],
   "source": [
    "X.head()"
   ]
  },
  {
   "cell_type": "code",
   "execution_count": 7,
   "metadata": {
    "scrolled": true
   },
   "outputs": [
    {
     "data": {
      "text/plain": [
       "0    1\n",
       "1    0\n",
       "2    1\n",
       "3    0\n",
       "4    1\n",
       "Name: Outcome, dtype: int64"
      ]
     },
     "execution_count": 7,
     "metadata": {},
     "output_type": "execute_result"
    }
   ],
   "source": [
    "y.head()"
   ]
  },
  {
   "cell_type": "code",
   "execution_count": 8,
   "metadata": {},
   "outputs": [],
   "source": [
    "from sklearn.model_selection import train_test_split\n",
    "\n",
    "X_train,X_test,y_train,y_test=train_test_split(X,y,test_size=0.3,random_state=0)"
   ]
  },
  {
   "cell_type": "code",
   "execution_count": 9,
   "metadata": {},
   "outputs": [],
   "source": [
    "from sklearn.ensemble import RandomForestClassifier\n",
    "\n",
    "rf=RandomForestClassifier(n_estimators=10).fit(X_train,y_train)\n",
    "\n",
    "prediction=rf.predict(X_test)"
   ]
  },
  {
   "cell_type": "code",
   "execution_count": 10,
   "metadata": {},
   "outputs": [
    {
     "data": {
      "text/plain": [
       "0    500\n",
       "1    268\n",
       "Name: Outcome, dtype: int64"
      ]
     },
     "execution_count": 10,
     "metadata": {},
     "output_type": "execute_result"
    }
   ],
   "source": [
    "y.value_counts()"
   ]
  },
  {
   "cell_type": "code",
   "execution_count": 11,
   "metadata": {
    "scrolled": true
   },
   "outputs": [
    {
     "name": "stdout",
     "output_type": "stream",
     "text": [
      "0.7922077922077922\n",
      "[[141  16]\n",
      " [ 32  42]]\n",
      "              precision    recall  f1-score   support\n",
      "\n",
      "           0       0.82      0.90      0.85       157\n",
      "           1       0.72      0.57      0.64        74\n",
      "\n",
      "    accuracy                           0.79       231\n",
      "   macro avg       0.77      0.73      0.75       231\n",
      "weighted avg       0.79      0.79      0.78       231\n",
      "\n"
     ]
    }
   ],
   "source": [
    "from sklearn.metrics import accuracy_score,confusion_matrix,classification_report\n",
    "\n",
    "print(accuracy_score(y_test,prediction))\n",
    "\n",
    "print(confusion_matrix(y_test,prediction))\n",
    "\n",
    "print(classification_report(y_test,prediction))"
   ]
  },
  {
   "cell_type": "markdown",
   "metadata": {},
   "source": [
    "#### The main parameters used by a Random Forest Classifier are:\n",
    "\n",
    "1. criterion = the function used to evaluate the quality of a split.\n",
    "2. max_depth = maximum number of levels allowed in each tree.\n",
    "3. max_features = maximum number of features considered when splitting a node.\n",
    "4. min_samples_leaf = minimum number of samples which can be stored in a tree leaf.\n",
    "5. min_samples_split = minimum number of samples necessary in a node to cause node splitting.\n",
    "6. n_estimators = number of trees in the ensamble."
   ]
  },
  {
   "cell_type": "markdown",
   "metadata": {},
   "source": [
    "### Manual Hyper parameter tuning "
   ]
  },
  {
   "cell_type": "code",
   "execution_count": 12,
   "metadata": {
    "scrolled": true
   },
   "outputs": [
    {
     "name": "stdout",
     "output_type": "stream",
     "text": [
      "[[143  14]\n",
      " [ 38  36]]\n",
      "0.7748917748917749\n",
      "              precision    recall  f1-score   support\n",
      "\n",
      "           0       0.79      0.91      0.85       157\n",
      "           1       0.72      0.49      0.58        74\n",
      "\n",
      "    accuracy                           0.77       231\n",
      "   macro avg       0.76      0.70      0.71       231\n",
      "weighted avg       0.77      0.77      0.76       231\n",
      "\n"
     ]
    }
   ],
   "source": [
    "model=RandomForestClassifier(n_estimators=300,criterion='entropy',\n",
    "                             max_features='sqrt',min_samples_leaf=10,random_state=100).fit(X_train,y_train)\n",
    "predictions=model.predict(X_test)\n",
    "\n",
    "print(confusion_matrix(y_test,predictions))\n",
    "\n",
    "print(accuracy_score(y_test,predictions))\n",
    "\n",
    "print(classification_report(y_test,predictions))"
   ]
  },
  {
   "cell_type": "markdown",
   "metadata": {},
   "source": [
    "### Randomized Search CV"
   ]
  },
  {
   "cell_type": "code",
   "execution_count": 13,
   "metadata": {},
   "outputs": [
    {
     "name": "stdout",
     "output_type": "stream",
     "text": [
      "{'n_estimators': [200, 400, 600, 800, 1000, 1200, 1400, 1600, 1800, 2000], 'max_features': ['auto', 'sqrt', 'log2'], 'max_depth': [10, 120, 230, 340, 450, 560, 670, 780, 890, 1000], 'min_samples_split': [2, 5, 10, 14], 'min_samples_leaf': [1, 2, 4, 6, 8], 'criterion': ['entropy', 'gini']}\n"
     ]
    }
   ],
   "source": [
    "import numpy as np\n",
    "from sklearn.model_selection import RandomizedSearchCV\n",
    "\n",
    "# Number of trees in random forest\n",
    "n_estimators = [int(x) for x in np.linspace(start = 200, stop = 2000, num = 10)]\n",
    "\n",
    "# Number of features to consider at every split\n",
    "max_features = ['auto', 'sqrt','log2']\n",
    "\n",
    "# Maximum number of levels in tree\n",
    "max_depth = [int(x) for x in np.linspace(10, 1000,10)]\n",
    "\n",
    "# Minimum number of samples required to split a node\n",
    "min_samples_split = [2, 5, 10,14]\n",
    "\n",
    "# Minimum number of samples required at each leaf node\n",
    "min_samples_leaf = [1, 2, 4,6,8]\n",
    "\n",
    "# Create the random grid\n",
    "random_grid = {'n_estimators': n_estimators,\n",
    "               'max_features': max_features,\n",
    "               'max_depth': max_depth,\n",
    "               'min_samples_split': min_samples_split,\n",
    "               'min_samples_leaf': min_samples_leaf,\n",
    "              'criterion':['entropy','gini']}\n",
    "print(random_grid)"
   ]
  },
  {
   "cell_type": "code",
   "execution_count": 14,
   "metadata": {},
   "outputs": [
    {
     "name": "stdout",
     "output_type": "stream",
     "text": [
      "Fitting 3 folds for each of 100 candidates, totalling 300 fits\n"
     ]
    },
    {
     "data": {
      "text/plain": [
       "RandomizedSearchCV(cv=3, estimator=RandomForestClassifier(), n_iter=100,\n",
       "                   n_jobs=-1,\n",
       "                   param_distributions={'criterion': ['entropy', 'gini'],\n",
       "                                        'max_depth': [10, 120, 230, 340, 450,\n",
       "                                                      560, 670, 780, 890,\n",
       "                                                      1000],\n",
       "                                        'max_features': ['auto', 'sqrt',\n",
       "                                                         'log2'],\n",
       "                                        'min_samples_leaf': [1, 2, 4, 6, 8],\n",
       "                                        'min_samples_split': [2, 5, 10, 14],\n",
       "                                        'n_estimators': [200, 400, 600, 800,\n",
       "                                                         1000, 1200, 1400, 1600,\n",
       "                                                         1800, 2000]},\n",
       "                   random_state=100, verbose=2)"
      ]
     },
     "execution_count": 14,
     "metadata": {},
     "output_type": "execute_result"
    }
   ],
   "source": [
    "rf=RandomForestClassifier()\n",
    "rf_randomcv=RandomizedSearchCV(estimator=rf,param_distributions=random_grid,n_iter=100,cv=3,verbose=2,\n",
    "                               random_state=100,n_jobs=-1)\n",
    "### fit the randomized model\n",
    "rf_randomcv.fit(X_train,y_train)"
   ]
  },
  {
   "cell_type": "code",
   "execution_count": 15,
   "metadata": {},
   "outputs": [
    {
     "data": {
      "text/plain": [
       "{'n_estimators': 800,\n",
       " 'min_samples_split': 14,\n",
       " 'min_samples_leaf': 8,\n",
       " 'max_features': 'auto',\n",
       " 'max_depth': 890,\n",
       " 'criterion': 'entropy'}"
      ]
     },
     "execution_count": 15,
     "metadata": {},
     "output_type": "execute_result"
    }
   ],
   "source": [
    "rf_randomcv.best_params_"
   ]
  },
  {
   "cell_type": "code",
   "execution_count": 16,
   "metadata": {},
   "outputs": [
    {
     "data": {
      "text/plain": [
       "RandomizedSearchCV(cv=3, estimator=RandomForestClassifier(), n_iter=100,\n",
       "                   n_jobs=-1,\n",
       "                   param_distributions={'criterion': ['entropy', 'gini'],\n",
       "                                        'max_depth': [10, 120, 230, 340, 450,\n",
       "                                                      560, 670, 780, 890,\n",
       "                                                      1000],\n",
       "                                        'max_features': ['auto', 'sqrt',\n",
       "                                                         'log2'],\n",
       "                                        'min_samples_leaf': [1, 2, 4, 6, 8],\n",
       "                                        'min_samples_split': [2, 5, 10, 14],\n",
       "                                        'n_estimators': [200, 400, 600, 800,\n",
       "                                                         1000, 1200, 1400, 1600,\n",
       "                                                         1800, 2000]},\n",
       "                   random_state=100, verbose=2)"
      ]
     },
     "execution_count": 16,
     "metadata": {},
     "output_type": "execute_result"
    }
   ],
   "source": [
    "rf_randomcv"
   ]
  },
  {
   "cell_type": "code",
   "execution_count": 17,
   "metadata": {},
   "outputs": [],
   "source": [
    "best_random_grid=rf_randomcv.best_estimator_"
   ]
  },
  {
   "cell_type": "code",
   "execution_count": 18,
   "metadata": {},
   "outputs": [
    {
     "name": "stdout",
     "output_type": "stream",
     "text": [
      "[[142  15]\n",
      " [ 35  39]]\n",
      "Accuracy Score 0.7835497835497836\n",
      "Classification report:               precision    recall  f1-score   support\n",
      "\n",
      "           0       0.80      0.90      0.85       157\n",
      "           1       0.72      0.53      0.61        74\n",
      "\n",
      "    accuracy                           0.78       231\n",
      "   macro avg       0.76      0.72      0.73       231\n",
      "weighted avg       0.78      0.78      0.77       231\n",
      "\n"
     ]
    }
   ],
   "source": [
    "from sklearn.metrics import accuracy_score\n",
    "y_pred=best_random_grid.predict(X_test)\n",
    "print(confusion_matrix(y_test,y_pred))\n",
    "print(\"Accuracy Score {}\".format(accuracy_score(y_test,y_pred)))\n",
    "print(\"Classification report: {}\".format(classification_report(y_test,y_pred)))"
   ]
  },
  {
   "cell_type": "markdown",
   "metadata": {},
   "source": [
    "## Grid Search CV"
   ]
  },
  {
   "cell_type": "code",
   "execution_count": 19,
   "metadata": {},
   "outputs": [
    {
     "data": {
      "text/plain": [
       "{'n_estimators': 800,\n",
       " 'min_samples_split': 14,\n",
       " 'min_samples_leaf': 8,\n",
       " 'max_features': 'auto',\n",
       " 'max_depth': 890,\n",
       " 'criterion': 'entropy'}"
      ]
     },
     "execution_count": 19,
     "metadata": {},
     "output_type": "execute_result"
    }
   ],
   "source": [
    "rf_randomcv.best_params_"
   ]
  },
  {
   "cell_type": "code",
   "execution_count": 20,
   "metadata": {},
   "outputs": [],
   "source": [
    "from sklearn.model_selection import GridSearchCV"
   ]
  },
  {
   "cell_type": "code",
   "execution_count": 21,
   "metadata": {},
   "outputs": [
    {
     "name": "stdout",
     "output_type": "stream",
     "text": [
      "{'criterion': ['entropy'], 'max_depth': [890], 'max_features': ['auto'], 'min_samples_leaf': [8, 10, 12], 'min_samples_split': [12, 13, 14, 15, 16], 'n_estimators': [600, 700, 800, 900, 1000]}\n"
     ]
    }
   ],
   "source": [
    "param_grid = {\n",
    "    'criterion': [rf_randomcv.best_params_['criterion']],\n",
    "    'max_depth': [rf_randomcv.best_params_['max_depth']],\n",
    "    'max_features': [rf_randomcv.best_params_['max_features']],\n",
    "    'min_samples_leaf': [rf_randomcv.best_params_['min_samples_leaf'],\n",
    "                         rf_randomcv.best_params_['min_samples_leaf']+2, \n",
    "                         rf_randomcv.best_params_['min_samples_leaf'] + 4],\n",
    "    'min_samples_split': [rf_randomcv.best_params_['min_samples_split'] - 2,\n",
    "                          rf_randomcv.best_params_['min_samples_split'] - 1,\n",
    "                          rf_randomcv.best_params_['min_samples_split'], \n",
    "                          rf_randomcv.best_params_['min_samples_split'] +1,\n",
    "                          rf_randomcv.best_params_['min_samples_split'] + 2],\n",
    "    'n_estimators': [rf_randomcv.best_params_['n_estimators'] - 200, rf_randomcv.best_params_['n_estimators'] - 100, \n",
    "                     rf_randomcv.best_params_['n_estimators'], \n",
    "                     rf_randomcv.best_params_['n_estimators'] + 100, rf_randomcv.best_params_['n_estimators'] + 200]\n",
    "}\n",
    "\n",
    "print(param_grid)"
   ]
  },
  {
   "cell_type": "code",
   "execution_count": 22,
   "metadata": {},
   "outputs": [
    {
     "name": "stdout",
     "output_type": "stream",
     "text": [
      "Fitting 10 folds for each of 75 candidates, totalling 750 fits\n"
     ]
    },
    {
     "data": {
      "text/plain": [
       "GridSearchCV(cv=10, estimator=RandomForestClassifier(), n_jobs=-1,\n",
       "             param_grid={'criterion': ['entropy'], 'max_depth': [890],\n",
       "                         'max_features': ['auto'],\n",
       "                         'min_samples_leaf': [8, 10, 12],\n",
       "                         'min_samples_split': [12, 13, 14, 15, 16],\n",
       "                         'n_estimators': [600, 700, 800, 900, 1000]},\n",
       "             verbose=2)"
      ]
     },
     "execution_count": 22,
     "metadata": {},
     "output_type": "execute_result"
    }
   ],
   "source": [
    "#### Fit the grid_search to the data\n",
    "rf=RandomForestClassifier()\n",
    "grid_search=GridSearchCV(estimator=rf,param_grid=param_grid,cv=10,n_jobs=-1,verbose=2)\n",
    "grid_search.fit(X_train,y_train)"
   ]
  },
  {
   "cell_type": "code",
   "execution_count": 23,
   "metadata": {},
   "outputs": [
    {
     "data": {
      "text/plain": [
       "RandomForestClassifier(criterion='entropy', max_depth=890, min_samples_leaf=12,\n",
       "                       min_samples_split=15, n_estimators=700)"
      ]
     },
     "execution_count": 23,
     "metadata": {},
     "output_type": "execute_result"
    }
   ],
   "source": [
    "grid_search.best_estimator_"
   ]
  },
  {
   "cell_type": "code",
   "execution_count": 24,
   "metadata": {},
   "outputs": [],
   "source": [
    "best_grid=grid_search.best_estimator_"
   ]
  },
  {
   "cell_type": "code",
   "execution_count": 25,
   "metadata": {},
   "outputs": [
    {
     "data": {
      "text/plain": [
       "RandomForestClassifier(criterion='entropy', max_depth=890, min_samples_leaf=12,\n",
       "                       min_samples_split=15, n_estimators=700)"
      ]
     },
     "execution_count": 25,
     "metadata": {},
     "output_type": "execute_result"
    }
   ],
   "source": [
    "best_grid"
   ]
  },
  {
   "cell_type": "code",
   "execution_count": 26,
   "metadata": {},
   "outputs": [
    {
     "name": "stdout",
     "output_type": "stream",
     "text": [
      "[[143  14]\n",
      " [ 38  36]]\n",
      "Accuracy Score 0.7748917748917749\n",
      "Classification report:               precision    recall  f1-score   support\n",
      "\n",
      "           0       0.79      0.91      0.85       157\n",
      "           1       0.72      0.49      0.58        74\n",
      "\n",
      "    accuracy                           0.77       231\n",
      "   macro avg       0.76      0.70      0.71       231\n",
      "weighted avg       0.77      0.77      0.76       231\n",
      "\n"
     ]
    }
   ],
   "source": [
    "y_pred=best_grid.predict(X_test)\n",
    "print(confusion_matrix(y_test,y_pred))\n",
    "print(\"Accuracy Score {}\".format(accuracy_score(y_test,y_pred)))\n",
    "print(\"Classification report: {}\".format(classification_report(y_test,y_pred)))"
   ]
  },
  {
   "cell_type": "markdown",
   "metadata": {},
   "source": [
    "## Automated Hyperparameter Tuning\n",
    "\n",
    "\n",
    "\n",
    "### Automated Hyperparameter Tuning can be done by using techniques such as\n",
    "\n",
    "1. Bayesian Optimization\n",
    "2. Gradient Descent\n",
    "3. Evolutionary Algorithms\n",
    "\n",
    "\n",
    "### Bayesian Optimization\n",
    "\n",
    "Bayesian optimization uses probability to find the minimum of a function. The final aim is to find the input value to a function which can gives us the lowest possible output value.It usually performs better than random,grid and manual search providing better performance in the testing phase and reduced optimization time. In Hyperopt, Bayesian Optimization can be implemented giving 3 three main parameters to the function fmin.\n",
    "\n",
    "1. Objective Function = defines the loss function to minimize.\n",
    "2. Domain Space = defines the range of input values to test (in Bayesian \n",
    "3. Optimization this space creates a probability distribution for each of the used Hyperparameters).\n",
    "4. Optimization Algorithm = defines the search algorithm to use to select the best input values to use in each new iteration."
   ]
  },
  {
   "cell_type": "code",
   "execution_count": 27,
   "metadata": {},
   "outputs": [],
   "source": [
    "from hyperopt import hp,fmin,tpe,STATUS_OK,Trials"
   ]
  },
  {
   "cell_type": "code",
   "execution_count": 28,
   "metadata": {},
   "outputs": [],
   "source": [
    "space = {'criterion': hp.choice('criterion', ['entropy', 'gini']),\n",
    "        'max_depth': hp.quniform('max_depth', 10, 1200, 10),\n",
    "        'max_features': hp.choice('max_features', ['auto', 'sqrt','log2', None]),\n",
    "        'min_samples_leaf': hp.uniform('min_samples_leaf', 0, 0.5),\n",
    "        'min_samples_split' : hp.uniform ('min_samples_split', 0, 1),\n",
    "        'n_estimators' : hp.choice('n_estimators', [10, 50, 300, 750, 1200,1300,1500])\n",
    "    }"
   ]
  },
  {
   "cell_type": "code",
   "execution_count": 29,
   "metadata": {},
   "outputs": [
    {
     "data": {
      "text/plain": [
       "{'criterion': <hyperopt.pyll.base.Apply at 0xacd04ba430>,\n",
       " 'max_depth': <hyperopt.pyll.base.Apply at 0xacd04ba5e0>,\n",
       " 'max_features': <hyperopt.pyll.base.Apply at 0xacd04ba700>,\n",
       " 'min_samples_leaf': <hyperopt.pyll.base.Apply at 0xacd04ba8e0>,\n",
       " 'min_samples_split': <hyperopt.pyll.base.Apply at 0xacd04baa00>,\n",
       " 'n_estimators': <hyperopt.pyll.base.Apply at 0xacd04baaf0>}"
      ]
     },
     "execution_count": 29,
     "metadata": {},
     "output_type": "execute_result"
    }
   ],
   "source": [
    "space"
   ]
  },
  {
   "cell_type": "code",
   "execution_count": 30,
   "metadata": {},
   "outputs": [],
   "source": [
    "def objective(space):\n",
    "    model = RandomForestClassifier(criterion = space['criterion'], max_depth = space['max_depth'],\n",
    "                                 max_features = space['max_features'],\n",
    "                                 min_samples_leaf = space['min_samples_leaf'],\n",
    "                                 min_samples_split = space['min_samples_split'],\n",
    "                                 n_estimators = space['n_estimators'], \n",
    "                                 )\n",
    "    \n",
    "    accuracy = cross_val_score(model, X_train, y_train, cv = 5).mean()\n",
    "\n",
    "    # We aim to maximize accuracy, therefore we return it as a negative value\n",
    "    return {'loss': -accuracy, 'status': STATUS_OK }"
   ]
  },
  {
   "cell_type": "code",
   "execution_count": 31,
   "metadata": {},
   "outputs": [
    {
     "name": "stdout",
     "output_type": "stream",
     "text": [
      "100%|███████████████████████████████████████████████| 80/80 [10:22<00:00,  7.78s/trial, best loss: -0.7727760470751125]\n"
     ]
    },
    {
     "data": {
      "text/plain": [
       "{'criterion': 1,\n",
       " 'max_depth': 190.0,\n",
       " 'max_features': 2,\n",
       " 'min_samples_leaf': 0.03504132642903181,\n",
       " 'min_samples_split': 0.2821628938186667,\n",
       " 'n_estimators': 3}"
      ]
     },
     "execution_count": 31,
     "metadata": {},
     "output_type": "execute_result"
    }
   ],
   "source": [
    "from sklearn.model_selection import cross_val_score\n",
    "\n",
    "trials=Trials()\n",
    "best = fmin(fn= objective,space=space,algo=tpe.suggest,max_evals=80,trials=trials)\n",
    "\n",
    "best"
   ]
  },
  {
   "cell_type": "code",
   "execution_count": 32,
   "metadata": {},
   "outputs": [
    {
     "name": "stdout",
     "output_type": "stream",
     "text": [
      "gini\n",
      "log2\n",
      "750\n"
     ]
    }
   ],
   "source": [
    "crit = {0: 'entropy', 1: 'gini'}\n",
    "feat = {0: 'auto', 1: 'sqrt', 2: 'log2', 3: None}\n",
    "est = {0: 10, 1: 50, 2: 300, 3: 750, 4: 1200,5:1300,6:1500}\n",
    "\n",
    "print(crit[best['criterion']])\n",
    "print(feat[best['max_features']])\n",
    "print(est[best['n_estimators']])"
   ]
  },
  {
   "cell_type": "code",
   "execution_count": 33,
   "metadata": {},
   "outputs": [
    {
     "data": {
      "text/plain": [
       "0.03504132642903181"
      ]
     },
     "execution_count": 33,
     "metadata": {},
     "output_type": "execute_result"
    }
   ],
   "source": [
    "best['min_samples_leaf']"
   ]
  },
  {
   "cell_type": "code",
   "execution_count": 34,
   "metadata": {
    "scrolled": true
   },
   "outputs": [
    {
     "name": "stdout",
     "output_type": "stream",
     "text": [
      "[[143  14]\n",
      " [ 42  32]]\n",
      "0.7575757575757576\n",
      "              precision    recall  f1-score   support\n",
      "\n",
      "           0       0.77      0.91      0.84       157\n",
      "           1       0.70      0.43      0.53        74\n",
      "\n",
      "    accuracy                           0.76       231\n",
      "   macro avg       0.73      0.67      0.68       231\n",
      "weighted avg       0.75      0.76      0.74       231\n",
      "\n"
     ]
    }
   ],
   "source": [
    "trainedforest = RandomForestClassifier(criterion = crit[best['criterion']], max_depth = best['max_depth'], \n",
    "                                       max_features = feat[best['max_features']], \n",
    "                                       min_samples_leaf = best['min_samples_leaf'], \n",
    "                                       min_samples_split = best['min_samples_split'], \n",
    "                                       n_estimators = est[best['n_estimators']]).fit(X_train,y_train)\n",
    "\n",
    "predictionforest = trainedforest.predict(X_test)\n",
    "\n",
    "print(confusion_matrix(y_test,predictionforest))\n",
    "print(accuracy_score(y_test,predictionforest))\n",
    "print(classification_report(y_test,predictionforest))\n",
    "\n",
    "acc5 = accuracy_score(y_test,predictionforest)"
   ]
  },
  {
   "cell_type": "markdown",
   "metadata": {},
   "source": [
    "## Genetic Algorithms\n",
    "\n",
    "Genetic Algorithms tries to apply natural selection mechanisms to Machine Learning contexts.\n",
    "\n",
    "Let's immagine we create a population of N Machine Learning models with some predifined Hyperparameters. We can then calculate the accuracy of each model and decide to keep just half of the models (the ones that performs best). We can now generate some offsprings having similar Hyperparameters to the ones of the best models so that go get again a population of N models. At this point we can again caltulate the accuracy of each model and repeate the cycle for a defined number of generations. In this way, just the best models will survive at the end of the process."
   ]
  },
  {
   "cell_type": "code",
   "execution_count": 35,
   "metadata": {},
   "outputs": [
    {
     "data": {
      "text/html": [
       "<div>\n",
       "<style scoped>\n",
       "    .dataframe tbody tr th:only-of-type {\n",
       "        vertical-align: middle;\n",
       "    }\n",
       "\n",
       "    .dataframe tbody tr th {\n",
       "        vertical-align: top;\n",
       "    }\n",
       "\n",
       "    .dataframe thead th {\n",
       "        text-align: right;\n",
       "    }\n",
       "</style>\n",
       "<table border=\"1\" class=\"dataframe\">\n",
       "  <thead>\n",
       "    <tr style=\"text-align: right;\">\n",
       "      <th></th>\n",
       "      <th>Pregnancies</th>\n",
       "      <th>Glucose</th>\n",
       "      <th>BloodPressure</th>\n",
       "      <th>SkinThickness</th>\n",
       "      <th>Insulin</th>\n",
       "      <th>BMI</th>\n",
       "      <th>DiabetesPedigreeFunction</th>\n",
       "      <th>Age</th>\n",
       "      <th>Outcome</th>\n",
       "    </tr>\n",
       "  </thead>\n",
       "  <tbody>\n",
       "    <tr>\n",
       "      <th>0</th>\n",
       "      <td>6</td>\n",
       "      <td>148</td>\n",
       "      <td>72</td>\n",
       "      <td>35</td>\n",
       "      <td>0</td>\n",
       "      <td>33.6</td>\n",
       "      <td>0.627</td>\n",
       "      <td>50</td>\n",
       "      <td>1</td>\n",
       "    </tr>\n",
       "    <tr>\n",
       "      <th>1</th>\n",
       "      <td>1</td>\n",
       "      <td>85</td>\n",
       "      <td>66</td>\n",
       "      <td>29</td>\n",
       "      <td>0</td>\n",
       "      <td>26.6</td>\n",
       "      <td>0.351</td>\n",
       "      <td>31</td>\n",
       "      <td>0</td>\n",
       "    </tr>\n",
       "    <tr>\n",
       "      <th>2</th>\n",
       "      <td>8</td>\n",
       "      <td>183</td>\n",
       "      <td>64</td>\n",
       "      <td>0</td>\n",
       "      <td>0</td>\n",
       "      <td>23.3</td>\n",
       "      <td>0.672</td>\n",
       "      <td>32</td>\n",
       "      <td>1</td>\n",
       "    </tr>\n",
       "    <tr>\n",
       "      <th>3</th>\n",
       "      <td>1</td>\n",
       "      <td>89</td>\n",
       "      <td>66</td>\n",
       "      <td>23</td>\n",
       "      <td>94</td>\n",
       "      <td>28.1</td>\n",
       "      <td>0.167</td>\n",
       "      <td>21</td>\n",
       "      <td>0</td>\n",
       "    </tr>\n",
       "    <tr>\n",
       "      <th>4</th>\n",
       "      <td>0</td>\n",
       "      <td>137</td>\n",
       "      <td>40</td>\n",
       "      <td>35</td>\n",
       "      <td>168</td>\n",
       "      <td>43.1</td>\n",
       "      <td>2.288</td>\n",
       "      <td>33</td>\n",
       "      <td>1</td>\n",
       "    </tr>\n",
       "  </tbody>\n",
       "</table>\n",
       "</div>"
      ],
      "text/plain": [
       "   Pregnancies  Glucose  BloodPressure  SkinThickness  Insulin   BMI  \\\n",
       "0            6      148             72             35        0  33.6   \n",
       "1            1       85             66             29        0  26.6   \n",
       "2            8      183             64              0        0  23.3   \n",
       "3            1       89             66             23       94  28.1   \n",
       "4            0      137             40             35      168  43.1   \n",
       "\n",
       "   DiabetesPedigreeFunction  Age  Outcome  \n",
       "0                     0.627   50        1  \n",
       "1                     0.351   31        0  \n",
       "2                     0.672   32        1  \n",
       "3                     0.167   21        0  \n",
       "4                     2.288   33        1  "
      ]
     },
     "execution_count": 35,
     "metadata": {},
     "output_type": "execute_result"
    }
   ],
   "source": [
    "import pandas as pd\n",
    "\n",
    "df=pd.read_csv('diabetes.csv')\n",
    "df.head()"
   ]
  },
  {
   "cell_type": "code",
   "execution_count": 36,
   "metadata": {},
   "outputs": [],
   "source": [
    "X=df.drop('Outcome',axis=1)\n",
    "\n",
    "y=df['Outcome']"
   ]
  },
  {
   "cell_type": "code",
   "execution_count": 37,
   "metadata": {},
   "outputs": [
    {
     "data": {
      "text/html": [
       "<div>\n",
       "<style scoped>\n",
       "    .dataframe tbody tr th:only-of-type {\n",
       "        vertical-align: middle;\n",
       "    }\n",
       "\n",
       "    .dataframe tbody tr th {\n",
       "        vertical-align: top;\n",
       "    }\n",
       "\n",
       "    .dataframe thead th {\n",
       "        text-align: right;\n",
       "    }\n",
       "</style>\n",
       "<table border=\"1\" class=\"dataframe\">\n",
       "  <thead>\n",
       "    <tr style=\"text-align: right;\">\n",
       "      <th></th>\n",
       "      <th>Pregnancies</th>\n",
       "      <th>Glucose</th>\n",
       "      <th>BloodPressure</th>\n",
       "      <th>SkinThickness</th>\n",
       "      <th>Insulin</th>\n",
       "      <th>BMI</th>\n",
       "      <th>DiabetesPedigreeFunction</th>\n",
       "      <th>Age</th>\n",
       "    </tr>\n",
       "  </thead>\n",
       "  <tbody>\n",
       "    <tr>\n",
       "      <th>0</th>\n",
       "      <td>6</td>\n",
       "      <td>148</td>\n",
       "      <td>72</td>\n",
       "      <td>35</td>\n",
       "      <td>0</td>\n",
       "      <td>33.6</td>\n",
       "      <td>0.627</td>\n",
       "      <td>50</td>\n",
       "    </tr>\n",
       "    <tr>\n",
       "      <th>1</th>\n",
       "      <td>1</td>\n",
       "      <td>85</td>\n",
       "      <td>66</td>\n",
       "      <td>29</td>\n",
       "      <td>0</td>\n",
       "      <td>26.6</td>\n",
       "      <td>0.351</td>\n",
       "      <td>31</td>\n",
       "    </tr>\n",
       "    <tr>\n",
       "      <th>2</th>\n",
       "      <td>8</td>\n",
       "      <td>183</td>\n",
       "      <td>64</td>\n",
       "      <td>0</td>\n",
       "      <td>0</td>\n",
       "      <td>23.3</td>\n",
       "      <td>0.672</td>\n",
       "      <td>32</td>\n",
       "    </tr>\n",
       "    <tr>\n",
       "      <th>3</th>\n",
       "      <td>1</td>\n",
       "      <td>89</td>\n",
       "      <td>66</td>\n",
       "      <td>23</td>\n",
       "      <td>94</td>\n",
       "      <td>28.1</td>\n",
       "      <td>0.167</td>\n",
       "      <td>21</td>\n",
       "    </tr>\n",
       "    <tr>\n",
       "      <th>4</th>\n",
       "      <td>0</td>\n",
       "      <td>137</td>\n",
       "      <td>40</td>\n",
       "      <td>35</td>\n",
       "      <td>168</td>\n",
       "      <td>43.1</td>\n",
       "      <td>2.288</td>\n",
       "      <td>33</td>\n",
       "    </tr>\n",
       "    <tr>\n",
       "      <th>...</th>\n",
       "      <td>...</td>\n",
       "      <td>...</td>\n",
       "      <td>...</td>\n",
       "      <td>...</td>\n",
       "      <td>...</td>\n",
       "      <td>...</td>\n",
       "      <td>...</td>\n",
       "      <td>...</td>\n",
       "    </tr>\n",
       "    <tr>\n",
       "      <th>763</th>\n",
       "      <td>10</td>\n",
       "      <td>101</td>\n",
       "      <td>76</td>\n",
       "      <td>48</td>\n",
       "      <td>180</td>\n",
       "      <td>32.9</td>\n",
       "      <td>0.171</td>\n",
       "      <td>63</td>\n",
       "    </tr>\n",
       "    <tr>\n",
       "      <th>764</th>\n",
       "      <td>2</td>\n",
       "      <td>122</td>\n",
       "      <td>70</td>\n",
       "      <td>27</td>\n",
       "      <td>0</td>\n",
       "      <td>36.8</td>\n",
       "      <td>0.340</td>\n",
       "      <td>27</td>\n",
       "    </tr>\n",
       "    <tr>\n",
       "      <th>765</th>\n",
       "      <td>5</td>\n",
       "      <td>121</td>\n",
       "      <td>72</td>\n",
       "      <td>23</td>\n",
       "      <td>112</td>\n",
       "      <td>26.2</td>\n",
       "      <td>0.245</td>\n",
       "      <td>30</td>\n",
       "    </tr>\n",
       "    <tr>\n",
       "      <th>766</th>\n",
       "      <td>1</td>\n",
       "      <td>126</td>\n",
       "      <td>60</td>\n",
       "      <td>0</td>\n",
       "      <td>0</td>\n",
       "      <td>30.1</td>\n",
       "      <td>0.349</td>\n",
       "      <td>47</td>\n",
       "    </tr>\n",
       "    <tr>\n",
       "      <th>767</th>\n",
       "      <td>1</td>\n",
       "      <td>93</td>\n",
       "      <td>70</td>\n",
       "      <td>31</td>\n",
       "      <td>0</td>\n",
       "      <td>30.4</td>\n",
       "      <td>0.315</td>\n",
       "      <td>23</td>\n",
       "    </tr>\n",
       "  </tbody>\n",
       "</table>\n",
       "<p>768 rows × 8 columns</p>\n",
       "</div>"
      ],
      "text/plain": [
       "     Pregnancies  Glucose  BloodPressure  SkinThickness  Insulin   BMI  \\\n",
       "0              6      148             72             35        0  33.6   \n",
       "1              1       85             66             29        0  26.6   \n",
       "2              8      183             64              0        0  23.3   \n",
       "3              1       89             66             23       94  28.1   \n",
       "4              0      137             40             35      168  43.1   \n",
       "..           ...      ...            ...            ...      ...   ...   \n",
       "763           10      101             76             48      180  32.9   \n",
       "764            2      122             70             27        0  36.8   \n",
       "765            5      121             72             23      112  26.2   \n",
       "766            1      126             60              0        0  30.1   \n",
       "767            1       93             70             31        0  30.4   \n",
       "\n",
       "     DiabetesPedigreeFunction  Age  \n",
       "0                       0.627   50  \n",
       "1                       0.351   31  \n",
       "2                       0.672   32  \n",
       "3                       0.167   21  \n",
       "4                       2.288   33  \n",
       "..                        ...  ...  \n",
       "763                     0.171   63  \n",
       "764                     0.340   27  \n",
       "765                     0.245   30  \n",
       "766                     0.349   47  \n",
       "767                     0.315   23  \n",
       "\n",
       "[768 rows x 8 columns]"
      ]
     },
     "execution_count": 37,
     "metadata": {},
     "output_type": "execute_result"
    }
   ],
   "source": [
    "pd.DataFrame(X,columns=df.columns[:-1])"
   ]
  },
  {
   "cell_type": "code",
   "execution_count": 38,
   "metadata": {},
   "outputs": [],
   "source": [
    "#### Train Test Split\n",
    "from sklearn.model_selection import train_test_split\n",
    "X_train,X_test,y_train,y_test=train_test_split(X,y,test_size=0.20,random_state=0)"
   ]
  },
  {
   "cell_type": "code",
   "execution_count": 39,
   "metadata": {},
   "outputs": [
    {
     "name": "stdout",
     "output_type": "stream",
     "text": [
      "{'n_estimators': [200, 400, 600, 800, 1000, 1200, 1400, 1600, 1800, 2000], 'max_features': ['auto', 'sqrt', 'log2'], 'max_depth': [10, 120, 230, 340, 450, 560, 670, 780, 890, 1000], 'min_samples_split': [2, 5, 10, 14], 'min_samples_leaf': [1, 2, 4, 6, 8], 'criterion': ['entropy', 'gini']}\n"
     ]
    }
   ],
   "source": [
    "import numpy as np\n",
    "from sklearn.model_selection import RandomizedSearchCV\n",
    "\n",
    "# Number of trees in random forest\n",
    "n_estimators = [int(x) for x in np.linspace(start = 200, stop = 2000, num = 10)]\n",
    "\n",
    "# Number of features to consider at every split\n",
    "max_features = ['auto', 'sqrt','log2']\n",
    "\n",
    "# Maximum number of levels in tree\n",
    "max_depth = [int(x) for x in np.linspace(10, 1000,10)]\n",
    "\n",
    "# Minimum number of samples required to split a node\n",
    "min_samples_split = [2, 5, 10,14]\n",
    "\n",
    "# Minimum number of samples required at each leaf node\n",
    "min_samples_leaf = [1, 2, 4,6,8]\n",
    "\n",
    "# Create the random grid\n",
    "param = {'n_estimators': n_estimators,\n",
    "               'max_features': max_features,\n",
    "               'max_depth': max_depth,\n",
    "               'min_samples_split': min_samples_split,\n",
    "               'min_samples_leaf': min_samples_leaf,\n",
    "              'criterion':['entropy','gini']}\n",
    "\n",
    "print(param)"
   ]
  },
  {
   "cell_type": "code",
   "execution_count": 40,
   "metadata": {},
   "outputs": [
    {
     "data": {
      "application/vnd.jupyter.widget-view+json": {
       "model_id": "",
       "version_major": 2,
       "version_minor": 0
      },
      "text/plain": [
       "HBox(children=(HTML(value='Optimization Progress'), FloatProgress(value=0.0, max=84.0), HTML(value='')))"
      ]
     },
     "metadata": {},
     "output_type": "display_data"
    },
    {
     "name": "stdout",
     "output_type": "stream",
     "text": [
      "\n",
      "Generation 1 - Current best internal CV score: 0.7573635514811985\n",
      "\n",
      "Generation 2 - Current best internal CV score: 0.7589657074951193\n",
      "\n",
      "Generation 3 - Current best internal CV score: 0.7589657074951193\n",
      "\n",
      "Generation 4 - Current best internal CV score: 0.7589657074951193\n",
      "\n",
      "Generation 5 - Current best internal CV score: 0.7589657074951193\n",
      "\n",
      "Best pipeline: RandomForestClassifier(RandomForestClassifier(input_matrix, criterion=entropy, max_depth=10, max_features=auto, min_samples_leaf=2, min_samples_split=10, n_estimators=400), criterion=entropy, max_depth=780, max_features=sqrt, min_samples_leaf=1, min_samples_split=14, n_estimators=1200)\n"
     ]
    },
    {
     "data": {
      "text/plain": [
       "TPOTClassifier(config_dict={'sklearn.ensemble.RandomForestClassifier': {'criterion': ['entropy',\n",
       "                                                                                      'gini'],\n",
       "                                                                        'max_depth': [10,\n",
       "                                                                                      120,\n",
       "                                                                                      230,\n",
       "                                                                                      340,\n",
       "                                                                                      450,\n",
       "                                                                                      560,\n",
       "                                                                                      670,\n",
       "                                                                                      780,\n",
       "                                                                                      890,\n",
       "                                                                                      1000],\n",
       "                                                                        'max_features': ['auto',\n",
       "                                                                                         'sqrt',\n",
       "                                                                                         'log2'],\n",
       "                                                                        'min_samples_leaf': [1,\n",
       "                                                                                             2,\n",
       "                                                                                             4,\n",
       "                                                                                             6,\n",
       "                                                                                             8],\n",
       "                                                                        'min_samples_split': [2,\n",
       "                                                                                              5,\n",
       "                                                                                              10,\n",
       "                                                                                              14],\n",
       "                                                                        'n_estimators': [200,\n",
       "                                                                                         400,\n",
       "                                                                                         600,\n",
       "                                                                                         800,\n",
       "                                                                                         1000,\n",
       "                                                                                         1200,\n",
       "                                                                                         1400,\n",
       "                                                                                         1600,\n",
       "                                                                                         1800,\n",
       "                                                                                         2000]}},\n",
       "               cv=4, early_stop=12, generations=5, offspring_size=12,\n",
       "               population_size=24, scoring='accuracy', verbosity=2)"
      ]
     },
     "execution_count": 40,
     "metadata": {},
     "output_type": "execute_result"
    }
   ],
   "source": [
    "from tpot import TPOTClassifier\n",
    "\n",
    "\n",
    "tpot_classifier = TPOTClassifier(generations= 5, population_size= 24, offspring_size= 12,\n",
    "                                 verbosity= 2, early_stop= 12,\n",
    "                                 config_dict={'sklearn.ensemble.RandomForestClassifier': param}, \n",
    "                                 cv = 4, scoring = 'accuracy')\n",
    "tpot_classifier.fit(X_train,y_train)"
   ]
  },
  {
   "cell_type": "code",
   "execution_count": 41,
   "metadata": {},
   "outputs": [
    {
     "name": "stdout",
     "output_type": "stream",
     "text": [
      "0.8311688311688312\n"
     ]
    }
   ],
   "source": [
    "accuracy = tpot_classifier.score(X_test, y_test)\n",
    "print(accuracy)"
   ]
  },
  {
   "cell_type": "markdown",
   "metadata": {},
   "source": [
    "## Optimize hyperparameters of the model using Optuna\n",
    "\n",
    "The hyperparameters of the above algorithm are n_estimators and max_depth for which we can try different values to see if the model accuracy can be improved. The objective function is modified to accept a trial object. This trial has several methods for sampling hyperparameters. We create a study to run the hyperparameter optimization and finally read the best hyperparameters."
   ]
  },
  {
   "cell_type": "code",
   "execution_count": 42,
   "metadata": {},
   "outputs": [],
   "source": [
    "import optuna\n",
    "import sklearn.svm\n",
    "def objective(trial):\n",
    "\n",
    "    classifier = trial.suggest_categorical('classifier', ['RandomForest', 'SVC'])\n",
    "    \n",
    "    if classifier == 'RandomForest':\n",
    "        n_estimators = trial.suggest_int('n_estimators', 200, 2000,10)\n",
    "        max_depth = int(trial.suggest_float('max_depth', 10, 100, log=True))\n",
    "\n",
    "        clf = sklearn.ensemble.RandomForestClassifier(\n",
    "            n_estimators=n_estimators, max_depth=max_depth)\n",
    "    else:\n",
    "        c = trial.suggest_float('svc_c', 1e-10, 1e10, log=True)\n",
    "        \n",
    "        clf = sklearn.svm.SVC(C=c, gamma='auto')\n",
    "\n",
    "    return sklearn.model_selection.cross_val_score(\n",
    "        clf,X_train,y_train, n_jobs=-1, cv=3).mean()"
   ]
  },
  {
   "cell_type": "code",
   "execution_count": 43,
   "metadata": {},
   "outputs": [
    {
     "name": "stderr",
     "output_type": "stream",
     "text": [
      "\u001b[32m[I 2021-04-03 15:16:19,344]\u001b[0m A new study created in memory with name: no-name-9af9d773-e48b-4c93-a87c-9652a52ea7b4\u001b[0m\n",
      "\u001b[32m[I 2021-04-03 15:16:21,969]\u001b[0m Trial 0 finished with value: 0.640068547744301 and parameters: {'classifier': 'SVC', 'svc_c': 432.19144047217134}. Best is trial 0 with value: 0.640068547744301.\u001b[0m\n",
      "\u001b[32m[I 2021-04-03 15:16:25,166]\u001b[0m Trial 1 finished with value: 0.7426669854933844 and parameters: {'classifier': 'RandomForest', 'n_estimators': 560, 'max_depth': 72.58384965094909}. Best is trial 1 with value: 0.7426669854933844.\u001b[0m\n",
      "\u001b[32m[I 2021-04-03 15:16:27,866]\u001b[0m Trial 2 finished with value: 0.7394149529730591 and parameters: {'classifier': 'RandomForest', 'n_estimators': 860, 'max_depth': 10.460468938322379}. Best is trial 1 with value: 0.7426669854933844.\u001b[0m\n",
      "\u001b[32m[I 2021-04-03 15:16:29,145]\u001b[0m Trial 3 finished with value: 0.75242308305436 and parameters: {'classifier': 'RandomForest', 'n_estimators': 400, 'max_depth': 70.90174558468098}. Best is trial 3 with value: 0.75242308305436.\u001b[0m\n",
      "\u001b[32m[I 2021-04-03 15:16:33,464]\u001b[0m Trial 4 finished with value: 0.7508050374621393 and parameters: {'classifier': 'RandomForest', 'n_estimators': 1420, 'max_depth': 73.4818460392399}. Best is trial 3 with value: 0.75242308305436.\u001b[0m\n",
      "\u001b[32m[I 2021-04-03 15:16:33,559]\u001b[0m Trial 5 finished with value: 0.640068547744301 and parameters: {'classifier': 'SVC', 'svc_c': 27685523.062417716}. Best is trial 3 with value: 0.75242308305436.\u001b[0m\n",
      "\u001b[32m[I 2021-04-03 15:16:33,643]\u001b[0m Trial 6 finished with value: 0.640068547744301 and parameters: {'classifier': 'SVC', 'svc_c': 4694606.546230275}. Best is trial 3 with value: 0.75242308305436.\u001b[0m\n",
      "\u001b[32m[I 2021-04-03 15:16:33,726]\u001b[0m Trial 7 finished with value: 0.640068547744301 and parameters: {'classifier': 'SVC', 'svc_c': 115345825.47380373}. Best is trial 3 with value: 0.75242308305436.\u001b[0m\n",
      "\u001b[32m[I 2021-04-03 15:16:36,653]\u001b[0m Trial 8 finished with value: 0.7410409692332217 and parameters: {'classifier': 'RandomForest', 'n_estimators': 960, 'max_depth': 28.455138758987054}. Best is trial 3 with value: 0.75242308305436.\u001b[0m\n",
      "\u001b[32m[I 2021-04-03 15:16:40,572]\u001b[0m Trial 9 finished with value: 0.7524390243902439 and parameters: {'classifier': 'RandomForest', 'n_estimators': 1310, 'max_depth': 31.090628979801615}. Best is trial 9 with value: 0.7524390243902439.\u001b[0m\n",
      "\u001b[32m[I 2021-04-03 15:16:46,161]\u001b[0m Trial 10 finished with value: 0.7459190180137095 and parameters: {'classifier': 'RandomForest', 'n_estimators': 1900, 'max_depth': 24.92050152469406}. Best is trial 9 with value: 0.7524390243902439.\u001b[0m\n",
      "\u001b[32m[I 2021-04-03 15:16:46,965]\u001b[0m Trial 11 finished with value: 0.7410170572293958 and parameters: {'classifier': 'RandomForest', 'n_estimators': 260, 'max_depth': 41.18646381778753}. Best is trial 9 with value: 0.7524390243902439.\u001b[0m\n",
      "\u001b[32m[I 2021-04-03 15:16:51,281]\u001b[0m Trial 12 finished with value: 0.7508050374621393 and parameters: {'classifier': 'RandomForest', 'n_estimators': 1440, 'max_depth': 41.40321240140762}. Best is trial 9 with value: 0.7524390243902439.\u001b[0m\n",
      "\u001b[32m[I 2021-04-03 15:16:55,411]\u001b[0m Trial 13 finished with value: 0.7475450342738722 and parameters: {'classifier': 'RandomForest', 'n_estimators': 1400, 'max_depth': 17.773228200135023}. Best is trial 9 with value: 0.7524390243902439.\u001b[0m\n",
      "\u001b[32m[I 2021-04-03 15:17:01,125]\u001b[0m Trial 14 finished with value: 0.7475530049418141 and parameters: {'classifier': 'RandomForest', 'n_estimators': 1890, 'max_depth': 50.73415401526805}. Best is trial 9 with value: 0.7524390243902439.\u001b[0m\n",
      "\u001b[32m[I 2021-04-03 15:17:01,811]\u001b[0m Trial 15 finished with value: 0.7426590148254424 and parameters: {'classifier': 'RandomForest', 'n_estimators': 210, 'max_depth': 18.34889096126855}. Best is trial 9 with value: 0.7524390243902439.\u001b[0m\n",
      "\u001b[32m[I 2021-04-03 15:17:05,339]\u001b[0m Trial 16 finished with value: 0.7475530049418141 and parameters: {'classifier': 'RandomForest', 'n_estimators': 1190, 'max_depth': 95.59946146584062}. Best is trial 9 with value: 0.7524390243902439.\u001b[0m\n",
      "\u001b[32m[I 2021-04-03 15:17:07,356]\u001b[0m Trial 17 finished with value: 0.752415112386418 and parameters: {'classifier': 'RandomForest', 'n_estimators': 670, 'max_depth': 53.59102438495492}. Best is trial 9 with value: 0.7524390243902439.\u001b[0m\n",
      "\u001b[32m[I 2021-04-03 15:17:12,326]\u001b[0m Trial 18 finished with value: 0.7491710505340348 and parameters: {'classifier': 'RandomForest', 'n_estimators': 1630, 'max_depth': 20.869801722772053}. Best is trial 9 with value: 0.7524390243902439.\u001b[0m\n",
      "\u001b[32m[I 2021-04-03 15:17:15,811]\u001b[0m Trial 19 finished with value: 0.7475530049418141 and parameters: {'classifier': 'RandomForest', 'n_estimators': 1150, 'max_depth': 12.963161623794212}. Best is trial 9 with value: 0.7524390243902439.\u001b[0m\n",
      "\u001b[32m[I 2021-04-03 15:17:17,077]\u001b[0m Trial 20 finished with value: 0.7426669854933844 and parameters: {'classifier': 'RandomForest', 'n_estimators': 420, 'max_depth': 34.69754113916428}. Best is trial 9 with value: 0.7524390243902439.\u001b[0m\n",
      "\u001b[32m[I 2021-04-03 15:17:19,031]\u001b[0m Trial 21 finished with value: 0.744300972421489 and parameters: {'classifier': 'RandomForest', 'n_estimators': 650, 'max_depth': 53.12282607666178}. Best is trial 9 with value: 0.7524390243902439.\u001b[0m\n",
      "\u001b[32m[I 2021-04-03 15:17:21,294]\u001b[0m Trial 22 finished with value: 0.7475370636059302 and parameters: {'classifier': 'RandomForest', 'n_estimators': 730, 'max_depth': 99.37932117791527}. Best is trial 9 with value: 0.7524390243902439.\u001b[0m\n",
      "\u001b[32m[I 2021-04-03 15:17:22,714]\u001b[0m Trial 23 finished with value: 0.7394149529730591 and parameters: {'classifier': 'RandomForest', 'n_estimators': 440, 'max_depth': 65.69305892670094}. Best is trial 9 with value: 0.7524390243902439.\u001b[0m\n",
      "\u001b[32m[I 2021-04-03 15:17:25,574]\u001b[0m Trial 24 finished with value: 0.7556830862426271 and parameters: {'classifier': 'RandomForest', 'n_estimators': 950, 'max_depth': 59.05652648899643}. Best is trial 24 with value: 0.7556830862426271.\u001b[0m\n",
      "\u001b[32m[I 2021-04-03 15:17:28,643]\u001b[0m Trial 25 finished with value: 0.7507970667941973 and parameters: {'classifier': 'RandomForest', 'n_estimators': 1010, 'max_depth': 87.52218864636059}. Best is trial 24 with value: 0.7556830862426271.\u001b[0m\n",
      "\u001b[32m[I 2021-04-03 15:17:28,724]\u001b[0m Trial 26 finished with value: 0.640068547744301 and parameters: {'classifier': 'SVC', 'svc_c': 3.309384832500232e-10}. Best is trial 24 with value: 0.7556830862426271.\u001b[0m\n",
      "\u001b[32m[I 2021-04-03 15:17:32,623]\u001b[0m Trial 27 finished with value: 0.7491790212019768 and parameters: {'classifier': 'RandomForest', 'n_estimators': 1270, 'max_depth': 36.305564273990086}. Best is trial 24 with value: 0.7556830862426271.\u001b[0m\n",
      "\u001b[32m[I 2021-04-03 15:17:37,538]\u001b[0m Trial 28 finished with value: 0.7524390243902439 and parameters: {'classifier': 'RandomForest', 'n_estimators': 1670, 'max_depth': 60.44863365411872}. Best is trial 24 with value: 0.7556830862426271.\u001b[0m\n",
      "\u001b[32m[I 2021-04-03 15:17:37,630]\u001b[0m Trial 29 finished with value: 0.640068547744301 and parameters: {'classifier': 'SVC', 'svc_c': 1.0169957315775361e-09}. Best is trial 24 with value: 0.7556830862426271.\u001b[0m\n",
      "\u001b[32m[I 2021-04-03 15:17:42,572]\u001b[0m Trial 30 finished with value: 0.7475530049418141 and parameters: {'classifier': 'RandomForest', 'n_estimators': 1680, 'max_depth': 28.640171767127363}. Best is trial 24 with value: 0.7556830862426271.\u001b[0m\n",
      "\u001b[32m[I 2021-04-03 15:17:47,602]\u001b[0m Trial 31 finished with value: 0.7475530049418141 and parameters: {'classifier': 'RandomForest', 'n_estimators': 1670, 'max_depth': 62.128982065923864}. Best is trial 24 with value: 0.7556830862426271.\u001b[0m\n",
      "\u001b[32m[I 2021-04-03 15:17:52,183]\u001b[0m Trial 32 finished with value: 0.7524310537223019 and parameters: {'classifier': 'RandomForest', 'n_estimators': 1540, 'max_depth': 44.99710571374656}. Best is trial 24 with value: 0.7556830862426271.\u001b[0m\n",
      "\u001b[32m[I 2021-04-03 15:17:56,766]\u001b[0m Trial 33 finished with value: 0.7508050374621393 and parameters: {'classifier': 'RandomForest', 'n_estimators': 1540, 'max_depth': 45.540509717928444}. Best is trial 24 with value: 0.7556830862426271.\u001b[0m\n",
      "\u001b[32m[I 2021-04-03 15:18:02,070]\u001b[0m Trial 34 finished with value: 0.7459190180137095 and parameters: {'classifier': 'RandomForest', 'n_estimators': 1800, 'max_depth': 54.626616977256056}. Best is trial 24 with value: 0.7556830862426271.\u001b[0m\n"
     ]
    },
    {
     "name": "stderr",
     "output_type": "stream",
     "text": [
      "\u001b[32m[I 2021-04-03 15:18:06,013]\u001b[0m Trial 35 finished with value: 0.7508130081300813 and parameters: {'classifier': 'RandomForest', 'n_estimators': 1310, 'max_depth': 44.214367179666965}. Best is trial 24 with value: 0.7556830862426271.\u001b[0m\n",
      "\u001b[32m[I 2021-04-03 15:18:10,807]\u001b[0m Trial 36 finished with value: 0.7491790212019768 and parameters: {'classifier': 'RandomForest', 'n_estimators': 1530, 'max_depth': 79.98130336234244}. Best is trial 24 with value: 0.7556830862426271.\u001b[0m\n",
      "\u001b[32m[I 2021-04-03 15:18:14,169]\u001b[0m Trial 37 finished with value: 0.7491790212019768 and parameters: {'classifier': 'RandomForest', 'n_estimators': 1040, 'max_depth': 60.79341597168003}. Best is trial 24 with value: 0.7556830862426271.\u001b[0m\n",
      "\u001b[32m[I 2021-04-03 15:18:19,526]\u001b[0m Trial 38 finished with value: 0.7410409692332217 and parameters: {'classifier': 'RandomForest', 'n_estimators': 1800, 'max_depth': 31.625395769097143}. Best is trial 24 with value: 0.7556830862426271.\u001b[0m\n",
      "\u001b[32m[I 2021-04-03 15:18:19,592]\u001b[0m Trial 39 finished with value: 0.640068547744301 and parameters: {'classifier': 'SVC', 'svc_c': 0.00022466709318002317}. Best is trial 24 with value: 0.7556830862426271.\u001b[0m\n",
      "\u001b[32m[I 2021-04-03 15:18:22,191]\u001b[0m Trial 40 finished with value: 0.7491790212019768 and parameters: {'classifier': 'RandomForest', 'n_estimators': 840, 'max_depth': 35.75761538778338}. Best is trial 24 with value: 0.7556830862426271.\u001b[0m\n",
      "\u001b[32m[I 2021-04-03 15:18:28,072]\u001b[0m Trial 41 finished with value: 0.7426749561613263 and parameters: {'classifier': 'RandomForest', 'n_estimators': 2000, 'max_depth': 72.7385420204471}. Best is trial 24 with value: 0.7556830862426271.\u001b[0m\n",
      "\u001b[32m[I 2021-04-03 15:18:32,161]\u001b[0m Trial 42 finished with value: 0.7459269886816515 and parameters: {'classifier': 'RandomForest', 'n_estimators': 1320, 'max_depth': 64.10796713372822}. Best is trial 24 with value: 0.7556830862426271.\u001b[0m\n",
      "\u001b[32m[I 2021-04-03 15:18:36,885]\u001b[0m Trial 43 finished with value: 0.7524310537223019 and parameters: {'classifier': 'RandomForest', 'n_estimators': 1560, 'max_depth': 80.8522310394214}. Best is trial 24 with value: 0.7556830862426271.\u001b[0m\n",
      "\u001b[32m[I 2021-04-03 15:18:41,573]\u001b[0m Trial 44 finished with value: 0.7491869918699187 and parameters: {'classifier': 'RandomForest', 'n_estimators': 1530, 'max_depth': 82.01669364729273}. Best is trial 24 with value: 0.7556830862426271.\u001b[0m\n",
      "\u001b[32m[I 2021-04-03 15:18:44,195]\u001b[0m Trial 45 finished with value: 0.7459269886816515 and parameters: {'classifier': 'RandomForest', 'n_estimators': 880, 'max_depth': 24.349481395736593}. Best is trial 24 with value: 0.7556830862426271.\u001b[0m\n",
      "\u001b[32m[I 2021-04-03 15:18:48,454]\u001b[0m Trial 46 finished with value: 0.7508130081300813 and parameters: {'classifier': 'RandomForest', 'n_estimators': 1420, 'max_depth': 48.460784528234946}. Best is trial 24 with value: 0.7556830862426271.\u001b[0m\n",
      "\u001b[32m[I 2021-04-03 15:18:52,033]\u001b[0m Trial 47 finished with value: 0.7540650406504065 and parameters: {'classifier': 'RandomForest', 'n_estimators': 1220, 'max_depth': 57.103745120954336}. Best is trial 24 with value: 0.7556830862426271.\u001b[0m\n",
      "\u001b[32m[I 2021-04-03 15:18:52,103]\u001b[0m Trial 48 finished with value: 0.640068547744301 and parameters: {'classifier': 'SVC', 'svc_c': 0.0004461108170651678}. Best is trial 24 with value: 0.7556830862426271.\u001b[0m\n",
      "\u001b[32m[I 2021-04-03 15:18:55,592]\u001b[0m Trial 49 finished with value: 0.7459269886816515 and parameters: {'classifier': 'RandomForest', 'n_estimators': 1110, 'max_depth': 74.82015932337872}. Best is trial 24 with value: 0.7556830862426271.\u001b[0m\n",
      "\u001b[32m[I 2021-04-03 15:18:59,138]\u001b[0m Trial 50 finished with value: 0.7491710505340348 and parameters: {'classifier': 'RandomForest', 'n_estimators': 1190, 'max_depth': 38.63133869198899}. Best is trial 24 with value: 0.7556830862426271.\u001b[0m\n",
      "\u001b[32m[I 2021-04-03 15:19:03,876]\u001b[0m Trial 51 finished with value: 0.7475530049418141 and parameters: {'classifier': 'RandomForest', 'n_estimators': 1590, 'max_depth': 55.18417213306857}. Best is trial 24 with value: 0.7556830862426271.\u001b[0m\n",
      "\u001b[32m[I 2021-04-03 15:19:09,380]\u001b[0m Trial 52 finished with value: 0.7475450342738722 and parameters: {'classifier': 'RandomForest', 'n_estimators': 1740, 'max_depth': 67.40739041254805}. Best is trial 24 with value: 0.7556830862426271.\u001b[0m\n",
      "\u001b[32m[I 2021-04-03 15:19:13,625]\u001b[0m Trial 53 finished with value: 0.7524310537223019 and parameters: {'classifier': 'RandomForest', 'n_estimators': 1460, 'max_depth': 46.04130102600173}. Best is trial 24 with value: 0.7556830862426271.\u001b[0m\n",
      "\u001b[32m[I 2021-04-03 15:19:17,800]\u001b[0m Trial 54 finished with value: 0.7426749561613263 and parameters: {'classifier': 'RandomForest', 'n_estimators': 1360, 'max_depth': 58.84330882942007}. Best is trial 24 with value: 0.7556830862426271.\u001b[0m\n",
      "\u001b[32m[I 2021-04-03 15:19:21,657]\u001b[0m Trial 55 finished with value: 0.7491869918699187 and parameters: {'classifier': 'RandomForest', 'n_estimators': 1250, 'max_depth': 41.73561006477486}. Best is trial 24 with value: 0.7556830862426271.\u001b[0m\n",
      "\u001b[32m[I 2021-04-03 15:19:24,564]\u001b[0m Trial 56 finished with value: 0.7426590148254424 and parameters: {'classifier': 'RandomForest', 'n_estimators': 940, 'max_depth': 93.4941683980387}. Best is trial 24 with value: 0.7556830862426271.\u001b[0m\n",
      "\u001b[32m[I 2021-04-03 15:19:29,003]\u001b[0m Trial 57 finished with value: 0.744300972421489 and parameters: {'classifier': 'RandomForest', 'n_estimators': 1470, 'max_depth': 48.40642441520337}. Best is trial 24 with value: 0.7556830862426271.\u001b[0m\n",
      "\u001b[32m[I 2021-04-03 15:19:33,329]\u001b[0m Trial 58 finished with value: 0.7459190180137095 and parameters: {'classifier': 'RandomForest', 'n_estimators': 1460, 'max_depth': 29.770457378389164}. Best is trial 24 with value: 0.7556830862426271.\u001b[0m\n",
      "\u001b[32m[I 2021-04-03 15:19:36,631]\u001b[0m Trial 59 finished with value: 0.7475450342738722 and parameters: {'classifier': 'RandomForest', 'n_estimators': 1070, 'max_depth': 70.79033847043353}. Best is trial 24 with value: 0.7556830862426271.\u001b[0m\n",
      "\u001b[32m[I 2021-04-03 15:19:40,292]\u001b[0m Trial 60 finished with value: 0.7507970667941973 and parameters: {'classifier': 'RandomForest', 'n_estimators': 1200, 'max_depth': 24.75254611508047}. Best is trial 24 with value: 0.7556830862426271.\u001b[0m\n",
      "\u001b[32m[I 2021-04-03 15:19:44,412]\u001b[0m Trial 61 finished with value: 0.7410250278973378 and parameters: {'classifier': 'RandomForest', 'n_estimators': 1410, 'max_depth': 32.866785097542284}. Best is trial 24 with value: 0.7556830862426271.\u001b[0m\n",
      "\u001b[32m[I 2021-04-03 15:19:48,936]\u001b[0m Trial 62 finished with value: 0.7556830862426271 and parameters: {'classifier': 'RandomForest', 'n_estimators': 1490, 'max_depth': 56.91631748629351}. Best is trial 24 with value: 0.7556830862426271.\u001b[0m\n",
      "\u001b[32m[I 2021-04-03 15:19:53,706]\u001b[0m Trial 63 finished with value: 0.7475689462776981 and parameters: {'classifier': 'RandomForest', 'n_estimators': 1560, 'max_depth': 56.31454650226535}. Best is trial 24 with value: 0.7556830862426271.\u001b[0m\n",
      "\u001b[32m[I 2021-04-03 15:19:58,395]\u001b[0m Trial 64 finished with value: 0.7491790212019768 and parameters: {'classifier': 'RandomForest', 'n_estimators': 1610, 'max_depth': 50.868766744233824}. Best is trial 24 with value: 0.7556830862426271.\u001b[0m\n",
      "\u001b[32m[I 2021-04-03 15:20:02,675]\u001b[0m Trial 65 finished with value: 0.7491790212019768 and parameters: {'classifier': 'RandomForest', 'n_estimators': 1360, 'max_depth': 39.333271117376285}. Best is trial 24 with value: 0.7556830862426271.\u001b[0m\n",
      "\u001b[32m[I 2021-04-03 15:20:06,396]\u001b[0m Trial 66 finished with value: 0.7507970667941973 and parameters: {'classifier': 'RandomForest', 'n_estimators': 1240, 'max_depth': 44.691086544454926}. Best is trial 24 with value: 0.7556830862426271.\u001b[0m\n",
      "\u001b[32m[I 2021-04-03 15:20:11,303]\u001b[0m Trial 67 finished with value: 0.7491790212019768 and parameters: {'classifier': 'RandomForest', 'n_estimators': 1660, 'max_depth': 59.20550059264526}. Best is trial 24 with value: 0.7556830862426271.\u001b[0m\n",
      "\u001b[32m[I 2021-04-03 15:20:11,391]\u001b[0m Trial 68 finished with value: 0.640068547744301 and parameters: {'classifier': 'SVC', 'svc_c': 29.328862676735316}. Best is trial 24 with value: 0.7556830862426271.\u001b[0m\n",
      "\u001b[32m[I 2021-04-03 15:20:16,601]\u001b[0m Trial 69 finished with value: 0.7508130081300813 and parameters: {'classifier': 'RandomForest', 'n_estimators': 1720, 'max_depth': 78.54631066077465}. Best is trial 24 with value: 0.7556830862426271.\u001b[0m\n"
     ]
    },
    {
     "name": "stderr",
     "output_type": "stream",
     "text": [
      "\u001b[32m[I 2021-04-03 15:20:22,068]\u001b[0m Trial 70 finished with value: 0.744293001753547 and parameters: {'classifier': 'RandomForest', 'n_estimators': 1810, 'max_depth': 65.75860772703852}. Best is trial 24 with value: 0.7556830862426271.\u001b[0m\n",
      "\u001b[32m[I 2021-04-03 15:20:26,442]\u001b[0m Trial 71 finished with value: 0.7491790212019768 and parameters: {'classifier': 'RandomForest', 'n_estimators': 1470, 'max_depth': 49.16752552544881}. Best is trial 24 with value: 0.7556830862426271.\u001b[0m\n",
      "\u001b[32m[I 2021-04-03 15:20:31,029]\u001b[0m Trial 72 finished with value: 0.7459349593495935 and parameters: {'classifier': 'RandomForest', 'n_estimators': 1510, 'max_depth': 45.217880403217706}. Best is trial 24 with value: 0.7556830862426271.\u001b[0m\n",
      "\u001b[32m[I 2021-04-03 15:20:35,050]\u001b[0m Trial 73 finished with value: 0.7491869918699187 and parameters: {'classifier': 'RandomForest', 'n_estimators': 1340, 'max_depth': 57.87974275953546}. Best is trial 24 with value: 0.7556830862426271.\u001b[0m\n",
      "\u001b[32m[I 2021-04-03 15:20:38,475]\u001b[0m Trial 74 finished with value: 0.7410250278973378 and parameters: {'classifier': 'RandomForest', 'n_estimators': 1140, 'max_depth': 51.82463474759821}. Best is trial 24 with value: 0.7556830862426271.\u001b[0m\n",
      "\u001b[32m[I 2021-04-03 15:20:43,332]\u001b[0m Trial 75 finished with value: 0.7459269886816515 and parameters: {'classifier': 'RandomForest', 'n_estimators': 1610, 'max_depth': 87.84097764155625}. Best is trial 24 with value: 0.7556830862426271.\u001b[0m\n",
      "\u001b[32m[I 2021-04-03 15:20:46,291]\u001b[0m Trial 76 finished with value: 0.744300972421489 and parameters: {'classifier': 'RandomForest', 'n_estimators': 980, 'max_depth': 68.18823152474064}. Best is trial 24 with value: 0.7556830862426271.\u001b[0m\n",
      "\u001b[32m[I 2021-04-03 15:20:50,118]\u001b[0m Trial 77 finished with value: 0.7475609756097561 and parameters: {'classifier': 'RandomForest', 'n_estimators': 1290, 'max_depth': 40.98768949585085}. Best is trial 24 with value: 0.7556830862426271.\u001b[0m\n",
      "\u001b[32m[I 2021-04-03 15:20:55,704]\u001b[0m Trial 78 finished with value: 0.7524390243902439 and parameters: {'classifier': 'RandomForest', 'n_estimators': 1890, 'max_depth': 26.25510225597301}. Best is trial 24 with value: 0.7556830862426271.\u001b[0m\n",
      "\u001b[32m[I 2021-04-03 15:21:01,507]\u001b[0m Trial 79 finished with value: 0.744300972421489 and parameters: {'classifier': 'RandomForest', 'n_estimators': 1970, 'max_depth': 25.59205531492968}. Best is trial 24 with value: 0.7556830862426271.\u001b[0m\n",
      "\u001b[32m[I 2021-04-03 15:21:07,059]\u001b[0m Trial 80 finished with value: 0.7524390243902439 and parameters: {'classifier': 'RandomForest', 'n_estimators': 1870, 'max_depth': 21.41147428170865}. Best is trial 24 with value: 0.7556830862426271.\u001b[0m\n",
      "\u001b[32m[I 2021-04-03 15:21:12,688]\u001b[0m Trial 81 finished with value: 0.7443089430894309 and parameters: {'classifier': 'RandomForest', 'n_estimators': 1900, 'max_depth': 19.722079513587182}. Best is trial 24 with value: 0.7556830862426271.\u001b[0m\n",
      "\u001b[32m[I 2021-04-03 15:21:18,167]\u001b[0m Trial 82 finished with value: 0.7459190180137095 and parameters: {'classifier': 'RandomForest', 'n_estimators': 1870, 'max_depth': 22.739836099929484}. Best is trial 24 with value: 0.7556830862426271.\u001b[0m\n",
      "\u001b[32m[I 2021-04-03 15:21:24,022]\u001b[0m Trial 83 finished with value: 0.7491790212019768 and parameters: {'classifier': 'RandomForest', 'n_estimators': 1960, 'max_depth': 15.25185462521159}. Best is trial 24 with value: 0.7556830862426271.\u001b[0m\n",
      "\u001b[32m[I 2021-04-03 15:21:29,269]\u001b[0m Trial 84 finished with value: 0.7491710505340348 and parameters: {'classifier': 'RandomForest', 'n_estimators': 1740, 'max_depth': 27.602700202368897}. Best is trial 24 with value: 0.7556830862426271.\u001b[0m\n",
      "\u001b[32m[I 2021-04-03 15:21:34,849]\u001b[0m Trial 85 finished with value: 0.7475530049418141 and parameters: {'classifier': 'RandomForest', 'n_estimators': 1850, 'max_depth': 22.76109524136076}. Best is trial 24 with value: 0.7556830862426271.\u001b[0m\n",
      "\u001b[32m[I 2021-04-03 15:21:38,917]\u001b[0m Trial 86 finished with value: 0.75242308305436 and parameters: {'classifier': 'RandomForest', 'n_estimators': 1380, 'max_depth': 34.143620096517395}. Best is trial 24 with value: 0.7556830862426271.\u001b[0m\n",
      "\u001b[32m[I 2021-04-03 15:21:38,984]\u001b[0m Trial 87 finished with value: 0.640068547744301 and parameters: {'classifier': 'SVC', 'svc_c': 6.070069596484835e-06}. Best is trial 24 with value: 0.7556830862426271.\u001b[0m\n",
      "\u001b[32m[I 2021-04-03 15:21:44,239]\u001b[0m Trial 88 finished with value: 0.7556910569105691 and parameters: {'classifier': 'RandomForest', 'n_estimators': 1700, 'max_depth': 21.133855892846526}. Best is trial 88 with value: 0.7556910569105691.\u001b[0m\n",
      "\u001b[32m[I 2021-04-03 15:21:49,445]\u001b[0m Trial 89 finished with value: 0.7475530049418141 and parameters: {'classifier': 'RandomForest', 'n_estimators': 1710, 'max_depth': 18.504788751552994}. Best is trial 88 with value: 0.7556910569105691.\u001b[0m\n",
      "\u001b[32m[I 2021-04-03 15:21:54,725]\u001b[0m Trial 90 finished with value: 0.7508050374621393 and parameters: {'classifier': 'RandomForest', 'n_estimators': 1790, 'max_depth': 16.440947203119894}. Best is trial 88 with value: 0.7556910569105691.\u001b[0m\n",
      "\u001b[32m[I 2021-04-03 15:21:59,602]\u001b[0m Trial 91 finished with value: 0.7475530049418141 and parameters: {'classifier': 'RandomForest', 'n_estimators': 1650, 'max_depth': 21.198912625025148}. Best is trial 88 with value: 0.7556910569105691.\u001b[0m\n",
      "\u001b[32m[I 2021-04-03 15:22:04,471]\u001b[0m Trial 92 finished with value: 0.7540570699824646 and parameters: {'classifier': 'RandomForest', 'n_estimators': 1580, 'max_depth': 26.47646925897953}. Best is trial 88 with value: 0.7556910569105691.\u001b[0m\n",
      "\u001b[32m[I 2021-04-03 15:22:10,309]\u001b[0m Trial 93 finished with value: 0.7524390243902439 and parameters: {'classifier': 'RandomForest', 'n_estimators': 1930, 'max_depth': 26.329383823441127}. Best is trial 88 with value: 0.7556910569105691.\u001b[0m\n",
      "\u001b[32m[I 2021-04-03 15:22:15,956]\u001b[0m Trial 94 finished with value: 0.7491630798660928 and parameters: {'classifier': 'RandomForest', 'n_estimators': 1920, 'max_depth': 27.612874216266242}. Best is trial 88 with value: 0.7556910569105691.\u001b[0m\n",
      "\u001b[32m[I 2021-04-03 15:22:21,233]\u001b[0m Trial 95 finished with value: 0.7475609756097561 and parameters: {'classifier': 'RandomForest', 'n_estimators': 1770, 'max_depth': 26.634188409185345}. Best is trial 88 with value: 0.7556910569105691.\u001b[0m\n",
      "\u001b[32m[I 2021-04-03 15:22:23,689]\u001b[0m Trial 96 finished with value: 0.7475530049418141 and parameters: {'classifier': 'RandomForest', 'n_estimators': 780, 'max_depth': 29.343242549812874}. Best is trial 88 with value: 0.7556910569105691.\u001b[0m\n",
      "\u001b[32m[I 2021-04-03 15:22:29,563]\u001b[0m Trial 97 finished with value: 0.7475530049418141 and parameters: {'classifier': 'RandomForest', 'n_estimators': 2000, 'max_depth': 22.878417575735373}. Best is trial 88 with value: 0.7556910569105691.\u001b[0m\n",
      "\u001b[32m[I 2021-04-03 15:22:34,587]\u001b[0m Trial 98 finished with value: 0.7459190180137095 and parameters: {'classifier': 'RandomForest', 'n_estimators': 1700, 'max_depth': 21.17675579389085}. Best is trial 88 with value: 0.7556910569105691.\u001b[0m\n",
      "\u001b[32m[I 2021-04-03 15:22:40,152]\u001b[0m Trial 99 finished with value: 0.7475609756097561 and parameters: {'classifier': 'RandomForest', 'n_estimators': 1830, 'max_depth': 30.84280451040617}. Best is trial 88 with value: 0.7556910569105691.\u001b[0m\n"
     ]
    },
    {
     "name": "stdout",
     "output_type": "stream",
     "text": [
      "Accuracy: 0.7556910569105691\n",
      "Best hyperparameters: {'classifier': 'RandomForest', 'n_estimators': 1700, 'max_depth': 21.133855892846526}\n"
     ]
    }
   ],
   "source": [
    "study = optuna.create_study(direction='maximize')\n",
    "study.optimize(objective, n_trials=100)\n",
    "\n",
    "trial = study.best_trial\n",
    "\n",
    "print('Accuracy: {}'.format(trial.value))\n",
    "print(\"Best hyperparameters: {}\".format(trial.params))"
   ]
  },
  {
   "cell_type": "code",
   "execution_count": 44,
   "metadata": {},
   "outputs": [
    {
     "data": {
      "text/plain": [
       "FrozenTrial(number=88, values=[0.7556910569105691], datetime_start=datetime.datetime(2021, 4, 3, 15, 21, 38, 984370), datetime_complete=datetime.datetime(2021, 4, 3, 15, 21, 44, 239457), params={'classifier': 'RandomForest', 'n_estimators': 1700, 'max_depth': 21.133855892846526}, distributions={'classifier': CategoricalDistribution(choices=('RandomForest', 'SVC')), 'n_estimators': IntUniformDistribution(high=2000, low=200, step=10), 'max_depth': LogUniformDistribution(high=100.0, low=10.0)}, user_attrs={}, system_attrs={}, intermediate_values={}, trial_id=88, state=TrialState.COMPLETE, value=None)"
      ]
     },
     "execution_count": 44,
     "metadata": {},
     "output_type": "execute_result"
    }
   ],
   "source": [
    "trial"
   ]
  },
  {
   "cell_type": "code",
   "execution_count": 45,
   "metadata": {},
   "outputs": [
    {
     "data": {
      "text/plain": [
       "{'classifier': 'RandomForest',\n",
       " 'n_estimators': 1700,\n",
       " 'max_depth': 21.133855892846526}"
      ]
     },
     "execution_count": 45,
     "metadata": {},
     "output_type": "execute_result"
    }
   ],
   "source": [
    "study.best_params"
   ]
  },
  {
   "cell_type": "code",
   "execution_count": 46,
   "metadata": {},
   "outputs": [
    {
     "data": {
      "text/plain": [
       "RandomForestClassifier(max_depth=30, n_estimators=330)"
      ]
     },
     "execution_count": 46,
     "metadata": {},
     "output_type": "execute_result"
    }
   ],
   "source": [
    "rf=RandomForestClassifier(n_estimators=330,max_depth=30)\n",
    "rf.fit(X_train,y_train)"
   ]
  },
  {
   "cell_type": "code",
   "execution_count": 47,
   "metadata": {},
   "outputs": [
    {
     "name": "stdout",
     "output_type": "stream",
     "text": [
      "[[94 13]\n",
      " [15 32]]\n",
      "0.8181818181818182\n",
      "              precision    recall  f1-score   support\n",
      "\n",
      "           0       0.86      0.88      0.87       107\n",
      "           1       0.71      0.68      0.70        47\n",
      "\n",
      "    accuracy                           0.82       154\n",
      "   macro avg       0.79      0.78      0.78       154\n",
      "weighted avg       0.82      0.82      0.82       154\n",
      "\n"
     ]
    }
   ],
   "source": [
    "y_pred=rf.predict(X_test)\n",
    "\n",
    "print(confusion_matrix(y_test,y_pred))\n",
    "\n",
    "print(accuracy_score(y_test,y_pred))\n",
    "\n",
    "print(classification_report(y_test,y_pred))"
   ]
  }
 ],
 "metadata": {
  "kernelspec": {
   "display_name": "Python 3",
   "language": "python",
   "name": "python3"
  },
  "language_info": {
   "codemirror_mode": {
    "name": "ipython",
    "version": 3
   },
   "file_extension": ".py",
   "mimetype": "text/x-python",
   "name": "python",
   "nbconvert_exporter": "python",
   "pygments_lexer": "ipython3",
   "version": "3.8.5"
  }
 },
 "nbformat": 4,
 "nbformat_minor": 4
}
