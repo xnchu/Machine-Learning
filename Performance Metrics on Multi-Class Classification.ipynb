{
 "cells": [
  {
   "cell_type": "markdown",
   "id": "0b9f367c",
   "metadata": {},
   "source": [
    "# Performance Metrics on MultiClass Classification"
   ]
  },
  {
   "cell_type": "code",
   "execution_count": 1,
   "id": "6ba2c91d",
   "metadata": {},
   "outputs": [],
   "source": [
    "from sklearn import metrics"
   ]
  },
  {
   "cell_type": "code",
   "execution_count": 2,
   "id": "02f3b419",
   "metadata": {},
   "outputs": [],
   "source": [
    "C='Cat'\n",
    "D='Dog'\n",
    "F='Fox'"
   ]
  },
  {
   "cell_type": "markdown",
   "id": "79570ad9",
   "metadata": {},
   "source": [
    "The precision for the Cat class is the number of correctly predicted Cat out all predicted Cat\n",
    "\n",
    "The recall for Cat is the number of correctly predicted Cat photos out of the number of actual cat \n"
   ]
  },
  {
   "cell_type": "code",
   "execution_count": 3,
   "id": "08b97ab6",
   "metadata": {},
   "outputs": [
    {
     "name": "stdout",
     "output_type": "stream",
     "text": [
      "[[4 1 1]\n",
      " [3 6 0]\n",
      " [6 2 2]]\n"
     ]
    }
   ],
   "source": [
    "y_true=[C,C,C,C,C,C,F,F,F,F,F,F,F,F,F,F,D,D,D,D,D,D,D,D,D]\n",
    "\n",
    "y_pred=[C,C,C,C,D,F,C,C,C,C,C,C,D,D,F,F,C,C,C,D,D,D,D,D,D]\n",
    "\n",
    "print(metrics.confusion_matrix(y_true,y_pred))"
   ]
  },
  {
   "cell_type": "code",
   "execution_count": 4,
   "id": "7aa10bf7",
   "metadata": {},
   "outputs": [
    {
     "name": "stdout",
     "output_type": "stream",
     "text": [
      "              precision    recall  f1-score   support\n",
      "\n",
      "         Cat      0.308     0.667     0.421         6\n",
      "         Dog      0.667     0.667     0.667         9\n",
      "         Fox      0.667     0.200     0.308        10\n",
      "\n",
      "    accuracy                          0.480        25\n",
      "   macro avg      0.547     0.511     0.465        25\n",
      "weighted avg      0.581     0.480     0.464        25\n",
      "\n"
     ]
    }
   ],
   "source": [
    "print(metrics.classification_report(y_true,y_pred,digits=3))"
   ]
  },
  {
   "cell_type": "code",
   "execution_count": null,
   "id": "2c831083",
   "metadata": {},
   "outputs": [],
   "source": []
  },
  {
   "cell_type": "code",
   "execution_count": null,
   "id": "e57ad48f",
   "metadata": {},
   "outputs": [],
   "source": []
  }
 ],
 "metadata": {
  "kernelspec": {
   "display_name": "Python 3",
   "language": "python",
   "name": "python3"
  },
  "language_info": {
   "codemirror_mode": {
    "name": "ipython",
    "version": 3
   },
   "file_extension": ".py",
   "mimetype": "text/x-python",
   "name": "python",
   "nbconvert_exporter": "python",
   "pygments_lexer": "ipython3",
   "version": "3.8.6"
  }
 },
 "nbformat": 4,
 "nbformat_minor": 5
}
