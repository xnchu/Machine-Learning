{
  "nbformat": 4,
  "nbformat_minor": 0,
  "metadata": {
    "colab": {
      "name": "Hyper Parameter Optimization.ipynb",
      "provenance": [],
      "collapsed_sections": [],
      "toc_visible": true
    },
    "kernelspec": {
      "display_name": "Python 3",
      "language": "python",
      "name": "python3"
    },
    "language_info": {
      "codemirror_mode": {
        "name": "ipython",
        "version": 3
      },
      "file_extension": ".py",
      "mimetype": "text/x-python",
      "name": "python",
      "nbconvert_exporter": "python",
      "pygments_lexer": "ipython3",
      "version": "3.8.6"
    },
    "widgets": {
      "application/vnd.jupyter.widget-state+json": {
        "736e725907794b4f8bec0cebd363b3c9": {
          "model_module": "@jupyter-widgets/controls",
          "model_name": "HBoxModel",
          "state": {
            "_view_name": "HBoxView",
            "_dom_classes": [],
            "_model_name": "HBoxModel",
            "_view_module": "@jupyter-widgets/controls",
            "_model_module_version": "1.5.0",
            "_view_count": null,
            "_view_module_version": "1.5.0",
            "box_style": "",
            "layout": "IPY_MODEL_3f5f6f57a1c84100b9306f31150dc235",
            "_model_module": "@jupyter-widgets/controls",
            "children": [
              "IPY_MODEL_50e5a006dbe34f3ab1c6a487b52cd2d3",
              "IPY_MODEL_471f7de35eda4c18bab22957c26f3ca8"
            ]
          }
        },
        "3f5f6f57a1c84100b9306f31150dc235": {
          "model_module": "@jupyter-widgets/base",
          "model_name": "LayoutModel",
          "state": {
            "_view_name": "LayoutView",
            "grid_template_rows": null,
            "right": null,
            "justify_content": null,
            "_view_module": "@jupyter-widgets/base",
            "overflow": null,
            "_model_module_version": "1.2.0",
            "_view_count": null,
            "flex_flow": null,
            "width": null,
            "min_width": null,
            "border": null,
            "align_items": null,
            "bottom": null,
            "_model_module": "@jupyter-widgets/base",
            "top": null,
            "grid_column": null,
            "overflow_y": null,
            "overflow_x": null,
            "grid_auto_flow": null,
            "grid_area": null,
            "grid_template_columns": null,
            "flex": null,
            "_model_name": "LayoutModel",
            "justify_items": null,
            "grid_row": null,
            "max_height": null,
            "align_content": null,
            "visibility": null,
            "align_self": null,
            "height": null,
            "min_height": null,
            "padding": null,
            "grid_auto_rows": null,
            "grid_gap": null,
            "max_width": null,
            "order": null,
            "_view_module_version": "1.2.0",
            "grid_template_areas": null,
            "object_position": null,
            "object_fit": null,
            "grid_auto_columns": null,
            "margin": null,
            "display": null,
            "left": null
          }
        },
        "50e5a006dbe34f3ab1c6a487b52cd2d3": {
          "model_module": "@jupyter-widgets/controls",
          "model_name": "FloatProgressModel",
          "state": {
            "_view_name": "ProgressView",
            "style": "IPY_MODEL_0c53f814e87e464fbca21af9098c6ec2",
            "_dom_classes": [],
            "description": "Optimization Progress: 100%",
            "_model_name": "FloatProgressModel",
            "bar_style": "",
            "max": 84,
            "_view_module": "@jupyter-widgets/controls",
            "_model_module_version": "1.5.0",
            "value": 84,
            "_view_count": null,
            "_view_module_version": "1.5.0",
            "orientation": "horizontal",
            "min": 0,
            "description_tooltip": null,
            "_model_module": "@jupyter-widgets/controls",
            "layout": "IPY_MODEL_3b2ae2be06424e36a547a97b3fdc633f"
          }
        },
        "471f7de35eda4c18bab22957c26f3ca8": {
          "model_module": "@jupyter-widgets/controls",
          "model_name": "HTMLModel",
          "state": {
            "_view_name": "HTMLView",
            "style": "IPY_MODEL_c797927e709b43d8bf7ef55e62cb060c",
            "_dom_classes": [],
            "description": "",
            "_model_name": "HTMLModel",
            "placeholder": "​",
            "_view_module": "@jupyter-widgets/controls",
            "_model_module_version": "1.5.0",
            "value": " 84/84 [21:43&lt;00:00,  9.11s/pipeline]",
            "_view_count": null,
            "_view_module_version": "1.5.0",
            "description_tooltip": null,
            "_model_module": "@jupyter-widgets/controls",
            "layout": "IPY_MODEL_f72817b28b8847f3b87ad85d26dd30c4"
          }
        },
        "0c53f814e87e464fbca21af9098c6ec2": {
          "model_module": "@jupyter-widgets/controls",
          "model_name": "ProgressStyleModel",
          "state": {
            "_view_name": "StyleView",
            "_model_name": "ProgressStyleModel",
            "description_width": "initial",
            "_view_module": "@jupyter-widgets/base",
            "_model_module_version": "1.5.0",
            "_view_count": null,
            "_view_module_version": "1.2.0",
            "bar_color": null,
            "_model_module": "@jupyter-widgets/controls"
          }
        },
        "3b2ae2be06424e36a547a97b3fdc633f": {
          "model_module": "@jupyter-widgets/base",
          "model_name": "LayoutModel",
          "state": {
            "_view_name": "LayoutView",
            "grid_template_rows": null,
            "right": null,
            "justify_content": null,
            "_view_module": "@jupyter-widgets/base",
            "overflow": null,
            "_model_module_version": "1.2.0",
            "_view_count": null,
            "flex_flow": null,
            "width": null,
            "min_width": null,
            "border": null,
            "align_items": null,
            "bottom": null,
            "_model_module": "@jupyter-widgets/base",
            "top": null,
            "grid_column": null,
            "overflow_y": null,
            "overflow_x": null,
            "grid_auto_flow": null,
            "grid_area": null,
            "grid_template_columns": null,
            "flex": null,
            "_model_name": "LayoutModel",
            "justify_items": null,
            "grid_row": null,
            "max_height": null,
            "align_content": null,
            "visibility": null,
            "align_self": null,
            "height": null,
            "min_height": null,
            "padding": null,
            "grid_auto_rows": null,
            "grid_gap": null,
            "max_width": null,
            "order": null,
            "_view_module_version": "1.2.0",
            "grid_template_areas": null,
            "object_position": null,
            "object_fit": null,
            "grid_auto_columns": null,
            "margin": null,
            "display": null,
            "left": null
          }
        },
        "c797927e709b43d8bf7ef55e62cb060c": {
          "model_module": "@jupyter-widgets/controls",
          "model_name": "DescriptionStyleModel",
          "state": {
            "_view_name": "StyleView",
            "_model_name": "DescriptionStyleModel",
            "description_width": "",
            "_view_module": "@jupyter-widgets/base",
            "_model_module_version": "1.5.0",
            "_view_count": null,
            "_view_module_version": "1.2.0",
            "_model_module": "@jupyter-widgets/controls"
          }
        },
        "f72817b28b8847f3b87ad85d26dd30c4": {
          "model_module": "@jupyter-widgets/base",
          "model_name": "LayoutModel",
          "state": {
            "_view_name": "LayoutView",
            "grid_template_rows": null,
            "right": null,
            "justify_content": null,
            "_view_module": "@jupyter-widgets/base",
            "overflow": null,
            "_model_module_version": "1.2.0",
            "_view_count": null,
            "flex_flow": null,
            "width": null,
            "min_width": null,
            "border": null,
            "align_items": null,
            "bottom": null,
            "_model_module": "@jupyter-widgets/base",
            "top": null,
            "grid_column": null,
            "overflow_y": null,
            "overflow_x": null,
            "grid_auto_flow": null,
            "grid_area": null,
            "grid_template_columns": null,
            "flex": null,
            "_model_name": "LayoutModel",
            "justify_items": null,
            "grid_row": null,
            "max_height": null,
            "align_content": null,
            "visibility": null,
            "align_self": null,
            "height": null,
            "min_height": null,
            "padding": null,
            "grid_auto_rows": null,
            "grid_gap": null,
            "max_width": null,
            "order": null,
            "_view_module_version": "1.2.0",
            "grid_template_areas": null,
            "object_position": null,
            "object_fit": null,
            "grid_auto_columns": null,
            "margin": null,
            "display": null,
            "left": null
          }
        }
      }
    }
  },
  "cells": [
    {
      "cell_type": "markdown",
      "metadata": {
        "id": "8nGJtcS7Dy33"
      },
      "source": [
        "# All Techniques of Hyper Parameter Optimization"
      ]
    },
    {
      "cell_type": "markdown",
      "metadata": {
        "id": "prShHqnSDy4D"
      },
      "source": [
        "1. GridSearchCV\n",
        "2. RandomizedSearchCV\n",
        "3. Bayesian Optimization -Automate Hyperparameter Tuning (Hyperopt)\n",
        "4. Sequential Model Based Optimization(Tuning a scikit-learn estimator with skopt)\n",
        "4. Optuna- Automate Hyperparameter Tuning\n",
        "5. Genetic Algorithms (TPOT Classifier)"
      ]
    },
    {
      "cell_type": "code",
      "metadata": {
        "id": "4UbmJbAMDy4E"
      },
      "source": [
        "import warnings\n",
        "warnings.filterwarnings('ignore')"
      ],
      "execution_count": 1,
      "outputs": []
    },
    {
      "cell_type": "code",
      "metadata": {
        "id": "5sAoU15pDy4F"
      },
      "source": [
        "import pandas as pd \n",
        "\n",
        "df=pd.read_csv('diabetes.csv')"
      ],
      "execution_count": 2,
      "outputs": []
    },
    {
      "cell_type": "code",
      "metadata": {
        "colab": {
          "base_uri": "https://localhost:8080/"
        },
        "id": "SUK7UcDaDy4F",
        "outputId": "17c17697-100d-418c-a3a9-179938d1e88a"
      },
      "source": [
        "df.isnull().sum()"
      ],
      "execution_count": 3,
      "outputs": [
        {
          "output_type": "execute_result",
          "data": {
            "text/plain": [
              "Pregnancies                 0\n",
              "Glucose                     0\n",
              "BloodPressure               0\n",
              "SkinThickness               0\n",
              "Insulin                     0\n",
              "BMI                         0\n",
              "DiabetesPedigreeFunction    0\n",
              "Age                         0\n",
              "Outcome                     0\n",
              "dtype: int64"
            ]
          },
          "metadata": {
            "tags": []
          },
          "execution_count": 3
        }
      ]
    },
    {
      "cell_type": "code",
      "metadata": {
        "colab": {
          "base_uri": "https://localhost:8080/",
          "height": 204
        },
        "id": "QYC8AvIuDy4H",
        "outputId": "913827c6-957a-4a1d-9f50-f81ec940e196"
      },
      "source": [
        "import numpy as np\n",
        "\n",
        "df['Glucose']=np.where(df['Glucose']==0,df['Glucose'].median(),df['Glucose'])\n",
        "df['Insulin']=np.where(df['Insulin']==0,df['Insulin'].median(),df['Insulin'])\n",
        "df['SkinThickness']=np.where(df['SkinThickness']==0,df['SkinThickness'].median(),df['Insulin'])\n",
        "df.head()"
      ],
      "execution_count": 4,
      "outputs": [
        {
          "output_type": "execute_result",
          "data": {
            "text/html": [
              "<div>\n",
              "<style scoped>\n",
              "    .dataframe tbody tr th:only-of-type {\n",
              "        vertical-align: middle;\n",
              "    }\n",
              "\n",
              "    .dataframe tbody tr th {\n",
              "        vertical-align: top;\n",
              "    }\n",
              "\n",
              "    .dataframe thead th {\n",
              "        text-align: right;\n",
              "    }\n",
              "</style>\n",
              "<table border=\"1\" class=\"dataframe\">\n",
              "  <thead>\n",
              "    <tr style=\"text-align: right;\">\n",
              "      <th></th>\n",
              "      <th>Pregnancies</th>\n",
              "      <th>Glucose</th>\n",
              "      <th>BloodPressure</th>\n",
              "      <th>SkinThickness</th>\n",
              "      <th>Insulin</th>\n",
              "      <th>BMI</th>\n",
              "      <th>DiabetesPedigreeFunction</th>\n",
              "      <th>Age</th>\n",
              "      <th>Outcome</th>\n",
              "    </tr>\n",
              "  </thead>\n",
              "  <tbody>\n",
              "    <tr>\n",
              "      <th>0</th>\n",
              "      <td>6</td>\n",
              "      <td>148.0</td>\n",
              "      <td>72</td>\n",
              "      <td>30.5</td>\n",
              "      <td>30.5</td>\n",
              "      <td>33.6</td>\n",
              "      <td>0.627</td>\n",
              "      <td>50</td>\n",
              "      <td>1</td>\n",
              "    </tr>\n",
              "    <tr>\n",
              "      <th>1</th>\n",
              "      <td>1</td>\n",
              "      <td>85.0</td>\n",
              "      <td>66</td>\n",
              "      <td>30.5</td>\n",
              "      <td>30.5</td>\n",
              "      <td>26.6</td>\n",
              "      <td>0.351</td>\n",
              "      <td>31</td>\n",
              "      <td>0</td>\n",
              "    </tr>\n",
              "    <tr>\n",
              "      <th>2</th>\n",
              "      <td>8</td>\n",
              "      <td>183.0</td>\n",
              "      <td>64</td>\n",
              "      <td>23.0</td>\n",
              "      <td>30.5</td>\n",
              "      <td>23.3</td>\n",
              "      <td>0.672</td>\n",
              "      <td>32</td>\n",
              "      <td>1</td>\n",
              "    </tr>\n",
              "    <tr>\n",
              "      <th>3</th>\n",
              "      <td>1</td>\n",
              "      <td>89.0</td>\n",
              "      <td>66</td>\n",
              "      <td>94.0</td>\n",
              "      <td>94.0</td>\n",
              "      <td>28.1</td>\n",
              "      <td>0.167</td>\n",
              "      <td>21</td>\n",
              "      <td>0</td>\n",
              "    </tr>\n",
              "    <tr>\n",
              "      <th>4</th>\n",
              "      <td>0</td>\n",
              "      <td>137.0</td>\n",
              "      <td>40</td>\n",
              "      <td>168.0</td>\n",
              "      <td>168.0</td>\n",
              "      <td>43.1</td>\n",
              "      <td>2.288</td>\n",
              "      <td>33</td>\n",
              "      <td>1</td>\n",
              "    </tr>\n",
              "  </tbody>\n",
              "</table>\n",
              "</div>"
            ],
            "text/plain": [
              "   Pregnancies  Glucose  BloodPressure  ...  DiabetesPedigreeFunction  Age  Outcome\n",
              "0            6    148.0             72  ...                     0.627   50        1\n",
              "1            1     85.0             66  ...                     0.351   31        0\n",
              "2            8    183.0             64  ...                     0.672   32        1\n",
              "3            1     89.0             66  ...                     0.167   21        0\n",
              "4            0    137.0             40  ...                     2.288   33        1\n",
              "\n",
              "[5 rows x 9 columns]"
            ]
          },
          "metadata": {
            "tags": []
          },
          "execution_count": 4
        }
      ]
    },
    {
      "cell_type": "code",
      "metadata": {
        "id": "T8-33P5XDy4H"
      },
      "source": [
        "X=df.drop('Outcome',axis=1)\n",
        "y=df['Outcome']"
      ],
      "execution_count": 5,
      "outputs": []
    },
    {
      "cell_type": "code",
      "metadata": {
        "colab": {
          "base_uri": "https://localhost:8080/",
          "height": 204
        },
        "id": "bpEMe2QdDy4I",
        "outputId": "872a9196-c603-4ecc-9c6c-b6728a61cec7"
      },
      "source": [
        "X.head()"
      ],
      "execution_count": 6,
      "outputs": [
        {
          "output_type": "execute_result",
          "data": {
            "text/html": [
              "<div>\n",
              "<style scoped>\n",
              "    .dataframe tbody tr th:only-of-type {\n",
              "        vertical-align: middle;\n",
              "    }\n",
              "\n",
              "    .dataframe tbody tr th {\n",
              "        vertical-align: top;\n",
              "    }\n",
              "\n",
              "    .dataframe thead th {\n",
              "        text-align: right;\n",
              "    }\n",
              "</style>\n",
              "<table border=\"1\" class=\"dataframe\">\n",
              "  <thead>\n",
              "    <tr style=\"text-align: right;\">\n",
              "      <th></th>\n",
              "      <th>Pregnancies</th>\n",
              "      <th>Glucose</th>\n",
              "      <th>BloodPressure</th>\n",
              "      <th>SkinThickness</th>\n",
              "      <th>Insulin</th>\n",
              "      <th>BMI</th>\n",
              "      <th>DiabetesPedigreeFunction</th>\n",
              "      <th>Age</th>\n",
              "    </tr>\n",
              "  </thead>\n",
              "  <tbody>\n",
              "    <tr>\n",
              "      <th>0</th>\n",
              "      <td>6</td>\n",
              "      <td>148.0</td>\n",
              "      <td>72</td>\n",
              "      <td>30.5</td>\n",
              "      <td>30.5</td>\n",
              "      <td>33.6</td>\n",
              "      <td>0.627</td>\n",
              "      <td>50</td>\n",
              "    </tr>\n",
              "    <tr>\n",
              "      <th>1</th>\n",
              "      <td>1</td>\n",
              "      <td>85.0</td>\n",
              "      <td>66</td>\n",
              "      <td>30.5</td>\n",
              "      <td>30.5</td>\n",
              "      <td>26.6</td>\n",
              "      <td>0.351</td>\n",
              "      <td>31</td>\n",
              "    </tr>\n",
              "    <tr>\n",
              "      <th>2</th>\n",
              "      <td>8</td>\n",
              "      <td>183.0</td>\n",
              "      <td>64</td>\n",
              "      <td>23.0</td>\n",
              "      <td>30.5</td>\n",
              "      <td>23.3</td>\n",
              "      <td>0.672</td>\n",
              "      <td>32</td>\n",
              "    </tr>\n",
              "    <tr>\n",
              "      <th>3</th>\n",
              "      <td>1</td>\n",
              "      <td>89.0</td>\n",
              "      <td>66</td>\n",
              "      <td>94.0</td>\n",
              "      <td>94.0</td>\n",
              "      <td>28.1</td>\n",
              "      <td>0.167</td>\n",
              "      <td>21</td>\n",
              "    </tr>\n",
              "    <tr>\n",
              "      <th>4</th>\n",
              "      <td>0</td>\n",
              "      <td>137.0</td>\n",
              "      <td>40</td>\n",
              "      <td>168.0</td>\n",
              "      <td>168.0</td>\n",
              "      <td>43.1</td>\n",
              "      <td>2.288</td>\n",
              "      <td>33</td>\n",
              "    </tr>\n",
              "  </tbody>\n",
              "</table>\n",
              "</div>"
            ],
            "text/plain": [
              "   Pregnancies  Glucose  BloodPressure  ...   BMI  DiabetesPedigreeFunction  Age\n",
              "0            6    148.0             72  ...  33.6                     0.627   50\n",
              "1            1     85.0             66  ...  26.6                     0.351   31\n",
              "2            8    183.0             64  ...  23.3                     0.672   32\n",
              "3            1     89.0             66  ...  28.1                     0.167   21\n",
              "4            0    137.0             40  ...  43.1                     2.288   33\n",
              "\n",
              "[5 rows x 8 columns]"
            ]
          },
          "metadata": {
            "tags": []
          },
          "execution_count": 6
        }
      ]
    },
    {
      "cell_type": "code",
      "metadata": {
        "colab": {
          "base_uri": "https://localhost:8080/"
        },
        "id": "ywHqYKaSDy4I",
        "scrolled": true,
        "outputId": "7ab69111-1279-41f9-c921-82ff693031fe"
      },
      "source": [
        "y.head()"
      ],
      "execution_count": 7,
      "outputs": [
        {
          "output_type": "execute_result",
          "data": {
            "text/plain": [
              "0    1\n",
              "1    0\n",
              "2    1\n",
              "3    0\n",
              "4    1\n",
              "Name: Outcome, dtype: int64"
            ]
          },
          "metadata": {
            "tags": []
          },
          "execution_count": 7
        }
      ]
    },
    {
      "cell_type": "code",
      "metadata": {
        "id": "XaElsNa_Dy4J"
      },
      "source": [
        "from sklearn.model_selection import train_test_split\n",
        "\n",
        "X_train,X_test,y_train,y_test=train_test_split(X,y,test_size=0.3,random_state=0)"
      ],
      "execution_count": 8,
      "outputs": []
    },
    {
      "cell_type": "code",
      "metadata": {
        "id": "JXnqfVvSDy4K"
      },
      "source": [
        "from sklearn.ensemble import RandomForestClassifier\n",
        "\n",
        "rf=RandomForestClassifier(n_estimators=10).fit(X_train,y_train)\n",
        "\n",
        "prediction=rf.predict(X_test)"
      ],
      "execution_count": 9,
      "outputs": []
    },
    {
      "cell_type": "code",
      "metadata": {
        "colab": {
          "base_uri": "https://localhost:8080/"
        },
        "id": "EK9FnZ9QDy4K",
        "outputId": "960b079c-0aa6-4c6c-cbef-caa06673feff"
      },
      "source": [
        "y.value_counts()"
      ],
      "execution_count": 10,
      "outputs": [
        {
          "output_type": "execute_result",
          "data": {
            "text/plain": [
              "0    500\n",
              "1    268\n",
              "Name: Outcome, dtype: int64"
            ]
          },
          "metadata": {
            "tags": []
          },
          "execution_count": 10
        }
      ]
    },
    {
      "cell_type": "code",
      "metadata": {
        "colab": {
          "base_uri": "https://localhost:8080/"
        },
        "id": "4kPNkbIZDy4L",
        "scrolled": true,
        "outputId": "4bedb3e2-92bf-4f54-a337-b5fbfcac7dc7"
      },
      "source": [
        "from sklearn.metrics import accuracy_score,confusion_matrix,classification_report\n",
        "\n",
        "print(accuracy_score(y_test,prediction))\n",
        "\n",
        "print(confusion_matrix(y_test,prediction))\n",
        "\n",
        "print(classification_report(y_test,prediction))"
      ],
      "execution_count": 11,
      "outputs": [
        {
          "output_type": "stream",
          "text": [
            "0.7619047619047619\n",
            "[[138  19]\n",
            " [ 36  38]]\n",
            "              precision    recall  f1-score   support\n",
            "\n",
            "           0       0.79      0.88      0.83       157\n",
            "           1       0.67      0.51      0.58        74\n",
            "\n",
            "    accuracy                           0.76       231\n",
            "   macro avg       0.73      0.70      0.71       231\n",
            "weighted avg       0.75      0.76      0.75       231\n",
            "\n"
          ],
          "name": "stdout"
        }
      ]
    },
    {
      "cell_type": "markdown",
      "metadata": {
        "id": "Gb6x35L-Dy4M"
      },
      "source": [
        "#### The main parameters used by a Random Forest Classifier are:\n",
        "\n",
        "1. criterion = the function used to evaluate the quality of a split.\n",
        "2. max_depth = maximum number of levels allowed in each tree.\n",
        "3. max_features = maximum number of features considered when splitting a node.\n",
        "4. min_samples_leaf = minimum number of samples which can be stored in a tree leaf.\n",
        "5. min_samples_split = minimum number of samples necessary in a node to cause node splitting.\n",
        "6. n_estimators = number of trees in the ensamble."
      ]
    },
    {
      "cell_type": "markdown",
      "metadata": {
        "id": "M3wygIF1Dy4N"
      },
      "source": [
        "### Manual Hyper parameter tuning "
      ]
    },
    {
      "cell_type": "code",
      "metadata": {
        "colab": {
          "base_uri": "https://localhost:8080/"
        },
        "id": "H4nS-RBgDy4N",
        "scrolled": true,
        "outputId": "27673023-0849-4227-fe14-8da03783ca4c"
      },
      "source": [
        "model=RandomForestClassifier(n_estimators=300,criterion='entropy',max_features='sqrt',min_samples_leaf=10,random_state=0).fit(X_train,y_train)\n",
        "predictions=model.predict(X_test)\n",
        "\n",
        "print(confusion_matrix(y_test,predictions))\n",
        "\n",
        "print(accuracy_score(y_test,predictions))\n",
        "\n",
        "print(classification_report(y_test,predictions))"
      ],
      "execution_count": 12,
      "outputs": [
        {
          "output_type": "stream",
          "text": [
            "[[142  15]\n",
            " [ 40  34]]\n",
            "0.7619047619047619\n",
            "              precision    recall  f1-score   support\n",
            "\n",
            "           0       0.78      0.90      0.84       157\n",
            "           1       0.69      0.46      0.55        74\n",
            "\n",
            "    accuracy                           0.76       231\n",
            "   macro avg       0.74      0.68      0.70       231\n",
            "weighted avg       0.75      0.76      0.75       231\n",
            "\n"
          ],
          "name": "stdout"
        }
      ]
    },
    {
      "cell_type": "markdown",
      "metadata": {
        "id": "0l2oDALdDy4O"
      },
      "source": [
        "### Randomized Search CV"
      ]
    },
    {
      "cell_type": "code",
      "metadata": {
        "colab": {
          "base_uri": "https://localhost:8080/"
        },
        "id": "qv2HVZPWDy4O",
        "outputId": "c937fbb6-4c0a-435b-ea18-5448d671b877"
      },
      "source": [
        "import numpy as np\n",
        "from sklearn.model_selection import RandomizedSearchCV\n",
        "\n",
        "# Number of trees in random forest\n",
        "n_estimators = [int(x) for x in np.linspace(start = 200, stop = 2000, num = 10)]\n",
        "\n",
        "# Number of features to consider at every split\n",
        "max_features = ['auto', 'sqrt','log2']\n",
        "\n",
        "# Maximum number of levels in tree\n",
        "max_depth = [int(x) for x in np.linspace(10, 1000,10)]\n",
        "\n",
        "# Minimum number of samples required to split a node\n",
        "min_samples_split = [2, 5, 10,14]\n",
        "\n",
        "# Minimum number of samples required at each leaf node\n",
        "min_samples_leaf = [1, 2, 4,6,8]\n",
        "\n",
        "# Create the random grid\n",
        "random_grid = {'n_estimators': n_estimators,\n",
        "               'max_features': max_features,\n",
        "               'max_depth': max_depth,\n",
        "               'min_samples_split': min_samples_split,\n",
        "               'min_samples_leaf': min_samples_leaf,\n",
        "              'criterion':['entropy','gini']}\n",
        "print(random_grid)"
      ],
      "execution_count": 13,
      "outputs": [
        {
          "output_type": "stream",
          "text": [
            "{'n_estimators': [200, 400, 600, 800, 1000, 1200, 1400, 1600, 1800, 2000], 'max_features': ['auto', 'sqrt', 'log2'], 'max_depth': [10, 120, 230, 340, 450, 560, 670, 780, 890, 1000], 'min_samples_split': [2, 5, 10, 14], 'min_samples_leaf': [1, 2, 4, 6, 8], 'criterion': ['entropy', 'gini']}\n"
          ],
          "name": "stdout"
        }
      ]
    },
    {
      "cell_type": "code",
      "metadata": {
        "colab": {
          "base_uri": "https://localhost:8080/"
        },
        "id": "AjxlSpDZDy4P",
        "outputId": "da5b1830-68e0-4efb-b934-f1c2a3f18e48"
      },
      "source": [
        "rf=RandomForestClassifier()\n",
        "rf_randomcv=RandomizedSearchCV(estimator=rf,param_distributions=random_grid,n_iter=100,cv=3,verbose=2,\n",
        "                               random_state=0,n_jobs=-1)\n",
        "### fit the randomized model\n",
        "rf_randomcv.fit(X_train,y_train)"
      ],
      "execution_count": 14,
      "outputs": [
        {
          "output_type": "stream",
          "text": [
            "Fitting 3 folds for each of 100 candidates, totalling 300 fits\n"
          ],
          "name": "stdout"
        },
        {
          "output_type": "stream",
          "text": [
            "[Parallel(n_jobs=-1)]: Using backend LokyBackend with 2 concurrent workers.\n",
            "[Parallel(n_jobs=-1)]: Done  37 tasks      | elapsed:  1.1min\n",
            "[Parallel(n_jobs=-1)]: Done 158 tasks      | elapsed:  4.4min\n",
            "[Parallel(n_jobs=-1)]: Done 300 out of 300 | elapsed:  7.9min finished\n"
          ],
          "name": "stderr"
        },
        {
          "output_type": "execute_result",
          "data": {
            "text/plain": [
              "RandomizedSearchCV(cv=3, error_score=nan,\n",
              "                   estimator=RandomForestClassifier(bootstrap=True,\n",
              "                                                    ccp_alpha=0.0,\n",
              "                                                    class_weight=None,\n",
              "                                                    criterion='gini',\n",
              "                                                    max_depth=None,\n",
              "                                                    max_features='auto',\n",
              "                                                    max_leaf_nodes=None,\n",
              "                                                    max_samples=None,\n",
              "                                                    min_impurity_decrease=0.0,\n",
              "                                                    min_impurity_split=None,\n",
              "                                                    min_samples_leaf=1,\n",
              "                                                    min_samples_split=2,\n",
              "                                                    min_weight_fraction_leaf=0.0,\n",
              "                                                    n_estimators=100,\n",
              "                                                    n_jobs...\n",
              "                   param_distributions={'criterion': ['entropy', 'gini'],\n",
              "                                        'max_depth': [10, 120, 230, 340, 450,\n",
              "                                                      560, 670, 780, 890,\n",
              "                                                      1000],\n",
              "                                        'max_features': ['auto', 'sqrt',\n",
              "                                                         'log2'],\n",
              "                                        'min_samples_leaf': [1, 2, 4, 6, 8],\n",
              "                                        'min_samples_split': [2, 5, 10, 14],\n",
              "                                        'n_estimators': [200, 400, 600, 800,\n",
              "                                                         1000, 1200, 1400, 1600,\n",
              "                                                         1800, 2000]},\n",
              "                   pre_dispatch='2*n_jobs', random_state=0, refit=True,\n",
              "                   return_train_score=False, scoring=None, verbose=2)"
            ]
          },
          "metadata": {
            "tags": []
          },
          "execution_count": 14
        }
      ]
    },
    {
      "cell_type": "code",
      "metadata": {
        "colab": {
          "base_uri": "https://localhost:8080/"
        },
        "id": "MY9RUjgnDy4Q",
        "outputId": "357d889f-fbe8-4d2d-bbf9-03e5a7eefebf"
      },
      "source": [
        "rf_randomcv.best_params_"
      ],
      "execution_count": 15,
      "outputs": [
        {
          "output_type": "execute_result",
          "data": {
            "text/plain": [
              "{'criterion': 'entropy',\n",
              " 'max_depth': 340,\n",
              " 'max_features': 'sqrt',\n",
              " 'min_samples_leaf': 2,\n",
              " 'min_samples_split': 2,\n",
              " 'n_estimators': 1400}"
            ]
          },
          "metadata": {
            "tags": []
          },
          "execution_count": 15
        }
      ]
    },
    {
      "cell_type": "code",
      "metadata": {
        "colab": {
          "base_uri": "https://localhost:8080/"
        },
        "id": "Fe59U96kDy4Q",
        "outputId": "010bc75b-402c-4315-968c-9791457c7260"
      },
      "source": [
        "rf_randomcv"
      ],
      "execution_count": 16,
      "outputs": [
        {
          "output_type": "execute_result",
          "data": {
            "text/plain": [
              "RandomizedSearchCV(cv=3, error_score=nan,\n",
              "                   estimator=RandomForestClassifier(bootstrap=True,\n",
              "                                                    ccp_alpha=0.0,\n",
              "                                                    class_weight=None,\n",
              "                                                    criterion='gini',\n",
              "                                                    max_depth=None,\n",
              "                                                    max_features='auto',\n",
              "                                                    max_leaf_nodes=None,\n",
              "                                                    max_samples=None,\n",
              "                                                    min_impurity_decrease=0.0,\n",
              "                                                    min_impurity_split=None,\n",
              "                                                    min_samples_leaf=1,\n",
              "                                                    min_samples_split=2,\n",
              "                                                    min_weight_fraction_leaf=0.0,\n",
              "                                                    n_estimators=100,\n",
              "                                                    n_jobs...\n",
              "                   param_distributions={'criterion': ['entropy', 'gini'],\n",
              "                                        'max_depth': [10, 120, 230, 340, 450,\n",
              "                                                      560, 670, 780, 890,\n",
              "                                                      1000],\n",
              "                                        'max_features': ['auto', 'sqrt',\n",
              "                                                         'log2'],\n",
              "                                        'min_samples_leaf': [1, 2, 4, 6, 8],\n",
              "                                        'min_samples_split': [2, 5, 10, 14],\n",
              "                                        'n_estimators': [200, 400, 600, 800,\n",
              "                                                         1000, 1200, 1400, 1600,\n",
              "                                                         1800, 2000]},\n",
              "                   pre_dispatch='2*n_jobs', random_state=0, refit=True,\n",
              "                   return_train_score=False, scoring=None, verbose=2)"
            ]
          },
          "metadata": {
            "tags": []
          },
          "execution_count": 16
        }
      ]
    },
    {
      "cell_type": "code",
      "metadata": {
        "id": "20IEiGrODy4Q"
      },
      "source": [
        "best_random_grid=rf_randomcv.best_estimator_"
      ],
      "execution_count": 17,
      "outputs": []
    },
    {
      "cell_type": "code",
      "metadata": {
        "colab": {
          "base_uri": "https://localhost:8080/"
        },
        "id": "tlO6pYc5Dy4R",
        "outputId": "f9d179ef-9142-4ff5-e084-58a37359b720"
      },
      "source": [
        "from sklearn.metrics import accuracy_score\n",
        "y_pred=best_random_grid.predict(X_test)\n",
        "print(confusion_matrix(y_test,y_pred))\n",
        "print(\"Accuracy Score {}\".format(accuracy_score(y_test,y_pred)))\n",
        "print(\"Classification report: {}\".format(classification_report(y_test,y_pred)))"
      ],
      "execution_count": 18,
      "outputs": [
        {
          "output_type": "stream",
          "text": [
            "[[141  16]\n",
            " [ 34  40]]\n",
            "Accuracy Score 0.7835497835497836\n",
            "Classification report:               precision    recall  f1-score   support\n",
            "\n",
            "           0       0.81      0.90      0.85       157\n",
            "           1       0.71      0.54      0.62        74\n",
            "\n",
            "    accuracy                           0.78       231\n",
            "   macro avg       0.76      0.72      0.73       231\n",
            "weighted avg       0.78      0.78      0.77       231\n",
            "\n"
          ],
          "name": "stdout"
        }
      ]
    },
    {
      "cell_type": "markdown",
      "metadata": {
        "id": "FUgWq49NDy4R"
      },
      "source": [
        "## Grid Search CV"
      ]
    },
    {
      "cell_type": "code",
      "metadata": {
        "colab": {
          "base_uri": "https://localhost:8080/"
        },
        "id": "7Sbjq6gzDy4R",
        "outputId": "dd98732b-dd98-40df-c683-44b47cdf4b75"
      },
      "source": [
        "rf_randomcv.best_params_"
      ],
      "execution_count": 19,
      "outputs": [
        {
          "output_type": "execute_result",
          "data": {
            "text/plain": [
              "{'criterion': 'entropy',\n",
              " 'max_depth': 340,\n",
              " 'max_features': 'sqrt',\n",
              " 'min_samples_leaf': 2,\n",
              " 'min_samples_split': 2,\n",
              " 'n_estimators': 1400}"
            ]
          },
          "metadata": {
            "tags": []
          },
          "execution_count": 19
        }
      ]
    },
    {
      "cell_type": "code",
      "metadata": {
        "id": "Ab2IorTyDy4S"
      },
      "source": [
        "from sklearn.model_selection import GridSearchCV"
      ],
      "execution_count": 20,
      "outputs": []
    },
    {
      "cell_type": "code",
      "metadata": {
        "colab": {
          "base_uri": "https://localhost:8080/"
        },
        "id": "2FWBGqA8Dy4S",
        "outputId": "9ba98f5f-a85b-40a2-8d5c-336ba1b77b70"
      },
      "source": [
        "param_grid = {\n",
        "    'criterion': [rf_randomcv.best_params_['criterion']],\n",
        "    'max_depth': [rf_randomcv.best_params_['max_depth']],\n",
        "    'max_features': [rf_randomcv.best_params_['max_features']],\n",
        "    'min_samples_leaf': [rf_randomcv.best_params_['min_samples_leaf'],\n",
        "                         rf_randomcv.best_params_['min_samples_leaf']+2, \n",
        "                         rf_randomcv.best_params_['min_samples_leaf'] + 4],\n",
        "    'min_samples_split': [rf_randomcv.best_params_['min_samples_split'] - 2,\n",
        "                          rf_randomcv.best_params_['min_samples_split'] - 1,\n",
        "                          rf_randomcv.best_params_['min_samples_split'], \n",
        "                          rf_randomcv.best_params_['min_samples_split'] +1,\n",
        "                          rf_randomcv.best_params_['min_samples_split'] + 2],\n",
        "    'n_estimators': [rf_randomcv.best_params_['n_estimators'] - 200, rf_randomcv.best_params_['n_estimators'] - 100, \n",
        "                     rf_randomcv.best_params_['n_estimators'], \n",
        "                     rf_randomcv.best_params_['n_estimators'] + 100, rf_randomcv.best_params_['n_estimators'] + 200]\n",
        "}\n",
        "\n",
        "print(param_grid)"
      ],
      "execution_count": 21,
      "outputs": [
        {
          "output_type": "stream",
          "text": [
            "{'criterion': ['entropy'], 'max_depth': [340], 'max_features': ['sqrt'], 'min_samples_leaf': [2, 4, 6], 'min_samples_split': [0, 1, 2, 3, 4], 'n_estimators': [1200, 1300, 1400, 1500, 1600]}\n"
          ],
          "name": "stdout"
        }
      ]
    },
    {
      "cell_type": "code",
      "metadata": {
        "id": "o4kIbSf7Dy4T",
        "colab": {
          "base_uri": "https://localhost:8080/"
        },
        "outputId": "163e58aa-6370-4fc7-e84b-8a5459784ce9"
      },
      "source": [
        "#### Fit the grid_search to the data\n",
        "rf=RandomForestClassifier()\n",
        "grid_search=GridSearchCV(estimator=rf,param_grid=param_grid,cv=10,n_jobs=-1,verbose=2)\n",
        "grid_search.fit(X_train,y_train)"
      ],
      "execution_count": 22,
      "outputs": [
        {
          "output_type": "stream",
          "text": [
            "Fitting 10 folds for each of 75 candidates, totalling 750 fits\n"
          ],
          "name": "stdout"
        },
        {
          "output_type": "stream",
          "text": [
            "[Parallel(n_jobs=-1)]: Using backend LokyBackend with 2 concurrent workers.\n",
            "[Parallel(n_jobs=-1)]: Done  37 tasks      | elapsed:   19.4s\n",
            "[Parallel(n_jobs=-1)]: Done 158 tasks      | elapsed:  3.0min\n",
            "[Parallel(n_jobs=-1)]: Done 361 tasks      | elapsed:  7.8min\n",
            "[Parallel(n_jobs=-1)]: Done 644 tasks      | elapsed: 15.2min\n",
            "[Parallel(n_jobs=-1)]: Done 750 out of 750 | elapsed: 19.0min finished\n"
          ],
          "name": "stderr"
        },
        {
          "output_type": "execute_result",
          "data": {
            "text/plain": [
              "GridSearchCV(cv=10, error_score=nan,\n",
              "             estimator=RandomForestClassifier(bootstrap=True, ccp_alpha=0.0,\n",
              "                                              class_weight=None,\n",
              "                                              criterion='gini', max_depth=None,\n",
              "                                              max_features='auto',\n",
              "                                              max_leaf_nodes=None,\n",
              "                                              max_samples=None,\n",
              "                                              min_impurity_decrease=0.0,\n",
              "                                              min_impurity_split=None,\n",
              "                                              min_samples_leaf=1,\n",
              "                                              min_samples_split=2,\n",
              "                                              min_weight_fraction_leaf=0.0,\n",
              "                                              n_estimators=100, n_jobs=None,\n",
              "                                              oob_score=False,\n",
              "                                              random_state=None, verbose=0,\n",
              "                                              warm_start=False),\n",
              "             iid='deprecated', n_jobs=-1,\n",
              "             param_grid={'criterion': ['entropy'], 'max_depth': [340],\n",
              "                         'max_features': ['sqrt'],\n",
              "                         'min_samples_leaf': [2, 4, 6],\n",
              "                         'min_samples_split': [0, 1, 2, 3, 4],\n",
              "                         'n_estimators': [1200, 1300, 1400, 1500, 1600]},\n",
              "             pre_dispatch='2*n_jobs', refit=True, return_train_score=False,\n",
              "             scoring=None, verbose=2)"
            ]
          },
          "metadata": {
            "tags": []
          },
          "execution_count": 22
        }
      ]
    },
    {
      "cell_type": "code",
      "metadata": {
        "id": "phYvjp-TDy4U",
        "colab": {
          "base_uri": "https://localhost:8080/"
        },
        "outputId": "fbb056cc-41af-473a-a097-a784aeb8e83e"
      },
      "source": [
        "grid_search.best_estimator_"
      ],
      "execution_count": 23,
      "outputs": [
        {
          "output_type": "execute_result",
          "data": {
            "text/plain": [
              "RandomForestClassifier(bootstrap=True, ccp_alpha=0.0, class_weight=None,\n",
              "                       criterion='entropy', max_depth=340, max_features='sqrt',\n",
              "                       max_leaf_nodes=None, max_samples=None,\n",
              "                       min_impurity_decrease=0.0, min_impurity_split=None,\n",
              "                       min_samples_leaf=4, min_samples_split=2,\n",
              "                       min_weight_fraction_leaf=0.0, n_estimators=1600,\n",
              "                       n_jobs=None, oob_score=False, random_state=None,\n",
              "                       verbose=0, warm_start=False)"
            ]
          },
          "metadata": {
            "tags": []
          },
          "execution_count": 23
        }
      ]
    },
    {
      "cell_type": "code",
      "metadata": {
        "id": "Fd0VwWJZDy4U"
      },
      "source": [
        "best_grid=grid_search.best_estimator_"
      ],
      "execution_count": 24,
      "outputs": []
    },
    {
      "cell_type": "code",
      "metadata": {
        "id": "7xlyXU-9Dy4U",
        "colab": {
          "base_uri": "https://localhost:8080/"
        },
        "outputId": "896d6753-3673-40d7-d3c2-30502d0af528"
      },
      "source": [
        "best_grid"
      ],
      "execution_count": 25,
      "outputs": [
        {
          "output_type": "execute_result",
          "data": {
            "text/plain": [
              "RandomForestClassifier(bootstrap=True, ccp_alpha=0.0, class_weight=None,\n",
              "                       criterion='entropy', max_depth=340, max_features='sqrt',\n",
              "                       max_leaf_nodes=None, max_samples=None,\n",
              "                       min_impurity_decrease=0.0, min_impurity_split=None,\n",
              "                       min_samples_leaf=4, min_samples_split=2,\n",
              "                       min_weight_fraction_leaf=0.0, n_estimators=1600,\n",
              "                       n_jobs=None, oob_score=False, random_state=None,\n",
              "                       verbose=0, warm_start=False)"
            ]
          },
          "metadata": {
            "tags": []
          },
          "execution_count": 25
        }
      ]
    },
    {
      "cell_type": "code",
      "metadata": {
        "id": "shtC0vslDy4U",
        "colab": {
          "base_uri": "https://localhost:8080/"
        },
        "outputId": "a371c453-eb79-4c0f-b3a0-2b277d6ed61e"
      },
      "source": [
        "y_pred=best_grid.predict(X_test)\n",
        "print(confusion_matrix(y_test,y_pred))\n",
        "print(\"Accuracy Score {}\".format(accuracy_score(y_test,y_pred)))\n",
        "print(\"Classification report: {}\".format(classification_report(y_test,y_pred)))"
      ],
      "execution_count": 26,
      "outputs": [
        {
          "output_type": "stream",
          "text": [
            "[[141  16]\n",
            " [ 34  40]]\n",
            "Accuracy Score 0.7835497835497836\n",
            "Classification report:               precision    recall  f1-score   support\n",
            "\n",
            "           0       0.81      0.90      0.85       157\n",
            "           1       0.71      0.54      0.62        74\n",
            "\n",
            "    accuracy                           0.78       231\n",
            "   macro avg       0.76      0.72      0.73       231\n",
            "weighted avg       0.78      0.78      0.77       231\n",
            "\n"
          ],
          "name": "stdout"
        }
      ]
    },
    {
      "cell_type": "markdown",
      "metadata": {
        "id": "wpgmVduhDy4V"
      },
      "source": [
        "## Automated Hyperparameter Tuning\n",
        "\n",
        "\n",
        "\n",
        "### Automated Hyperparameter Tuning can be done by using techniques such as\n",
        "\n",
        "1. Bayesian Optimization\n",
        "2. Gradient Descent\n",
        "3. Evolutionary Algorithms\n",
        "\n",
        "\n",
        "### Bayesian Optimization\n",
        "\n",
        "Bayesian optimization uses probability to find the minimum of a function. The final aim is to find the input value to a function which can gives us the lowest possible output value.It usually performs better than random,grid and manual search providing better performance in the testing phase and reduced optimization time. In Hyperopt, Bayesian Optimization can be implemented giving 3 three main parameters to the function fmin.\n",
        "\n",
        "1. Objective Function = defines the loss function to minimize.\n",
        "2. Domain Space = defines the range of input values to test (in Bayesian \n",
        "3. Optimization this space creates a probability distribution for each of the used Hyperparameters).\n",
        "4. Optimization Algorithm = defines the search algorithm to use to select the best input values to use in each new iteration."
      ]
    },
    {
      "cell_type": "code",
      "metadata": {
        "id": "Ei_i68A0Dy4W"
      },
      "source": [
        "from hyperopt import hp,fmin,tpe,STATUS_OK,Trials"
      ],
      "execution_count": 27,
      "outputs": []
    },
    {
      "cell_type": "code",
      "metadata": {
        "id": "0knTlLlSDy4W"
      },
      "source": [
        "space = {'criterion': hp.choice('criterion', ['entropy', 'gini']),\n",
        "        'max_depth': hp.quniform('max_depth', 10, 1200, 10),\n",
        "        'max_features': hp.choice('max_features', ['auto', 'sqrt','log2', None]),\n",
        "        'min_samples_leaf': hp.uniform('min_samples_leaf', 0, 0.5),\n",
        "        'min_samples_split' : hp.uniform ('min_samples_split', 0, 1),\n",
        "        'n_estimators' : hp.choice('n_estimators', [10, 50, 300, 750, 1200,1300,1500])\n",
        "    }"
      ],
      "execution_count": 28,
      "outputs": []
    },
    {
      "cell_type": "code",
      "metadata": {
        "id": "j54HO4mdDy4W",
        "colab": {
          "base_uri": "https://localhost:8080/"
        },
        "outputId": "7b0a2d66-4a8f-4ba6-a73c-b2be5d9e9a3f"
      },
      "source": [
        "space"
      ],
      "execution_count": 29,
      "outputs": [
        {
          "output_type": "execute_result",
          "data": {
            "text/plain": [
              "{'criterion': <hyperopt.pyll.base.Apply at 0x7f67f40ea490>,\n",
              " 'max_depth': <hyperopt.pyll.base.Apply at 0x7f67f40ea6d0>,\n",
              " 'max_features': <hyperopt.pyll.base.Apply at 0x7f67f40ea810>,\n",
              " 'min_samples_leaf': <hyperopt.pyll.base.Apply at 0x7f67f5211490>,\n",
              " 'min_samples_split': <hyperopt.pyll.base.Apply at 0x7f67f5211710>,\n",
              " 'n_estimators': <hyperopt.pyll.base.Apply at 0x7f67f5179b90>}"
            ]
          },
          "metadata": {
            "tags": []
          },
          "execution_count": 29
        }
      ]
    },
    {
      "cell_type": "code",
      "metadata": {
        "id": "ZJCW6GRJDy4W"
      },
      "source": [
        "def objective(space):\n",
        "    model = RandomForestClassifier(criterion = space['criterion'], max_depth = space['max_depth'],\n",
        "                                 max_features = space['max_features'],\n",
        "                                 min_samples_leaf = space['min_samples_leaf'],\n",
        "                                 min_samples_split = space['min_samples_split'],\n",
        "                                 n_estimators = space['n_estimators'], \n",
        "                                 )\n",
        "    \n",
        "    accuracy = cross_val_score(model, X_train, y_train, cv = 5).mean()\n",
        "\n",
        "    # We aim to maximize accuracy, therefore we return it as a negative value\n",
        "    return {'loss': -accuracy, 'status': STATUS_OK }"
      ],
      "execution_count": 30,
      "outputs": []
    },
    {
      "cell_type": "code",
      "metadata": {
        "id": "WhQZ6fv7Dy4X",
        "colab": {
          "base_uri": "https://localhost:8080/"
        },
        "outputId": "a8441039-0b40-477a-a958-216d9f04b12f"
      },
      "source": [
        "from sklearn.model_selection import cross_val_score\n",
        "\n",
        "trials=Trials()\n",
        "best = fmin(fn= objective,space=space,algo=tpe.suggest,max_evals=80,trials=trials)\n",
        "\n",
        "best"
      ],
      "execution_count": 31,
      "outputs": [
        {
          "output_type": "stream",
          "text": [
            "100%|██████████| 80/80 [04:59<00:00,  3.75s/it, best loss: -0.7726722049151955]\n"
          ],
          "name": "stdout"
        },
        {
          "output_type": "execute_result",
          "data": {
            "text/plain": [
              "{'criterion': 0,\n",
              " 'max_depth': 60.0,\n",
              " 'max_features': 0,\n",
              " 'min_samples_leaf': 0.11508124756669602,\n",
              " 'min_samples_split': 0.22465164834652995,\n",
              " 'n_estimators': 0}"
            ]
          },
          "metadata": {
            "tags": []
          },
          "execution_count": 31
        }
      ]
    },
    {
      "cell_type": "code",
      "metadata": {
        "id": "YS6MeFdVDy4X",
        "colab": {
          "base_uri": "https://localhost:8080/"
        },
        "outputId": "fc1f081c-bb10-4305-a0cb-5f273b6dd0b4"
      },
      "source": [
        "crit = {0: 'entropy', 1: 'gini'}\n",
        "feat = {0: 'auto', 1: 'sqrt', 2: 'log2', 3: None}\n",
        "est = {0: 10, 1: 50, 2: 300, 3: 750, 4: 1200,5:1300,6:1500}\n",
        "\n",
        "print(crit[best['criterion']])\n",
        "print(feat[best['max_features']])\n",
        "print(est[best['n_estimators']])"
      ],
      "execution_count": 32,
      "outputs": [
        {
          "output_type": "stream",
          "text": [
            "entropy\n",
            "auto\n",
            "10\n"
          ],
          "name": "stdout"
        }
      ]
    },
    {
      "cell_type": "code",
      "metadata": {
        "id": "nd3ZziBHDy4X",
        "colab": {
          "base_uri": "https://localhost:8080/"
        },
        "outputId": "294e8464-6210-470e-9cf4-6501806306b9"
      },
      "source": [
        "best['min_samples_leaf']"
      ],
      "execution_count": 33,
      "outputs": [
        {
          "output_type": "execute_result",
          "data": {
            "text/plain": [
              "0.11508124756669602"
            ]
          },
          "metadata": {
            "tags": []
          },
          "execution_count": 33
        }
      ]
    },
    {
      "cell_type": "code",
      "metadata": {
        "id": "TJJIfmRQDy4Y",
        "scrolled": true,
        "colab": {
          "base_uri": "https://localhost:8080/"
        },
        "outputId": "e1d998c5-8012-4df8-bcd3-a3946d7dedf8"
      },
      "source": [
        "trainedforest = RandomForestClassifier(criterion = crit[best['criterion']], max_depth = best['max_depth'], \n",
        "                                       max_features = feat[best['max_features']], \n",
        "                                       min_samples_leaf = best['min_samples_leaf'], \n",
        "                                       min_samples_split = best['min_samples_split'], \n",
        "                                       n_estimators = est[best['n_estimators']]).fit(X_train,y_train)\n",
        "\n",
        "predictionforest = trainedforest.predict(X_test)\n",
        "\n",
        "print(confusion_matrix(y_test,predictionforest))\n",
        "print(accuracy_score(y_test,predictionforest))\n",
        "print(classification_report(y_test,predictionforest))\n",
        "\n",
        "acc5 = accuracy_score(y_test,predictionforest)"
      ],
      "execution_count": 34,
      "outputs": [
        {
          "output_type": "stream",
          "text": [
            "[[134  23]\n",
            " [ 40  34]]\n",
            "0.7272727272727273\n",
            "              precision    recall  f1-score   support\n",
            "\n",
            "           0       0.77      0.85      0.81       157\n",
            "           1       0.60      0.46      0.52        74\n",
            "\n",
            "    accuracy                           0.73       231\n",
            "   macro avg       0.68      0.66      0.66       231\n",
            "weighted avg       0.71      0.73      0.72       231\n",
            "\n"
          ],
          "name": "stdout"
        }
      ]
    },
    {
      "cell_type": "markdown",
      "metadata": {
        "id": "e9y1OcWyDy4Y"
      },
      "source": [
        "## Genetic Algorithms\n",
        "\n",
        "Genetic Algorithms tries to apply natural selection mechanisms to Machine Learning contexts.\n",
        "\n",
        "Let's immagine we create a population of N Machine Learning models with some predifined Hyperparameters. We can then calculate the accuracy of each model and decide to keep just half of the models (the ones that performs best). We can now generate some offsprings having similar Hyperparameters to the ones of the best models so that go get again a population of N models. At this point we can again caltulate the accuracy of each model and repeate the cycle for a defined number of generations. In this way, just the best models will survive at the end of the process."
      ]
    },
    {
      "cell_type": "code",
      "metadata": {
        "id": "-pafRzxvDy4Y",
        "colab": {
          "base_uri": "https://localhost:8080/",
          "height": 204
        },
        "outputId": "537048e2-10e4-4c13-a1f5-05898e3d4371"
      },
      "source": [
        "import pandas as pd\n",
        "\n",
        "df=pd.read_csv('diabetes.csv')\n",
        "df.head()"
      ],
      "execution_count": 35,
      "outputs": [
        {
          "output_type": "execute_result",
          "data": {
            "text/html": [
              "<div>\n",
              "<style scoped>\n",
              "    .dataframe tbody tr th:only-of-type {\n",
              "        vertical-align: middle;\n",
              "    }\n",
              "\n",
              "    .dataframe tbody tr th {\n",
              "        vertical-align: top;\n",
              "    }\n",
              "\n",
              "    .dataframe thead th {\n",
              "        text-align: right;\n",
              "    }\n",
              "</style>\n",
              "<table border=\"1\" class=\"dataframe\">\n",
              "  <thead>\n",
              "    <tr style=\"text-align: right;\">\n",
              "      <th></th>\n",
              "      <th>Pregnancies</th>\n",
              "      <th>Glucose</th>\n",
              "      <th>BloodPressure</th>\n",
              "      <th>SkinThickness</th>\n",
              "      <th>Insulin</th>\n",
              "      <th>BMI</th>\n",
              "      <th>DiabetesPedigreeFunction</th>\n",
              "      <th>Age</th>\n",
              "      <th>Outcome</th>\n",
              "    </tr>\n",
              "  </thead>\n",
              "  <tbody>\n",
              "    <tr>\n",
              "      <th>0</th>\n",
              "      <td>6</td>\n",
              "      <td>148</td>\n",
              "      <td>72</td>\n",
              "      <td>35</td>\n",
              "      <td>0</td>\n",
              "      <td>33.6</td>\n",
              "      <td>0.627</td>\n",
              "      <td>50</td>\n",
              "      <td>1</td>\n",
              "    </tr>\n",
              "    <tr>\n",
              "      <th>1</th>\n",
              "      <td>1</td>\n",
              "      <td>85</td>\n",
              "      <td>66</td>\n",
              "      <td>29</td>\n",
              "      <td>0</td>\n",
              "      <td>26.6</td>\n",
              "      <td>0.351</td>\n",
              "      <td>31</td>\n",
              "      <td>0</td>\n",
              "    </tr>\n",
              "    <tr>\n",
              "      <th>2</th>\n",
              "      <td>8</td>\n",
              "      <td>183</td>\n",
              "      <td>64</td>\n",
              "      <td>0</td>\n",
              "      <td>0</td>\n",
              "      <td>23.3</td>\n",
              "      <td>0.672</td>\n",
              "      <td>32</td>\n",
              "      <td>1</td>\n",
              "    </tr>\n",
              "    <tr>\n",
              "      <th>3</th>\n",
              "      <td>1</td>\n",
              "      <td>89</td>\n",
              "      <td>66</td>\n",
              "      <td>23</td>\n",
              "      <td>94</td>\n",
              "      <td>28.1</td>\n",
              "      <td>0.167</td>\n",
              "      <td>21</td>\n",
              "      <td>0</td>\n",
              "    </tr>\n",
              "    <tr>\n",
              "      <th>4</th>\n",
              "      <td>0</td>\n",
              "      <td>137</td>\n",
              "      <td>40</td>\n",
              "      <td>35</td>\n",
              "      <td>168</td>\n",
              "      <td>43.1</td>\n",
              "      <td>2.288</td>\n",
              "      <td>33</td>\n",
              "      <td>1</td>\n",
              "    </tr>\n",
              "  </tbody>\n",
              "</table>\n",
              "</div>"
            ],
            "text/plain": [
              "   Pregnancies  Glucose  BloodPressure  ...  DiabetesPedigreeFunction  Age  Outcome\n",
              "0            6      148             72  ...                     0.627   50        1\n",
              "1            1       85             66  ...                     0.351   31        0\n",
              "2            8      183             64  ...                     0.672   32        1\n",
              "3            1       89             66  ...                     0.167   21        0\n",
              "4            0      137             40  ...                     2.288   33        1\n",
              "\n",
              "[5 rows x 9 columns]"
            ]
          },
          "metadata": {
            "tags": []
          },
          "execution_count": 35
        }
      ]
    },
    {
      "cell_type": "code",
      "metadata": {
        "id": "TKFfRV2jDy4Z"
      },
      "source": [
        "X=df.drop('Outcome',axis=1)\n",
        "\n",
        "y=df['Outcome']"
      ],
      "execution_count": 36,
      "outputs": []
    },
    {
      "cell_type": "code",
      "metadata": {
        "id": "APclCNFFDy4Z",
        "colab": {
          "base_uri": "https://localhost:8080/",
          "height": 419
        },
        "outputId": "4320e990-d76f-472a-df66-a57068fe42a5"
      },
      "source": [
        "pd.DataFrame(X,columns=df.columns[:-1])"
      ],
      "execution_count": 37,
      "outputs": [
        {
          "output_type": "execute_result",
          "data": {
            "text/html": [
              "<div>\n",
              "<style scoped>\n",
              "    .dataframe tbody tr th:only-of-type {\n",
              "        vertical-align: middle;\n",
              "    }\n",
              "\n",
              "    .dataframe tbody tr th {\n",
              "        vertical-align: top;\n",
              "    }\n",
              "\n",
              "    .dataframe thead th {\n",
              "        text-align: right;\n",
              "    }\n",
              "</style>\n",
              "<table border=\"1\" class=\"dataframe\">\n",
              "  <thead>\n",
              "    <tr style=\"text-align: right;\">\n",
              "      <th></th>\n",
              "      <th>Pregnancies</th>\n",
              "      <th>Glucose</th>\n",
              "      <th>BloodPressure</th>\n",
              "      <th>SkinThickness</th>\n",
              "      <th>Insulin</th>\n",
              "      <th>BMI</th>\n",
              "      <th>DiabetesPedigreeFunction</th>\n",
              "      <th>Age</th>\n",
              "    </tr>\n",
              "  </thead>\n",
              "  <tbody>\n",
              "    <tr>\n",
              "      <th>0</th>\n",
              "      <td>6</td>\n",
              "      <td>148</td>\n",
              "      <td>72</td>\n",
              "      <td>35</td>\n",
              "      <td>0</td>\n",
              "      <td>33.6</td>\n",
              "      <td>0.627</td>\n",
              "      <td>50</td>\n",
              "    </tr>\n",
              "    <tr>\n",
              "      <th>1</th>\n",
              "      <td>1</td>\n",
              "      <td>85</td>\n",
              "      <td>66</td>\n",
              "      <td>29</td>\n",
              "      <td>0</td>\n",
              "      <td>26.6</td>\n",
              "      <td>0.351</td>\n",
              "      <td>31</td>\n",
              "    </tr>\n",
              "    <tr>\n",
              "      <th>2</th>\n",
              "      <td>8</td>\n",
              "      <td>183</td>\n",
              "      <td>64</td>\n",
              "      <td>0</td>\n",
              "      <td>0</td>\n",
              "      <td>23.3</td>\n",
              "      <td>0.672</td>\n",
              "      <td>32</td>\n",
              "    </tr>\n",
              "    <tr>\n",
              "      <th>3</th>\n",
              "      <td>1</td>\n",
              "      <td>89</td>\n",
              "      <td>66</td>\n",
              "      <td>23</td>\n",
              "      <td>94</td>\n",
              "      <td>28.1</td>\n",
              "      <td>0.167</td>\n",
              "      <td>21</td>\n",
              "    </tr>\n",
              "    <tr>\n",
              "      <th>4</th>\n",
              "      <td>0</td>\n",
              "      <td>137</td>\n",
              "      <td>40</td>\n",
              "      <td>35</td>\n",
              "      <td>168</td>\n",
              "      <td>43.1</td>\n",
              "      <td>2.288</td>\n",
              "      <td>33</td>\n",
              "    </tr>\n",
              "    <tr>\n",
              "      <th>...</th>\n",
              "      <td>...</td>\n",
              "      <td>...</td>\n",
              "      <td>...</td>\n",
              "      <td>...</td>\n",
              "      <td>...</td>\n",
              "      <td>...</td>\n",
              "      <td>...</td>\n",
              "      <td>...</td>\n",
              "    </tr>\n",
              "    <tr>\n",
              "      <th>763</th>\n",
              "      <td>10</td>\n",
              "      <td>101</td>\n",
              "      <td>76</td>\n",
              "      <td>48</td>\n",
              "      <td>180</td>\n",
              "      <td>32.9</td>\n",
              "      <td>0.171</td>\n",
              "      <td>63</td>\n",
              "    </tr>\n",
              "    <tr>\n",
              "      <th>764</th>\n",
              "      <td>2</td>\n",
              "      <td>122</td>\n",
              "      <td>70</td>\n",
              "      <td>27</td>\n",
              "      <td>0</td>\n",
              "      <td>36.8</td>\n",
              "      <td>0.340</td>\n",
              "      <td>27</td>\n",
              "    </tr>\n",
              "    <tr>\n",
              "      <th>765</th>\n",
              "      <td>5</td>\n",
              "      <td>121</td>\n",
              "      <td>72</td>\n",
              "      <td>23</td>\n",
              "      <td>112</td>\n",
              "      <td>26.2</td>\n",
              "      <td>0.245</td>\n",
              "      <td>30</td>\n",
              "    </tr>\n",
              "    <tr>\n",
              "      <th>766</th>\n",
              "      <td>1</td>\n",
              "      <td>126</td>\n",
              "      <td>60</td>\n",
              "      <td>0</td>\n",
              "      <td>0</td>\n",
              "      <td>30.1</td>\n",
              "      <td>0.349</td>\n",
              "      <td>47</td>\n",
              "    </tr>\n",
              "    <tr>\n",
              "      <th>767</th>\n",
              "      <td>1</td>\n",
              "      <td>93</td>\n",
              "      <td>70</td>\n",
              "      <td>31</td>\n",
              "      <td>0</td>\n",
              "      <td>30.4</td>\n",
              "      <td>0.315</td>\n",
              "      <td>23</td>\n",
              "    </tr>\n",
              "  </tbody>\n",
              "</table>\n",
              "<p>768 rows × 8 columns</p>\n",
              "</div>"
            ],
            "text/plain": [
              "     Pregnancies  Glucose  BloodPressure  ...   BMI  DiabetesPedigreeFunction  Age\n",
              "0              6      148             72  ...  33.6                     0.627   50\n",
              "1              1       85             66  ...  26.6                     0.351   31\n",
              "2              8      183             64  ...  23.3                     0.672   32\n",
              "3              1       89             66  ...  28.1                     0.167   21\n",
              "4              0      137             40  ...  43.1                     2.288   33\n",
              "..           ...      ...            ...  ...   ...                       ...  ...\n",
              "763           10      101             76  ...  32.9                     0.171   63\n",
              "764            2      122             70  ...  36.8                     0.340   27\n",
              "765            5      121             72  ...  26.2                     0.245   30\n",
              "766            1      126             60  ...  30.1                     0.349   47\n",
              "767            1       93             70  ...  30.4                     0.315   23\n",
              "\n",
              "[768 rows x 8 columns]"
            ]
          },
          "metadata": {
            "tags": []
          },
          "execution_count": 37
        }
      ]
    },
    {
      "cell_type": "code",
      "metadata": {
        "id": "IGgR-sMEDy4a"
      },
      "source": [
        "#### Train Test Split\n",
        "from sklearn.model_selection import train_test_split\n",
        "X_train,X_test,y_train,y_test=train_test_split(X,y,test_size=0.20,random_state=0)"
      ],
      "execution_count": 38,
      "outputs": []
    },
    {
      "cell_type": "code",
      "metadata": {
        "id": "BVPHlpLMDy4a",
        "colab": {
          "base_uri": "https://localhost:8080/"
        },
        "outputId": "b2348224-1527-4265-d9d5-6385d7e1f16c"
      },
      "source": [
        "import numpy as np\n",
        "from sklearn.model_selection import RandomizedSearchCV\n",
        "\n",
        "# Number of trees in random forest\n",
        "n_estimators = [int(x) for x in np.linspace(start = 200, stop = 2000, num = 10)]\n",
        "\n",
        "# Number of features to consider at every split\n",
        "max_features = ['auto', 'sqrt','log2']\n",
        "\n",
        "# Maximum number of levels in tree\n",
        "max_depth = [int(x) for x in np.linspace(10, 1000,10)]\n",
        "\n",
        "# Minimum number of samples required to split a node\n",
        "min_samples_split = [2, 5, 10,14]\n",
        "\n",
        "# Minimum number of samples required at each leaf node\n",
        "min_samples_leaf = [1, 2, 4,6,8]\n",
        "\n",
        "# Create the random grid\n",
        "param = {'n_estimators': n_estimators,\n",
        "               'max_features': max_features,\n",
        "               'max_depth': max_depth,\n",
        "               'min_samples_split': min_samples_split,\n",
        "               'min_samples_leaf': min_samples_leaf,\n",
        "              'criterion':['entropy','gini']}\n",
        "\n",
        "print(param)"
      ],
      "execution_count": 39,
      "outputs": [
        {
          "output_type": "stream",
          "text": [
            "{'n_estimators': [200, 400, 600, 800, 1000, 1200, 1400, 1600, 1800, 2000], 'max_features': ['auto', 'sqrt', 'log2'], 'max_depth': [10, 120, 230, 340, 450, 560, 670, 780, 890, 1000], 'min_samples_split': [2, 5, 10, 14], 'min_samples_leaf': [1, 2, 4, 6, 8], 'criterion': ['entropy', 'gini']}\n"
          ],
          "name": "stdout"
        }
      ]
    },
    {
      "cell_type": "code",
      "metadata": {
        "colab": {
          "base_uri": "https://localhost:8080/"
        },
        "id": "GBTy7AlaOjWt",
        "outputId": "7b1fa80f-c1fb-48c7-b8d6-456cf24592e8"
      },
      "source": [
        "# !pip install TPOT"
      ],
      "execution_count": 41,
      "outputs": [
        {
          "output_type": "stream",
          "text": [
            "Collecting TPOT\n",
            "\u001b[?25l  Downloading https://files.pythonhosted.org/packages/b2/55/a7185198f554ea19758e5ac4641f100c94cba4585e738e2e48e3c40a0b7f/TPOT-0.11.7-py3-none-any.whl (87kB)\n",
            "\u001b[K     |████████████████████████████████| 92kB 5.7MB/s \n",
            "\u001b[?25hCollecting deap>=1.2\n",
            "\u001b[?25l  Downloading https://files.pythonhosted.org/packages/99/d1/803c7a387d8a7e6866160b1541307f88d534da4291572fb32f69d2548afb/deap-1.3.1-cp37-cp37m-manylinux2010_x86_64.whl (157kB)\n",
            "\u001b[K     |████████████████████████████████| 163kB 11.6MB/s \n",
            "\u001b[?25hRequirement already satisfied: scipy>=1.3.1 in /usr/local/lib/python3.7/dist-packages (from TPOT) (1.4.1)\n",
            "Requirement already satisfied: numpy>=1.16.3 in /usr/local/lib/python3.7/dist-packages (from TPOT) (1.19.5)\n",
            "Requirement already satisfied: pandas>=0.24.2 in /usr/local/lib/python3.7/dist-packages (from TPOT) (1.1.5)\n",
            "Requirement already satisfied: scikit-learn>=0.22.0 in /usr/local/lib/python3.7/dist-packages (from TPOT) (0.22.2.post1)\n",
            "Requirement already satisfied: tqdm>=4.36.1 in /usr/local/lib/python3.7/dist-packages (from TPOT) (4.41.1)\n",
            "Requirement already satisfied: joblib>=0.13.2 in /usr/local/lib/python3.7/dist-packages (from TPOT) (1.0.1)\n",
            "Collecting xgboost>=1.1.0\n",
            "\u001b[?25l  Downloading https://files.pythonhosted.org/packages/23/88/f52938e30f84ae662b4a0bc63cafc095fb3e38ca2ec188b8a863f8e2c016/xgboost-1.4.1-py3-none-manylinux2010_x86_64.whl (166.7MB)\n",
            "\u001b[K     |████████████████████████████████| 166.7MB 51kB/s \n",
            "\u001b[?25hCollecting update-checker>=0.16\n",
            "  Downloading https://files.pythonhosted.org/packages/0c/ba/8dd7fa5f0b1c6a8ac62f8f57f7e794160c1f86f31c6d0fb00f582372a3e4/update_checker-0.18.0-py3-none-any.whl\n",
            "Collecting stopit>=1.1.1\n",
            "  Downloading https://files.pythonhosted.org/packages/35/58/e8bb0b0fb05baf07bbac1450c447d753da65f9701f551dca79823ce15d50/stopit-1.1.2.tar.gz\n",
            "Requirement already satisfied: python-dateutil>=2.7.3 in /usr/local/lib/python3.7/dist-packages (from pandas>=0.24.2->TPOT) (2.8.1)\n",
            "Requirement already satisfied: pytz>=2017.2 in /usr/local/lib/python3.7/dist-packages (from pandas>=0.24.2->TPOT) (2018.9)\n",
            "Requirement already satisfied: requests>=2.3.0 in /usr/local/lib/python3.7/dist-packages (from update-checker>=0.16->TPOT) (2.23.0)\n",
            "Requirement already satisfied: six>=1.5 in /usr/local/lib/python3.7/dist-packages (from python-dateutil>=2.7.3->pandas>=0.24.2->TPOT) (1.15.0)\n",
            "Requirement already satisfied: idna<3,>=2.5 in /usr/local/lib/python3.7/dist-packages (from requests>=2.3.0->update-checker>=0.16->TPOT) (2.10)\n",
            "Requirement already satisfied: certifi>=2017.4.17 in /usr/local/lib/python3.7/dist-packages (from requests>=2.3.0->update-checker>=0.16->TPOT) (2020.12.5)\n",
            "Requirement already satisfied: urllib3!=1.25.0,!=1.25.1,<1.26,>=1.21.1 in /usr/local/lib/python3.7/dist-packages (from requests>=2.3.0->update-checker>=0.16->TPOT) (1.24.3)\n",
            "Requirement already satisfied: chardet<4,>=3.0.2 in /usr/local/lib/python3.7/dist-packages (from requests>=2.3.0->update-checker>=0.16->TPOT) (3.0.4)\n",
            "Building wheels for collected packages: stopit\n",
            "  Building wheel for stopit (setup.py) ... \u001b[?25l\u001b[?25hdone\n",
            "  Created wheel for stopit: filename=stopit-1.1.2-cp37-none-any.whl size=11954 sha256=e5179eae61eb0ee22e849b55d829805c575a436803a989456ec155832273d32a\n",
            "  Stored in directory: /root/.cache/pip/wheels/3c/85/2b/2580190404636bfc63e8de3dff629c03bb795021e1983a6cc7\n",
            "Successfully built stopit\n",
            "Installing collected packages: deap, xgboost, update-checker, stopit, TPOT\n",
            "  Found existing installation: xgboost 0.90\n",
            "    Uninstalling xgboost-0.90:\n",
            "      Successfully uninstalled xgboost-0.90\n",
            "Successfully installed TPOT-0.11.7 deap-1.3.1 stopit-1.1.2 update-checker-0.18.0 xgboost-1.4.1\n"
          ],
          "name": "stdout"
        }
      ]
    },
    {
      "cell_type": "code",
      "metadata": {
        "id": "6t9qy6pJDy4b",
        "colab": {
          "base_uri": "https://localhost:8080/",
          "height": 938,
          "referenced_widgets": [
            "736e725907794b4f8bec0cebd363b3c9",
            "3f5f6f57a1c84100b9306f31150dc235",
            "50e5a006dbe34f3ab1c6a487b52cd2d3",
            "471f7de35eda4c18bab22957c26f3ca8",
            "0c53f814e87e464fbca21af9098c6ec2",
            "3b2ae2be06424e36a547a97b3fdc633f",
            "c797927e709b43d8bf7ef55e62cb060c",
            "f72817b28b8847f3b87ad85d26dd30c4"
          ]
        },
        "outputId": "02c6f878-b020-4b33-eff4-0523e1406bce"
      },
      "source": [
        "from tpot import TPOTClassifier\n",
        "\n",
        "\n",
        "tpot_classifier = TPOTClassifier(generations= 5, population_size= 24, offspring_size= 12,\n",
        "                                 verbosity= 2, early_stop= 12,\n",
        "                                 config_dict={'sklearn.ensemble.RandomForestClassifier': param}, \n",
        "                                 cv = 4, scoring = 'accuracy')\n",
        "tpot_classifier.fit(X_train,y_train)"
      ],
      "execution_count": 42,
      "outputs": [
        {
          "output_type": "display_data",
          "data": {
            "application/vnd.jupyter.widget-view+json": {
              "model_id": "736e725907794b4f8bec0cebd363b3c9",
              "version_minor": 0,
              "version_major": 2
            },
            "text/plain": [
              "HBox(children=(FloatProgress(value=0.0, description='Optimization Progress', max=84.0, style=ProgressStyle(des…"
            ]
          },
          "metadata": {
            "tags": []
          }
        },
        {
          "output_type": "stream",
          "text": [
            "\r\n",
            "Generation 1 - Current best internal CV score: 0.7557083439436381\n",
            "\n",
            "Generation 2 - Current best internal CV score: 0.7557083439436381\n",
            "\n",
            "Generation 3 - Current best internal CV score: 0.7557083439436381\n",
            "\n",
            "Generation 4 - Current best internal CV score: 0.7557401748578219\n",
            "\n",
            "Generation 5 - Current best internal CV score: 0.7557401748578219\n",
            "\n",
            "Best pipeline: RandomForestClassifier(CombineDFs(RandomForestClassifier(input_matrix, criterion=gini, max_depth=560, max_features=log2, min_samples_leaf=2, min_samples_split=5, n_estimators=1400), input_matrix), criterion=entropy, max_depth=560, max_features=log2, min_samples_leaf=8, min_samples_split=14, n_estimators=1000)\n"
          ],
          "name": "stdout"
        },
        {
          "output_type": "execute_result",
          "data": {
            "text/plain": [
              "TPOTClassifier(config_dict={'sklearn.ensemble.RandomForestClassifier': {'criterion': ['entropy',\n",
              "                                                                                      'gini'],\n",
              "                                                                        'max_depth': [10,\n",
              "                                                                                      120,\n",
              "                                                                                      230,\n",
              "                                                                                      340,\n",
              "                                                                                      450,\n",
              "                                                                                      560,\n",
              "                                                                                      670,\n",
              "                                                                                      780,\n",
              "                                                                                      890,\n",
              "                                                                                      1000],\n",
              "                                                                        'max_features': ['auto',\n",
              "                                                                                         'sqrt',\n",
              "                                                                                         'log2'],\n",
              "                                                                        'min_samples_leaf': [1,\n",
              "                                                                                             2,\n",
              "                                                                                             4,\n",
              "                                                                                             6,\n",
              "                                                                                             8],\n",
              "                                                                        'min_samples_split': [2,\n",
              "                                                                                              5,\n",
              "                                                                                              10,\n",
              "                                                                                              14],\n",
              "                                                                        'n_estimators': [200,\n",
              "                                                                                         400,\n",
              "                                                                                         600,\n",
              "                                                                                         800,\n",
              "                                                                                         1000,\n",
              "                                                                                         1200,\n",
              "                                                                                         1400,\n",
              "                                                                                         1600,\n",
              "                                                                                         1800,\n",
              "                                                                                         2000]}},\n",
              "               crossover_rate=0.1, cv=4, disable_update_check=False,\n",
              "               early_stop=12, generations=5, log_file=None,\n",
              "               max_eval_time_mins=5, max_time_mins=None, memory=None,\n",
              "               mutation_rate=0.9, n_jobs=1, offspring_size=12,\n",
              "               periodic_checkpoint_folder=None, population_size=24,\n",
              "               random_state=None, scoring='accuracy', subsample=1.0,\n",
              "               template=None, use_dask=False, verbosity=2, warm_start=False)"
            ]
          },
          "metadata": {
            "tags": []
          },
          "execution_count": 42
        }
      ]
    },
    {
      "cell_type": "code",
      "metadata": {
        "id": "QRFUvud1Dy4b",
        "colab": {
          "base_uri": "https://localhost:8080/"
        },
        "outputId": "f7f42cd7-6a90-4389-b13c-29251fb879c2"
      },
      "source": [
        "accuracy = tpot_classifier.score(X_test, y_test)\n",
        "print(accuracy)"
      ],
      "execution_count": 43,
      "outputs": [
        {
          "output_type": "stream",
          "text": [
            "0.8181818181818182\n"
          ],
          "name": "stdout"
        }
      ]
    },
    {
      "cell_type": "markdown",
      "metadata": {
        "id": "CJ-bC3Q8Dy4c"
      },
      "source": [
        "## Optimize hyperparameters of the model using Optuna\n",
        "\n",
        "The hyperparameters of the above algorithm are n_estimators and max_depth for which we can try different values to see if the model accuracy can be improved. The objective function is modified to accept a trial object. This trial has several methods for sampling hyperparameters. We create a study to run the hyperparameter optimization and finally read the best hyperparameters."
      ]
    },
    {
      "cell_type": "code",
      "metadata": {
        "colab": {
          "base_uri": "https://localhost:8080/"
        },
        "id": "BiQcWLFoUhNw",
        "outputId": "1c19e185-b48e-4e48-a00d-0f47179fb667"
      },
      "source": [
        "# !pip install optuna "
      ],
      "execution_count": 45,
      "outputs": [
        {
          "output_type": "stream",
          "text": [
            "Collecting optuna\n",
            "\u001b[?25l  Downloading https://files.pythonhosted.org/packages/2b/21/d13081805e1e1afc71f5bb743ece324c8bd576237c51b899ecb38a717502/optuna-2.7.0-py3-none-any.whl (293kB)\n",
            "\r\u001b[K     |█▏                              | 10kB 17.6MB/s eta 0:00:01\r\u001b[K     |██▎                             | 20kB 19.2MB/s eta 0:00:01\r\u001b[K     |███▍                            | 30kB 15.9MB/s eta 0:00:01\r\u001b[K     |████▌                           | 40kB 13.6MB/s eta 0:00:01\r\u001b[K     |█████▋                          | 51kB 9.1MB/s eta 0:00:01\r\u001b[K     |██████▊                         | 61kB 8.2MB/s eta 0:00:01\r\u001b[K     |███████▉                        | 71kB 9.3MB/s eta 0:00:01\r\u001b[K     |█████████                       | 81kB 10.2MB/s eta 0:00:01\r\u001b[K     |██████████                      | 92kB 10.3MB/s eta 0:00:01\r\u001b[K     |███████████▏                    | 102kB 8.6MB/s eta 0:00:01\r\u001b[K     |████████████▎                   | 112kB 8.6MB/s eta 0:00:01\r\u001b[K     |█████████████▍                  | 122kB 8.6MB/s eta 0:00:01\r\u001b[K     |██████████████▌                 | 133kB 8.6MB/s eta 0:00:01\r\u001b[K     |███████████████▋                | 143kB 8.6MB/s eta 0:00:01\r\u001b[K     |████████████████▊               | 153kB 8.6MB/s eta 0:00:01\r\u001b[K     |█████████████████▉              | 163kB 8.6MB/s eta 0:00:01\r\u001b[K     |███████████████████             | 174kB 8.6MB/s eta 0:00:01\r\u001b[K     |████████████████████            | 184kB 8.6MB/s eta 0:00:01\r\u001b[K     |█████████████████████▏          | 194kB 8.6MB/s eta 0:00:01\r\u001b[K     |██████████████████████▎         | 204kB 8.6MB/s eta 0:00:01\r\u001b[K     |███████████████████████▍        | 215kB 8.6MB/s eta 0:00:01\r\u001b[K     |████████████████████████▋       | 225kB 8.6MB/s eta 0:00:01\r\u001b[K     |█████████████████████████▊      | 235kB 8.6MB/s eta 0:00:01\r\u001b[K     |██████████████████████████▉     | 245kB 8.6MB/s eta 0:00:01\r\u001b[K     |████████████████████████████    | 256kB 8.6MB/s eta 0:00:01\r\u001b[K     |█████████████████████████████   | 266kB 8.6MB/s eta 0:00:01\r\u001b[K     |██████████████████████████████▏ | 276kB 8.6MB/s eta 0:00:01\r\u001b[K     |███████████████████████████████▎| 286kB 8.6MB/s eta 0:00:01\r\u001b[K     |████████████████████████████████| 296kB 8.6MB/s \n",
            "\u001b[?25hCollecting cmaes>=0.8.2\n",
            "  Downloading https://files.pythonhosted.org/packages/01/1f/43b01223a0366171f474320c6e966c39a11587287f098a5f09809b45e05f/cmaes-0.8.2-py3-none-any.whl\n",
            "Requirement already satisfied: packaging>=20.0 in /usr/local/lib/python3.7/dist-packages (from optuna) (20.9)\n",
            "Requirement already satisfied: sqlalchemy>=1.1.0 in /usr/local/lib/python3.7/dist-packages (from optuna) (1.4.7)\n",
            "Collecting cliff\n",
            "\u001b[?25l  Downloading https://files.pythonhosted.org/packages/a2/d6/7d9acb68a77acd140be7fececb7f2701b2a29d2da9c54184cb8f93509590/cliff-3.7.0-py3-none-any.whl (80kB)\n",
            "\u001b[K     |████████████████████████████████| 81kB 8.2MB/s \n",
            "\u001b[?25hRequirement already satisfied: scipy!=1.4.0 in /usr/local/lib/python3.7/dist-packages (from optuna) (1.4.1)\n",
            "Collecting alembic\n",
            "\u001b[?25l  Downloading https://files.pythonhosted.org/packages/72/a4/97eb6273839655cac14947986fa7a5935350fcfd4fff872e9654264c82d8/alembic-1.5.8-py2.py3-none-any.whl (159kB)\n",
            "\u001b[K     |████████████████████████████████| 163kB 14.3MB/s \n",
            "\u001b[?25hRequirement already satisfied: tqdm in /usr/local/lib/python3.7/dist-packages (from optuna) (4.41.1)\n",
            "Requirement already satisfied: numpy in /usr/local/lib/python3.7/dist-packages (from optuna) (1.19.5)\n",
            "Collecting colorlog\n",
            "  Downloading https://files.pythonhosted.org/packages/32/e6/e9ddc6fa1104fda718338b341e4b3dc31cd8039ab29e52fc73b508515361/colorlog-5.0.1-py2.py3-none-any.whl\n",
            "Requirement already satisfied: pyparsing>=2.0.2 in /usr/local/lib/python3.7/dist-packages (from packaging>=20.0->optuna) (2.4.7)\n",
            "Requirement already satisfied: importlib-metadata; python_version < \"3.8\" in /usr/local/lib/python3.7/dist-packages (from sqlalchemy>=1.1.0->optuna) (3.10.1)\n",
            "Requirement already satisfied: greenlet!=0.4.17; python_version >= \"3\" in /usr/local/lib/python3.7/dist-packages (from sqlalchemy>=1.1.0->optuna) (1.0.0)\n",
            "Collecting pbr!=2.1.0,>=2.0.0\n",
            "\u001b[?25l  Downloading https://files.pythonhosted.org/packages/fb/48/69046506f6ac61c1eaa9a0d42d22d54673b69e176d30ca98e3f61513e980/pbr-5.5.1-py2.py3-none-any.whl (106kB)\n",
            "\u001b[K     |████████████████████████████████| 112kB 17.0MB/s \n",
            "\u001b[?25hCollecting cmd2>=1.0.0\n",
            "\u001b[?25l  Downloading https://files.pythonhosted.org/packages/15/8b/15061b32332bb35ea2a2f6263d0f616779d576e82739ec8e7fcf3c94abf5/cmd2-1.5.0-py3-none-any.whl (133kB)\n",
            "\u001b[K     |████████████████████████████████| 143kB 13.6MB/s \n",
            "\u001b[?25hRequirement already satisfied: PrettyTable>=0.7.2 in /usr/local/lib/python3.7/dist-packages (from cliff->optuna) (2.1.0)\n",
            "Requirement already satisfied: PyYAML>=3.12 in /usr/local/lib/python3.7/dist-packages (from cliff->optuna) (3.13)\n",
            "Collecting stevedore>=2.0.1\n",
            "\u001b[?25l  Downloading https://files.pythonhosted.org/packages/d4/49/b602307aeac3df3384ff1fcd05da9c0376c622a6c48bb5325f28ab165b57/stevedore-3.3.0-py3-none-any.whl (49kB)\n",
            "\u001b[K     |████████████████████████████████| 51kB 6.7MB/s \n",
            "\u001b[?25hCollecting python-editor>=0.3\n",
            "  Downloading https://files.pythonhosted.org/packages/c6/d3/201fc3abe391bbae6606e6f1d598c15d367033332bd54352b12f35513717/python_editor-1.0.4-py3-none-any.whl\n",
            "Collecting Mako\n",
            "\u001b[?25l  Downloading https://files.pythonhosted.org/packages/f3/54/dbc07fbb20865d3b78fdb7cf7fa713e2cba4f87f71100074ef2dc9f9d1f7/Mako-1.1.4-py2.py3-none-any.whl (75kB)\n",
            "\u001b[K     |████████████████████████████████| 81kB 9.4MB/s \n",
            "\u001b[?25hRequirement already satisfied: python-dateutil in /usr/local/lib/python3.7/dist-packages (from alembic->optuna) (2.8.1)\n",
            "Requirement already satisfied: typing-extensions>=3.6.4; python_version < \"3.8\" in /usr/local/lib/python3.7/dist-packages (from importlib-metadata; python_version < \"3.8\"->sqlalchemy>=1.1.0->optuna) (3.7.4.3)\n",
            "Requirement already satisfied: zipp>=0.5 in /usr/local/lib/python3.7/dist-packages (from importlib-metadata; python_version < \"3.8\"->sqlalchemy>=1.1.0->optuna) (3.4.1)\n",
            "Requirement already satisfied: wcwidth>=0.1.7 in /usr/local/lib/python3.7/dist-packages (from cmd2>=1.0.0->cliff->optuna) (0.2.5)\n",
            "Requirement already satisfied: attrs>=16.3.0 in /usr/local/lib/python3.7/dist-packages (from cmd2>=1.0.0->cliff->optuna) (20.3.0)\n",
            "Collecting pyperclip>=1.6\n",
            "  Downloading https://files.pythonhosted.org/packages/a7/2c/4c64579f847bd5d539803c8b909e54ba087a79d01bb3aba433a95879a6c5/pyperclip-1.8.2.tar.gz\n",
            "Collecting colorama>=0.3.7\n",
            "  Downloading https://files.pythonhosted.org/packages/44/98/5b86278fbbf250d239ae0ecb724f8572af1c91f4a11edf4d36a206189440/colorama-0.4.4-py2.py3-none-any.whl\n",
            "Requirement already satisfied: MarkupSafe>=0.9.2 in /usr/local/lib/python3.7/dist-packages (from Mako->alembic->optuna) (1.1.1)\n",
            "Requirement already satisfied: six>=1.5 in /usr/local/lib/python3.7/dist-packages (from python-dateutil->alembic->optuna) (1.15.0)\n",
            "Building wheels for collected packages: pyperclip\n",
            "  Building wheel for pyperclip (setup.py) ... \u001b[?25l\u001b[?25hdone\n",
            "  Created wheel for pyperclip: filename=pyperclip-1.8.2-cp37-none-any.whl size=11107 sha256=e6ad66796f046dcb9af103d491656988e0f635a0e8293bd4f34513a64c2951e0\n",
            "  Stored in directory: /root/.cache/pip/wheels/25/af/b8/3407109267803f4015e1ee2ff23be0c8c19ce4008665931ee1\n",
            "Successfully built pyperclip\n",
            "Installing collected packages: cmaes, pbr, pyperclip, colorama, cmd2, stevedore, cliff, python-editor, Mako, alembic, colorlog, optuna\n",
            "Successfully installed Mako-1.1.4 alembic-1.5.8 cliff-3.7.0 cmaes-0.8.2 cmd2-1.5.0 colorama-0.4.4 colorlog-5.0.1 optuna-2.7.0 pbr-5.5.1 pyperclip-1.8.2 python-editor-1.0.4 stevedore-3.3.0\n"
          ],
          "name": "stdout"
        }
      ]
    },
    {
      "cell_type": "code",
      "metadata": {
        "id": "nAKqCTEbDy4c"
      },
      "source": [
        "import optuna\n",
        "import sklearn.svm\n",
        "def objective(trial):\n",
        "\n",
        "    classifier = trial.suggest_categorical('classifier', ['RandomForest', 'SVC'])\n",
        "    \n",
        "    if classifier == 'RandomForest':\n",
        "        n_estimators = trial.suggest_int('n_estimators', 200, 2000,10)\n",
        "        max_depth = int(trial.suggest_float('max_depth', 10, 100, log=True))\n",
        "\n",
        "        clf = sklearn.ensemble.RandomForestClassifier(\n",
        "            n_estimators=n_estimators, max_depth=max_depth)\n",
        "    else:\n",
        "        c = trial.suggest_float('svc_c', 1e-10, 1e10, log=True)\n",
        "        \n",
        "        clf = sklearn.svm.SVC(C=c, gamma='auto')\n",
        "\n",
        "    return sklearn.model_selection.cross_val_score(\n",
        "        clf,X_train,y_train, n_jobs=-1, cv=3).mean()"
      ],
      "execution_count": 46,
      "outputs": []
    },
    {
      "cell_type": "code",
      "metadata": {
        "id": "S8F-z1etDy4d",
        "colab": {
          "base_uri": "https://localhost:8080/"
        },
        "outputId": "e054fe9f-5f60-416d-b841-0591134ade7c"
      },
      "source": [
        "study = optuna.create_study(direction='maximize')\n",
        "study.optimize(objective, n_trials=100)\n",
        "\n",
        "trial = study.best_trial\n",
        "\n",
        "print('Accuracy: {}'.format(trial.value))\n",
        "print(\"Best hyperparameters: {}\".format(trial.params))"
      ],
      "execution_count": 47,
      "outputs": [
        {
          "output_type": "stream",
          "text": [
            "\u001b[32m[I 2021-04-24 19:19:43,416]\u001b[0m A new study created in memory with name: no-name-42c6bbc6-f53e-4519-94fe-d819090c9d3b\u001b[0m\n",
            "\u001b[32m[I 2021-04-24 19:19:49,605]\u001b[0m Trial 0 finished with value: 0.7426749561613263 and parameters: {'classifier': 'RandomForest', 'n_estimators': 1120, 'max_depth': 10.411784946620552}. Best is trial 0 with value: 0.7426749561613263.\u001b[0m\n",
            "\u001b[32m[I 2021-04-24 19:19:58,425]\u001b[0m Trial 1 finished with value: 0.7459190180137095 and parameters: {'classifier': 'RandomForest', 'n_estimators': 1940, 'max_depth': 37.74796497301968}. Best is trial 1 with value: 0.7459190180137095.\u001b[0m\n",
            "\u001b[32m[I 2021-04-24 19:19:58,474]\u001b[0m Trial 2 finished with value: 0.640068547744301 and parameters: {'classifier': 'SVC', 'svc_c': 7.84289580092691e-06}. Best is trial 1 with value: 0.7459190180137095.\u001b[0m\n",
            "\u001b[32m[I 2021-04-24 19:19:58,517]\u001b[0m Trial 3 finished with value: 0.640068547744301 and parameters: {'classifier': 'SVC', 'svc_c': 2.065333784350354e-09}. Best is trial 1 with value: 0.7459190180137095.\u001b[0m\n",
            "\u001b[32m[I 2021-04-24 19:20:03,753]\u001b[0m Trial 4 finished with value: 0.7491710505340348 and parameters: {'classifier': 'RandomForest', 'n_estimators': 1160, 'max_depth': 18.451389471093396}. Best is trial 4 with value: 0.7491710505340348.\u001b[0m\n",
            "\u001b[32m[I 2021-04-24 19:20:03,823]\u001b[0m Trial 5 finished with value: 0.640068547744301 and parameters: {'classifier': 'SVC', 'svc_c': 13.333148636648279}. Best is trial 4 with value: 0.7491710505340348.\u001b[0m\n",
            "\u001b[32m[I 2021-04-24 19:20:09,241]\u001b[0m Trial 6 finished with value: 0.7491869918699187 and parameters: {'classifier': 'RandomForest', 'n_estimators': 1200, 'max_depth': 14.39870201705356}. Best is trial 6 with value: 0.7491869918699187.\u001b[0m\n",
            "\u001b[32m[I 2021-04-24 19:20:09,304]\u001b[0m Trial 7 finished with value: 0.640068547744301 and parameters: {'classifier': 'SVC', 'svc_c': 3103812569.5741057}. Best is trial 6 with value: 0.7491869918699187.\u001b[0m\n",
            "\u001b[32m[I 2021-04-24 19:20:09,365]\u001b[0m Trial 8 finished with value: 0.640068547744301 and parameters: {'classifier': 'SVC', 'svc_c': 800795894.8940606}. Best is trial 6 with value: 0.7491869918699187.\u001b[0m\n",
            "\u001b[32m[I 2021-04-24 19:20:09,420]\u001b[0m Trial 9 finished with value: 0.640068547744301 and parameters: {'classifier': 'SVC', 'svc_c': 0.00784529610858743}. Best is trial 6 with value: 0.7491869918699187.\u001b[0m\n",
            "\u001b[32m[I 2021-04-24 19:20:11,334]\u001b[0m Trial 10 finished with value: 0.7410489399011637 and parameters: {'classifier': 'RandomForest', 'n_estimators': 420, 'max_depth': 94.05041021215756}. Best is trial 6 with value: 0.7491869918699187.\u001b[0m\n",
            "\u001b[32m[I 2021-04-24 19:20:16,179]\u001b[0m Trial 11 finished with value: 0.744293001753547 and parameters: {'classifier': 'RandomForest', 'n_estimators': 1080, 'max_depth': 13.75828046216173}. Best is trial 6 with value: 0.7491869918699187.\u001b[0m\n",
            "\u001b[32m[I 2021-04-24 19:20:21,814]\u001b[0m Trial 12 finished with value: 0.7475609756097561 and parameters: {'classifier': 'RandomForest', 'n_estimators': 1250, 'max_depth': 20.88867146166195}. Best is trial 6 with value: 0.7491869918699187.\u001b[0m\n",
            "\u001b[32m[I 2021-04-24 19:20:28,532]\u001b[0m Trial 13 finished with value: 0.7475450342738722 and parameters: {'classifier': 'RandomForest', 'n_estimators': 1480, 'max_depth': 23.93957307275882}. Best is trial 6 with value: 0.7491869918699187.\u001b[0m\n",
            "\u001b[32m[I 2021-04-24 19:20:31,605]\u001b[0m Trial 14 finished with value: 0.7442770604176631 and parameters: {'classifier': 'RandomForest', 'n_estimators': 680, 'max_depth': 14.816440114045994}. Best is trial 6 with value: 0.7491869918699187.\u001b[0m\n",
            "\u001b[32m[I 2021-04-24 19:20:39,085]\u001b[0m Trial 15 finished with value: 0.7524310537223019 and parameters: {'classifier': 'RandomForest', 'n_estimators': 1660, 'max_depth': 33.28550081399015}. Best is trial 15 with value: 0.7524310537223019.\u001b[0m\n",
            "\u001b[32m[I 2021-04-24 19:20:47,393]\u001b[0m Trial 16 finished with value: 0.7491790212019768 and parameters: {'classifier': 'RandomForest', 'n_estimators': 1850, 'max_depth': 45.21521284002865}. Best is trial 15 with value: 0.7524310537223019.\u001b[0m\n",
            "\u001b[32m[I 2021-04-24 19:20:54,451]\u001b[0m Trial 17 finished with value: 0.7459349593495935 and parameters: {'classifier': 'RandomForest', 'n_estimators': 1570, 'max_depth': 53.6817909692387}. Best is trial 15 with value: 0.7524310537223019.\u001b[0m\n",
            "\u001b[32m[I 2021-04-24 19:21:01,746]\u001b[0m Trial 18 finished with value: 0.7459269886816515 and parameters: {'classifier': 'RandomForest', 'n_estimators': 1620, 'max_depth': 29.060921889615635}. Best is trial 15 with value: 0.7524310537223019.\u001b[0m\n",
            "\u001b[32m[I 2021-04-24 19:21:05,359]\u001b[0m Trial 19 finished with value: 0.7459190180137095 and parameters: {'classifier': 'RandomForest', 'n_estimators': 800, 'max_depth': 64.50389272993338}. Best is trial 15 with value: 0.7524310537223019.\u001b[0m\n",
            "\u001b[32m[I 2021-04-24 19:21:11,674]\u001b[0m Trial 20 finished with value: 0.7589430894308943 and parameters: {'classifier': 'RandomForest', 'n_estimators': 1400, 'max_depth': 30.93767985387104}. Best is trial 20 with value: 0.7589430894308943.\u001b[0m\n",
            "\u001b[32m[I 2021-04-24 19:21:17,917]\u001b[0m Trial 21 finished with value: 0.7507970667941973 and parameters: {'classifier': 'RandomForest', 'n_estimators': 1390, 'max_depth': 31.62963984933487}. Best is trial 20 with value: 0.7589430894308943.\u001b[0m\n",
            "\u001b[32m[I 2021-04-24 19:21:24,311]\u001b[0m Trial 22 finished with value: 0.7491790212019768 and parameters: {'classifier': 'RandomForest', 'n_estimators': 1420, 'max_depth': 31.10323084338826}. Best is trial 20 with value: 0.7589430894308943.\u001b[0m\n",
            "\u001b[32m[I 2021-04-24 19:21:31,891]\u001b[0m Trial 23 finished with value: 0.7508050374621393 and parameters: {'classifier': 'RandomForest', 'n_estimators': 1690, 'max_depth': 37.967031893501996}. Best is trial 20 with value: 0.7589430894308943.\u001b[0m\n",
            "\u001b[32m[I 2021-04-24 19:21:39,625]\u001b[0m Trial 24 finished with value: 0.7475530049418141 and parameters: {'classifier': 'RandomForest', 'n_estimators': 1710, 'max_depth': 39.12774407409991}. Best is trial 20 with value: 0.7589430894308943.\u001b[0m\n",
            "\u001b[32m[I 2021-04-24 19:21:47,646]\u001b[0m Trial 25 finished with value: 0.7491790212019768 and parameters: {'classifier': 'RandomForest', 'n_estimators': 1790, 'max_depth': 65.89162326220966}. Best is trial 20 with value: 0.7589430894308943.\u001b[0m\n",
            "\u001b[32m[I 2021-04-24 19:21:56,179]\u001b[0m Trial 26 finished with value: 0.7410170572293958 and parameters: {'classifier': 'RandomForest', 'n_estimators': 1910, 'max_depth': 27.824369997464125}. Best is trial 20 with value: 0.7589430894308943.\u001b[0m\n",
            "\u001b[32m[I 2021-04-24 19:22:03,681]\u001b[0m Trial 27 finished with value: 0.7491790212019768 and parameters: {'classifier': 'RandomForest', 'n_estimators': 1670, 'max_depth': 41.17744294843115}. Best is trial 20 with value: 0.7589430894308943.\u001b[0m\n",
            "\u001b[32m[I 2021-04-24 19:22:09,611]\u001b[0m Trial 28 finished with value: 0.7475370636059302 and parameters: {'classifier': 'RandomForest', 'n_estimators': 1320, 'max_depth': 48.95461371927836}. Best is trial 20 with value: 0.7589430894308943.\u001b[0m\n",
            "\u001b[32m[I 2021-04-24 19:22:16,496]\u001b[0m Trial 29 finished with value: 0.7491710505340348 and parameters: {'classifier': 'RandomForest', 'n_estimators': 1530, 'max_depth': 34.858995097178685}. Best is trial 20 with value: 0.7589430894308943.\u001b[0m\n",
            "\u001b[32m[I 2021-04-24 19:22:25,475]\u001b[0m Trial 30 finished with value: 0.7491790212019768 and parameters: {'classifier': 'RandomForest', 'n_estimators': 2000, 'max_depth': 23.700093174501657}. Best is trial 20 with value: 0.7589430894308943.\u001b[0m\n",
            "\u001b[32m[I 2021-04-24 19:22:31,734]\u001b[0m Trial 31 finished with value: 0.7459429300175354 and parameters: {'classifier': 'RandomForest', 'n_estimators': 1390, 'max_depth': 31.498523178602042}. Best is trial 20 with value: 0.7589430894308943.\u001b[0m\n",
            "\u001b[32m[I 2021-04-24 19:22:36,132]\u001b[0m Trial 32 finished with value: 0.7426590148254424 and parameters: {'classifier': 'RandomForest', 'n_estimators': 970, 'max_depth': 25.819571607141064}. Best is trial 20 with value: 0.7589430894308943.\u001b[0m\n",
            "\u001b[32m[I 2021-04-24 19:22:43,970]\u001b[0m Trial 33 finished with value: 0.7475530049418141 and parameters: {'classifier': 'RandomForest', 'n_estimators': 1740, 'max_depth': 35.39668020419041}. Best is trial 20 with value: 0.7589430894308943.\u001b[0m\n",
            "\u001b[32m[I 2021-04-24 19:22:50,633]\u001b[0m Trial 34 finished with value: 0.7491710505340348 and parameters: {'classifier': 'RandomForest', 'n_estimators': 1480, 'max_depth': 55.974696367803226}. Best is trial 20 with value: 0.7589430894308943.\u001b[0m\n",
            "\u001b[32m[I 2021-04-24 19:22:56,636]\u001b[0m Trial 35 finished with value: 0.7475609756097561 and parameters: {'classifier': 'RandomForest', 'n_estimators': 1330, 'max_depth': 18.77839114071859}. Best is trial 20 with value: 0.7589430894308943.\u001b[0m\n",
            "\u001b[32m[I 2021-04-24 19:23:03,833]\u001b[0m Trial 36 finished with value: 0.7508050374621393 and parameters: {'classifier': 'RandomForest', 'n_estimators': 1610, 'max_depth': 44.74756142645789}. Best is trial 20 with value: 0.7589430894308943.\u001b[0m\n",
            "\u001b[32m[I 2021-04-24 19:23:10,931]\u001b[0m Trial 37 finished with value: 0.7491790212019768 and parameters: {'classifier': 'RandomForest', 'n_estimators': 1570, 'max_depth': 75.2166367683224}. Best is trial 20 with value: 0.7589430894308943.\u001b[0m\n",
            "\u001b[32m[I 2021-04-24 19:23:10,993]\u001b[0m Trial 38 finished with value: 0.640068547744301 and parameters: {'classifier': 'SVC', 'svc_c': 10042.40576585728}. Best is trial 20 with value: 0.7589430894308943.\u001b[0m\n",
            "\u001b[32m[I 2021-04-24 19:23:19,259]\u001b[0m Trial 39 finished with value: 0.7491790212019768 and parameters: {'classifier': 'RandomForest', 'n_estimators': 1830, 'max_depth': 47.577787616149884}. Best is trial 20 with value: 0.7589430894308943.\u001b[0m\n",
            "\u001b[32m[I 2021-04-24 19:23:28,145]\u001b[0m Trial 40 finished with value: 0.7524390243902439 and parameters: {'classifier': 'RandomForest', 'n_estimators': 1980, 'max_depth': 41.15731876949802}. Best is trial 20 with value: 0.7589430894308943.\u001b[0m\n",
            "\u001b[32m[I 2021-04-24 19:23:35,782]\u001b[0m Trial 41 finished with value: 0.7508050374621393 and parameters: {'classifier': 'RandomForest', 'n_estimators': 1700, 'max_depth': 40.869414856865745}. Best is trial 20 with value: 0.7589430894308943.\u001b[0m\n",
            "\u001b[32m[I 2021-04-24 19:23:44,694]\u001b[0m Trial 42 finished with value: 0.7524390243902439 and parameters: {'classifier': 'RandomForest', 'n_estimators': 1970, 'max_depth': 36.68978542202518}. Best is trial 20 with value: 0.7589430894308943.\u001b[0m\n",
            "\u001b[32m[I 2021-04-24 19:23:53,709]\u001b[0m Trial 43 finished with value: 0.75242308305436 and parameters: {'classifier': 'RandomForest', 'n_estimators': 1990, 'max_depth': 34.268275052780204}. Best is trial 20 with value: 0.7589430894308943.\u001b[0m\n",
            "\u001b[32m[I 2021-04-24 19:23:53,759]\u001b[0m Trial 44 finished with value: 0.640068547744301 and parameters: {'classifier': 'SVC', 'svc_c': 5.569760149012358e-10}. Best is trial 20 with value: 0.7589430894308943.\u001b[0m\n",
            "\u001b[32m[I 2021-04-24 19:24:02,754]\u001b[0m Trial 45 finished with value: 0.7459190180137095 and parameters: {'classifier': 'RandomForest', 'n_estimators': 2000, 'max_depth': 34.95067639882416}. Best is trial 20 with value: 0.7589430894308943.\u001b[0m\n",
            "\u001b[32m[I 2021-04-24 19:24:11,419]\u001b[0m Trial 46 finished with value: 0.7540730113183485 and parameters: {'classifier': 'RandomForest', 'n_estimators': 1930, 'max_depth': 27.831517489993374}. Best is trial 20 with value: 0.7589430894308943.\u001b[0m\n",
            "\u001b[32m[I 2021-04-24 19:24:19,993]\u001b[0m Trial 47 finished with value: 0.7426669854933844 and parameters: {'classifier': 'RandomForest', 'n_estimators': 1920, 'max_depth': 26.224872002239554}. Best is trial 20 with value: 0.7589430894308943.\u001b[0m\n",
            "\u001b[32m[I 2021-04-24 19:24:20,057]\u001b[0m Trial 48 finished with value: 0.640068547744301 and parameters: {'classifier': 'SVC', 'svc_c': 118212.61483188607}. Best is trial 20 with value: 0.7589430894308943.\u001b[0m\n",
            "\u001b[32m[I 2021-04-24 19:24:28,469]\u001b[0m Trial 49 finished with value: 0.7524390243902439 and parameters: {'classifier': 'RandomForest', 'n_estimators': 1880, 'max_depth': 21.49646606938084}. Best is trial 20 with value: 0.7589430894308943.\u001b[0m\n",
            "\u001b[32m[I 2021-04-24 19:24:37,086]\u001b[0m Trial 50 finished with value: 0.7491710505340348 and parameters: {'classifier': 'RandomForest', 'n_estimators': 1910, 'max_depth': 21.979601623005923}. Best is trial 20 with value: 0.7589430894308943.\u001b[0m\n",
            "\u001b[32m[I 2021-04-24 19:24:45,315]\u001b[0m Trial 51 finished with value: 0.744293001753547 and parameters: {'classifier': 'RandomForest', 'n_estimators': 1830, 'max_depth': 18.39248951404051}. Best is trial 20 with value: 0.7589430894308943.\u001b[0m\n",
            "\u001b[32m[I 2021-04-24 19:24:54,249]\u001b[0m Trial 52 finished with value: 0.7475530049418141 and parameters: {'classifier': 'RandomForest', 'n_estimators': 2000, 'max_depth': 20.310322343905852}. Best is trial 20 with value: 0.7589430894308943.\u001b[0m\n",
            "\u001b[32m[I 2021-04-24 19:25:02,199]\u001b[0m Trial 53 finished with value: 0.7491869918699187 and parameters: {'classifier': 'RandomForest', 'n_estimators': 1780, 'max_depth': 28.994193750455274}. Best is trial 20 with value: 0.7589430894308943.\u001b[0m\n",
            "\u001b[32m[I 2021-04-24 19:25:10,690]\u001b[0m Trial 54 finished with value: 0.7508050374621393 and parameters: {'classifier': 'RandomForest', 'n_estimators': 1900, 'max_depth': 16.50585968182111}. Best is trial 20 with value: 0.7589430894308943.\u001b[0m\n",
            "\u001b[32m[I 2021-04-24 19:25:19,052]\u001b[0m Trial 55 finished with value: 0.7475530049418141 and parameters: {'classifier': 'RandomForest', 'n_estimators': 1860, 'max_depth': 23.990628117071836}. Best is trial 20 with value: 0.7589430894308943.\u001b[0m\n",
            "\u001b[32m[I 2021-04-24 19:25:20,436]\u001b[0m Trial 56 finished with value: 0.744300972421489 and parameters: {'classifier': 'RandomForest', 'n_estimators': 300, 'max_depth': 30.644728975605794}. Best is trial 20 with value: 0.7589430894308943.\u001b[0m\n",
            "\u001b[32m[I 2021-04-24 19:25:25,489]\u001b[0m Trial 57 finished with value: 0.7459349593495935 and parameters: {'classifier': 'RandomForest', 'n_estimators': 1120, 'max_depth': 26.785987984611115}. Best is trial 20 with value: 0.7589430894308943.\u001b[0m\n",
            "\u001b[32m[I 2021-04-24 19:25:34,455]\u001b[0m Trial 58 finished with value: 0.75242308305436 and parameters: {'classifier': 'RandomForest', 'n_estimators': 2000, 'max_depth': 33.275267151287075}. Best is trial 20 with value: 0.7589430894308943.\u001b[0m\n",
            "\u001b[32m[I 2021-04-24 19:25:42,506]\u001b[0m Trial 59 finished with value: 0.7524310537223019 and parameters: {'classifier': 'RandomForest', 'n_estimators': 1800, 'max_depth': 42.91203200881343}. Best is trial 20 with value: 0.7589430894308943.\u001b[0m\n",
            "\u001b[32m[I 2021-04-24 19:25:46,992]\u001b[0m Trial 60 finished with value: 0.7475689462776981 and parameters: {'classifier': 'RandomForest', 'n_estimators': 1000, 'max_depth': 11.459762625786693}. Best is trial 20 with value: 0.7589430894308943.\u001b[0m\n",
            "\u001b[32m[I 2021-04-24 19:25:55,138]\u001b[0m Trial 61 finished with value: 0.7491869918699187 and parameters: {'classifier': 'RandomForest', 'n_estimators': 1810, 'max_depth': 43.371884907180494}. Best is trial 20 with value: 0.7589430894308943.\u001b[0m\n",
            "\u001b[32m[I 2021-04-24 19:26:03,029]\u001b[0m Trial 62 finished with value: 0.7508130081300813 and parameters: {'classifier': 'RandomForest', 'n_estimators': 1760, 'max_depth': 53.12383405076878}. Best is trial 20 with value: 0.7589430894308943.\u001b[0m\n",
            "\u001b[32m[I 2021-04-24 19:26:10,350]\u001b[0m Trial 63 finished with value: 0.744293001753547 and parameters: {'classifier': 'RandomForest', 'n_estimators': 1630, 'max_depth': 38.04503167793494}. Best is trial 20 with value: 0.7589430894308943.\u001b[0m\n",
            "\u001b[32m[I 2021-04-24 19:26:19,199]\u001b[0m Trial 64 finished with value: 0.7508130081300813 and parameters: {'classifier': 'RandomForest', 'n_estimators': 1960, 'max_depth': 37.1972866666379}. Best is trial 20 with value: 0.7589430894308943.\u001b[0m\n",
            "\u001b[32m[I 2021-04-24 19:26:27,547]\u001b[0m Trial 65 finished with value: 0.7475530049418141 and parameters: {'classifier': 'RandomForest', 'n_estimators': 1860, 'max_depth': 29.526232971225024}. Best is trial 20 with value: 0.7589430894308943.\u001b[0m\n",
            "\u001b[32m[I 2021-04-24 19:26:33,073]\u001b[0m Trial 66 finished with value: 0.7491869918699187 and parameters: {'classifier': 'RandomForest', 'n_estimators': 1230, 'max_depth': 42.09487059996802}. Best is trial 20 with value: 0.7589430894308943.\u001b[0m\n",
            "\u001b[32m[I 2021-04-24 19:26:39,722]\u001b[0m Trial 67 finished with value: 0.744300972421489 and parameters: {'classifier': 'RandomForest', 'n_estimators': 1470, 'max_depth': 24.515736910515752}. Best is trial 20 with value: 0.7589430894308943.\u001b[0m\n",
            "\u001b[32m[I 2021-04-24 19:26:47,566]\u001b[0m Trial 68 finished with value: 0.7491790212019768 and parameters: {'classifier': 'RandomForest', 'n_estimators': 1740, 'max_depth': 49.37152691868561}. Best is trial 20 with value: 0.7589430894308943.\u001b[0m\n",
            "\u001b[32m[I 2021-04-24 19:26:47,614]\u001b[0m Trial 69 finished with value: 0.640068547744301 and parameters: {'classifier': 'SVC', 'svc_c': 5.9448891243288525e-06}. Best is trial 20 with value: 0.7589430894308943.\u001b[0m\n",
            "\u001b[32m[I 2021-04-24 19:26:55,043]\u001b[0m Trial 70 finished with value: 0.744300972421489 and parameters: {'classifier': 'RandomForest', 'n_estimators': 1660, 'max_depth': 22.04431411786769}. Best is trial 20 with value: 0.7589430894308943.\u001b[0m\n",
            "\u001b[32m[I 2021-04-24 19:27:03,892]\u001b[0m Trial 71 finished with value: 0.75242308305436 and parameters: {'classifier': 'RandomForest', 'n_estimators': 1960, 'max_depth': 33.050784019380615}. Best is trial 20 with value: 0.7589430894308943.\u001b[0m\n",
            "\u001b[32m[I 2021-04-24 19:27:12,590]\u001b[0m Trial 72 finished with value: 0.7508130081300813 and parameters: {'classifier': 'RandomForest', 'n_estimators': 1940, 'max_depth': 31.96578094836321}. Best is trial 20 with value: 0.7589430894308943.\u001b[0m\n",
            "\u001b[32m[I 2021-04-24 19:27:21,007]\u001b[0m Trial 73 finished with value: 0.7459190180137095 and parameters: {'classifier': 'RandomForest', 'n_estimators': 1880, 'max_depth': 36.37656943568815}. Best is trial 20 with value: 0.7589430894308943.\u001b[0m\n",
            "\u001b[32m[I 2021-04-24 19:27:29,695]\u001b[0m Trial 74 finished with value: 0.7459269886816515 and parameters: {'classifier': 'RandomForest', 'n_estimators': 1940, 'max_depth': 28.92825039501816}. Best is trial 20 with value: 0.7589430894308943.\u001b[0m\n",
            "\u001b[32m[I 2021-04-24 19:27:38,006]\u001b[0m Trial 75 finished with value: 0.7540730113183485 and parameters: {'classifier': 'RandomForest', 'n_estimators': 1850, 'max_depth': 32.82765966031262}. Best is trial 20 with value: 0.7589430894308943.\u001b[0m\n",
            "\u001b[32m[I 2021-04-24 19:27:46,043]\u001b[0m Trial 76 finished with value: 0.7475530049418141 and parameters: {'classifier': 'RandomForest', 'n_estimators': 1790, 'max_depth': 46.58237993759249}. Best is trial 20 with value: 0.7589430894308943.\u001b[0m\n",
            "\u001b[32m[I 2021-04-24 19:27:53,773]\u001b[0m Trial 77 finished with value: 0.7491790212019768 and parameters: {'classifier': 'RandomForest', 'n_estimators': 1710, 'max_depth': 39.78465675621049}. Best is trial 20 with value: 0.7589430894308943.\u001b[0m\n",
            "\u001b[32m[I 2021-04-24 19:28:00,871]\u001b[0m Trial 78 finished with value: 0.7459269886816515 and parameters: {'classifier': 'RandomForest', 'n_estimators': 1580, 'max_depth': 39.3642065977266}. Best is trial 20 with value: 0.7589430894308943.\u001b[0m\n",
            "\u001b[32m[I 2021-04-24 19:28:07,678]\u001b[0m Trial 79 finished with value: 0.7475609756097561 and parameters: {'classifier': 'RandomForest', 'n_estimators': 1520, 'max_depth': 27.830220734342422}. Best is trial 20 with value: 0.7589430894308943.\u001b[0m\n",
            "\u001b[32m[I 2021-04-24 19:28:15,992]\u001b[0m Trial 80 finished with value: 0.7573170731707317 and parameters: {'classifier': 'RandomForest', 'n_estimators': 1850, 'max_depth': 30.752328487400646}. Best is trial 20 with value: 0.7589430894308943.\u001b[0m\n",
            "\u001b[32m[I 2021-04-24 19:28:24,263]\u001b[0m Trial 81 finished with value: 0.7540570699824646 and parameters: {'classifier': 'RandomForest', 'n_estimators': 1850, 'max_depth': 31.153105388405532}. Best is trial 20 with value: 0.7589430894308943.\u001b[0m\n",
            "\u001b[32m[I 2021-04-24 19:28:32,646]\u001b[0m Trial 82 finished with value: 0.7491790212019768 and parameters: {'classifier': 'RandomForest', 'n_estimators': 1860, 'max_depth': 32.013255249768996}. Best is trial 20 with value: 0.7589430894308943.\u001b[0m\n",
            "\u001b[32m[I 2021-04-24 19:28:40,636]\u001b[0m Trial 83 finished with value: 0.7507970667941973 and parameters: {'classifier': 'RandomForest', 'n_estimators': 1780, 'max_depth': 25.29982975799258}. Best is trial 20 with value: 0.7589430894308943.\u001b[0m\n",
            "\u001b[32m[I 2021-04-24 19:28:49,098]\u001b[0m Trial 84 finished with value: 0.744293001753547 and parameters: {'classifier': 'RandomForest', 'n_estimators': 1890, 'max_depth': 27.679671938865432}. Best is trial 20 with value: 0.7589430894308943.\u001b[0m\n",
            "\u001b[32m[I 2021-04-24 19:28:51,574]\u001b[0m Trial 85 finished with value: 0.7556910569105691 and parameters: {'classifier': 'RandomForest', 'n_estimators': 550, 'max_depth': 35.47046407792795}. Best is trial 20 with value: 0.7589430894308943.\u001b[0m\n",
            "\u001b[32m[I 2021-04-24 19:29:00,610]\u001b[0m Trial 86 finished with value: 0.7475450342738722 and parameters: {'classifier': 'RandomForest', 'n_estimators': 2000, 'max_depth': 36.0842163415222}. Best is trial 20 with value: 0.7589430894308943.\u001b[0m\n",
            "\u001b[32m[I 2021-04-24 19:29:04,853]\u001b[0m Trial 87 finished with value: 0.7508130081300813 and parameters: {'classifier': 'RandomForest', 'n_estimators': 940, 'max_depth': 30.31146322035795}. Best is trial 20 with value: 0.7589430894308943.\u001b[0m\n",
            "\u001b[32m[I 2021-04-24 19:29:07,212]\u001b[0m Trial 88 finished with value: 0.7459190180137095 and parameters: {'classifier': 'RandomForest', 'n_estimators': 520, 'max_depth': 22.49940711696783}. Best is trial 20 with value: 0.7589430894308943.\u001b[0m\n",
            "\u001b[32m[I 2021-04-24 19:29:07,280]\u001b[0m Trial 89 finished with value: 0.640068547744301 and parameters: {'classifier': 'SVC', 'svc_c': 2089858.5013663496}. Best is trial 20 with value: 0.7589430894308943.\u001b[0m\n",
            "\u001b[32m[I 2021-04-24 19:29:10,117]\u001b[0m Trial 90 finished with value: 0.7491790212019768 and parameters: {'classifier': 'RandomForest', 'n_estimators': 620, 'max_depth': 33.89970363922064}. Best is trial 20 with value: 0.7589430894308943.\u001b[0m\n",
            "\u001b[32m[I 2021-04-24 19:29:13,623]\u001b[0m Trial 91 finished with value: 0.7459269886816515 and parameters: {'classifier': 'RandomForest', 'n_estimators': 780, 'max_depth': 30.637666625308615}. Best is trial 20 with value: 0.7589430894308943.\u001b[0m\n",
            "\u001b[32m[I 2021-04-24 19:29:21,766]\u001b[0m Trial 92 finished with value: 0.7508050374621393 and parameters: {'classifier': 'RandomForest', 'n_estimators': 1820, 'max_depth': 38.21636338126818}. Best is trial 20 with value: 0.7589430894308943.\u001b[0m\n",
            "\u001b[32m[I 2021-04-24 19:29:29,536]\u001b[0m Trial 93 finished with value: 0.7508130081300813 and parameters: {'classifier': 'RandomForest', 'n_estimators': 1730, 'max_depth': 28.290686406154023}. Best is trial 20 with value: 0.7589430894308943.\u001b[0m\n",
            "\u001b[32m[I 2021-04-24 19:29:30,589]\u001b[0m Trial 94 finished with value: 0.7410569105691057 and parameters: {'classifier': 'RandomForest', 'n_estimators': 230, 'max_depth': 35.531512267524846}. Best is trial 20 with value: 0.7589430894308943.\u001b[0m\n",
            "\u001b[32m[I 2021-04-24 19:29:36,511]\u001b[0m Trial 95 finished with value: 0.7459190180137095 and parameters: {'classifier': 'RandomForest', 'n_estimators': 1310, 'max_depth': 42.46129123642031}. Best is trial 20 with value: 0.7589430894308943.\u001b[0m\n",
            "\u001b[32m[I 2021-04-24 19:29:45,288]\u001b[0m Trial 96 finished with value: 0.7491790212019768 and parameters: {'classifier': 'RandomForest', 'n_estimators': 1950, 'max_depth': 20.419122900862416}. Best is trial 20 with value: 0.7589430894308943.\u001b[0m\n",
            "\u001b[32m[I 2021-04-24 19:29:53,807]\u001b[0m Trial 97 finished with value: 0.7459269886816515 and parameters: {'classifier': 'RandomForest', 'n_estimators': 1900, 'max_depth': 32.96216800791924}. Best is trial 20 with value: 0.7589430894308943.\u001b[0m\n",
            "\u001b[32m[I 2021-04-24 19:30:02,136]\u001b[0m Trial 98 finished with value: 0.7508050374621393 and parameters: {'classifier': 'RandomForest', 'n_estimators': 1850, 'max_depth': 44.85691515217516}. Best is trial 20 with value: 0.7589430894308943.\u001b[0m\n",
            "\u001b[32m[I 2021-04-24 19:30:09,585]\u001b[0m Trial 99 finished with value: 0.7491790212019768 and parameters: {'classifier': 'RandomForest', 'n_estimators': 1660, 'max_depth': 26.601237496376065}. Best is trial 20 with value: 0.7589430894308943.\u001b[0m\n"
          ],
          "name": "stderr"
        },
        {
          "output_type": "stream",
          "text": [
            "Accuracy: 0.7589430894308943\n",
            "Best hyperparameters: {'classifier': 'RandomForest', 'n_estimators': 1400, 'max_depth': 30.93767985387104}\n"
          ],
          "name": "stdout"
        }
      ]
    },
    {
      "cell_type": "code",
      "metadata": {
        "id": "YEf1zaxRDy4d",
        "colab": {
          "base_uri": "https://localhost:8080/"
        },
        "outputId": "b889feea-8886-48cc-f1a9-3c08267e8f78"
      },
      "source": [
        "trial"
      ],
      "execution_count": 48,
      "outputs": [
        {
          "output_type": "execute_result",
          "data": {
            "text/plain": [
              "FrozenTrial(number=20, values=[0.7589430894308943], datetime_start=datetime.datetime(2021, 4, 24, 19, 21, 5, 361743), datetime_complete=datetime.datetime(2021, 4, 24, 19, 21, 11, 673540), params={'classifier': 'RandomForest', 'n_estimators': 1400, 'max_depth': 30.93767985387104}, distributions={'classifier': CategoricalDistribution(choices=('RandomForest', 'SVC')), 'n_estimators': IntUniformDistribution(high=2000, low=200, step=10), 'max_depth': LogUniformDistribution(high=100.0, low=10.0)}, user_attrs={}, system_attrs={}, intermediate_values={}, trial_id=20, state=TrialState.COMPLETE, value=None)"
            ]
          },
          "metadata": {
            "tags": []
          },
          "execution_count": 48
        }
      ]
    },
    {
      "cell_type": "code",
      "metadata": {
        "id": "igy-4lZcDy4d",
        "colab": {
          "base_uri": "https://localhost:8080/"
        },
        "outputId": "dc6ce89b-dd22-479b-d877-5fdf6e726613"
      },
      "source": [
        "study.best_params"
      ],
      "execution_count": 49,
      "outputs": [
        {
          "output_type": "execute_result",
          "data": {
            "text/plain": [
              "{'classifier': 'RandomForest',\n",
              " 'max_depth': 30.93767985387104,\n",
              " 'n_estimators': 1400}"
            ]
          },
          "metadata": {
            "tags": []
          },
          "execution_count": 49
        }
      ]
    },
    {
      "cell_type": "code",
      "metadata": {
        "id": "P5f0NqUzDy4d",
        "colab": {
          "base_uri": "https://localhost:8080/"
        },
        "outputId": "efcd59d1-9f6f-429c-e810-9467f4c5aabe"
      },
      "source": [
        "rf=RandomForestClassifier(n_estimators=330,max_depth=30)\n",
        "rf.fit(X_train,y_train)"
      ],
      "execution_count": 50,
      "outputs": [
        {
          "output_type": "execute_result",
          "data": {
            "text/plain": [
              "RandomForestClassifier(bootstrap=True, ccp_alpha=0.0, class_weight=None,\n",
              "                       criterion='gini', max_depth=30, max_features='auto',\n",
              "                       max_leaf_nodes=None, max_samples=None,\n",
              "                       min_impurity_decrease=0.0, min_impurity_split=None,\n",
              "                       min_samples_leaf=1, min_samples_split=2,\n",
              "                       min_weight_fraction_leaf=0.0, n_estimators=330,\n",
              "                       n_jobs=None, oob_score=False, random_state=None,\n",
              "                       verbose=0, warm_start=False)"
            ]
          },
          "metadata": {
            "tags": []
          },
          "execution_count": 50
        }
      ]
    },
    {
      "cell_type": "code",
      "metadata": {
        "id": "k0X2GV9dDy4e",
        "colab": {
          "base_uri": "https://localhost:8080/"
        },
        "outputId": "36924fc8-203d-4027-96bc-843a1104d63f"
      },
      "source": [
        "y_pred=rf.predict(X_test)\n",
        "\n",
        "print(confusion_matrix(y_test,y_pred))\n",
        "\n",
        "print(accuracy_score(y_test,y_pred))\n",
        "\n",
        "print(classification_report(y_test,y_pred))"
      ],
      "execution_count": 51,
      "outputs": [
        {
          "output_type": "stream",
          "text": [
            "[[95 12]\n",
            " [16 31]]\n",
            "0.8181818181818182\n",
            "              precision    recall  f1-score   support\n",
            "\n",
            "           0       0.86      0.89      0.87       107\n",
            "           1       0.72      0.66      0.69        47\n",
            "\n",
            "    accuracy                           0.82       154\n",
            "   macro avg       0.79      0.77      0.78       154\n",
            "weighted avg       0.81      0.82      0.82       154\n",
            "\n"
          ],
          "name": "stdout"
        }
      ]
    }
  ]
}